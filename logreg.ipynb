{
 "cells": [
  {
   "cell_type": "code",
   "execution_count": 1,
   "metadata": {},
   "outputs": [],
   "source": [
    "import pandas as pd\n",
    "import numpy as np\n",
    "from sklearn.model_selection import train_test_split\n",
    "\n",
    "X = pd.read_csv('LogReg/X.csv')\n",
    "y = pd.read_csv('LogReg/y.csv')\n",
    "X_train, X_test, y_train, y_test = train_test_split(X, y, test_size=0.3, random_state=100)"
   ]
  },
  {
   "cell_type": "markdown",
   "metadata": {},
   "source": [
    "# Preprocessing"
   ]
  },
  {
   "cell_type": "code",
   "execution_count": 2,
   "metadata": {},
   "outputs": [],
   "source": [
    "''' \n",
    "Function to scale data without altering nominal features.\n",
    "Takes 'df' (a dataframe) and 'nominal' (a list of nominal feature names).\n",
    "Returns the transformed dataframe. \n",
    "'''\n",
    "\n",
    "from sklearn.preprocessing import MinMaxScaler\n",
    "\n",
    "def scale(df, nominal):\n",
    "\n",
    "    scaler = MinMaxScaler()\n",
    "\n",
    "    for var in df.columns:\n",
    "            \n",
    "        if var not in nominal:\n",
    "            raw = df[var].to_numpy()\n",
    "            raw = raw.reshape(-1, 1)\n",
    "\n",
    "            scaler.fit(raw)\n",
    "            scaled = scaler.transform(raw)\n",
    "            df[var] = scaled\n",
    "\n",
    "    return df\n",
    "\n",
    "nominal = ['Marital status', 'Application mode', 'Course',\n",
    "           'Daytime/evening attendance', 'Previous qualification',\n",
    "           'Nationality', \"Mother's qualification\", \"Father's qualification\",\n",
    "           \"Mother's occupation\", \"Father's occupation\", 'Displaced', \n",
    "           'Educational special needs', 'Debtor', 'Tuition fees up to date', \n",
    "           'Gender', 'Scholarship holder', 'International']\n",
    "\n",
    "X = scale(X, nominal)\n",
    "X_train = scale(X_train, nominal)\n",
    "X_test = scale(X_test, nominal)"
   ]
  },
  {
   "cell_type": "code",
   "execution_count": 3,
   "metadata": {},
   "outputs": [],
   "source": [
    "from category_encoders import TargetEncoder\n",
    "\n",
    "encoder = TargetEncoder(cols=nominal)\n",
    "\n",
    "# by only fitting the encoder to the training data, we will be able to see if target leakage is occurring\n",
    "encoder = encoder.fit(X_train, y_train)\n",
    "\n",
    "X_train_encoded = encoder.transform(X_train)\n",
    "X_test_encoded = encoder.transform(X_test)\n"
   ]
  },
  {
   "cell_type": "markdown",
   "metadata": {},
   "source": [
    "# Feature Selection"
   ]
  },
  {
   "cell_type": "markdown",
   "metadata": {},
   "source": [
    "The logistic regression model assumptions require us to perform feature selection before building and tuning a model, especially for the purpose of avoiding multicollinearity.<br>\n",
    "\n",
    "The process for feature selection isn't straightforward due to the mix of nominal and interval features. <br>\n",
    "This eliminates wrapper methods like recursive feature elimination because of how the nominal features must be encoded: <br>\n",
    " - One-hot/dummy encoding will cause the algorithm to misinterpret the levels of a feature as different features.  <br>\n",
    " - Label encoding will cause the algorithm to misinterpret the nominal features as ordinal. <br>\n",
    " \n",
    "We can use filter methods based on statistics like mutual information, but this requires a good deal of subjective interpretation. What is the acceptable threshold? <br>\n",
    "Tree-based algorithms are the most rigorous approach out of all the supervised methods due to their flexibility. We will use *boruta* and *permutation importance* and compare the results. <br>\n",
    "The problem with these methods is that they won't account for multicollinearity and are prone to selecting highly correlated features. We will need to investigate this afterward.<br>"
   ]
  },
  {
   "cell_type": "markdown",
   "metadata": {},
   "source": [
    "Boruta:"
   ]
  },
  {
   "cell_type": "code",
   "execution_count": 4,
   "metadata": {},
   "outputs": [
    {
     "data": {
      "text/plain": [
       "['Application mode',\n",
       " 'Course',\n",
       " 'Previous qualification (grade)',\n",
       " \"Father's occupation\",\n",
       " 'Admission grade',\n",
       " 'Debtor',\n",
       " 'Tuition fees up to date',\n",
       " 'Scholarship holder',\n",
       " 'Age at enrollment',\n",
       " 'Curricular units 1st sem (enrolled)',\n",
       " 'Curricular units 1st sem (evaluations)',\n",
       " 'Curricular units 1st sem (approved)',\n",
       " 'Curricular units 1st sem (grade)',\n",
       " 'Curricular units 2nd sem (enrolled)',\n",
       " 'Curricular units 2nd sem (evaluations)',\n",
       " 'Curricular units 2nd sem (approved)',\n",
       " 'Curricular units 2nd sem (grade)']"
      ]
     },
     "execution_count": 4,
     "metadata": {},
     "output_type": "execute_result"
    }
   ],
   "source": [
    "# BORUTA\n",
    "# use data that is NOT target encoded\n",
    "\n",
    "from sklearn.ensemble import RandomForestClassifier\n",
    "from boruta import BorutaPy\n",
    "\n",
    "# BorutyPy expects numpy arrays\n",
    "X_train_np = X_train.values\n",
    "y_train_np = y_train.values\n",
    "y_train_np = y_train_np.ravel()\n",
    "y_test_np = y_test.to_numpy()\n",
    "y_test_np = y_test_np.ravel()\n",
    "\n",
    "# fit random forest classifier\n",
    "rf = RandomForestClassifier(n_jobs=-1, class_weight={0:0.7, 1:0.3}, max_depth=5)\n",
    "rf.fit(X_train_np, y_train_np)\n",
    "\n",
    "# initialize and fit Boruta selector\n",
    "feat_selector = BorutaPy(rf, n_estimators='auto', random_state=1)\n",
    "feat_selector.fit(X_train_np, y_train_np)\n",
    "\n",
    "# display selected features\n",
    "boruta_subset = [feature for feature, keep in zip(X_train.columns, feat_selector.support_) if keep]\n",
    "boruta_subset"
   ]
  },
  {
   "cell_type": "markdown",
   "metadata": {},
   "source": [
    "Permutation importance:"
   ]
  },
  {
   "cell_type": "code",
   "execution_count": 5,
   "metadata": {},
   "outputs": [
    {
     "name": "stdout",
     "output_type": "stream",
     "text": [
      "Curricular units 2nd sem (approved): 1.51e+02\n",
      "Tuition fees up to date: 37.9\n",
      "Curricular units 1st sem (enrolled): 14.9\n",
      "Curricular units 1st sem (approved): 7.93\n",
      "Curricular units 2nd sem (grade): 6.69\n",
      "Curricular units 2nd sem (enrolled): 6.32\n",
      "Curricular units 1st sem (grade): 2.9\n",
      "Course: 2.31\n",
      "Father's occupation: 2.02\n",
      "Scholarship holder: 1.85\n",
      "Unemployment rate: 1.58\n",
      "Inflation rate: 1.25\n",
      "Debtor: 1.24\n",
      "Curricular units 2nd sem (evaluations): 1.09\n",
      "Father's qualification: 1.09\n",
      "Admission grade: 0.969\n",
      "Previous qualification: 0.947\n",
      "Displaced: 0.915\n",
      "Age at enrollment: 0.732\n",
      "Daytime/evening attendance: 0.668\n",
      "Mother's qualification: 0.657\n",
      "Curricular units 1st sem (evaluations): 0.635\n",
      "GDP: 0.581\n",
      "Previous qualification (grade): 0.301\n",
      "Application mode: 0.291\n",
      "International: 0.0323\n",
      "Nationality: 0.0215\n",
      "Educational special needs: 0.0\n",
      "Application order: -0.323\n",
      "Marital status: -0.441\n",
      "Gender: -0.474\n",
      "Mother's occupation: -0.614\n"
     ]
    }
   ],
   "source": [
    "from sklearn.inspection import permutation_importance\n",
    "from sklearn.linear_model import LogisticRegression\n",
    "\n",
    "# initialize basic logit classifier\n",
    "clf = LogisticRegression(solver='newton-cholesky').fit(X_train_encoded, y_train_np) \n",
    "\n",
    "# initialize permutation importance\n",
    "pi = permutation_importance(clf, X_train_encoded, y_train_np,\n",
    "                           n_repeats=30,\n",
    "                           random_state=1)\n",
    "\n",
    "# display results\n",
    "for i in pi.importances_mean.argsort()[::-1]:\n",
    "    print(f\"{X_train.columns[i]}: {pi.importances_mean[i]*1000:.3}\") #multiply mean importance by 1000 for better readability\n",
    "\n",
    "# something about the multiplication causes the output to display 1.52e+02 as the highest importance value\n",
    "# 1.52e+02 = 152\n"
   ]
  },
  {
   "cell_type": "markdown",
   "metadata": {},
   "source": [
    "Let's pick the features with importance >= 1."
   ]
  },
  {
   "cell_type": "code",
   "execution_count": 6,
   "metadata": {},
   "outputs": [
    {
     "data": {
      "text/plain": [
       "['Course',\n",
       " \"Father's qualification\",\n",
       " \"Father's occupation\",\n",
       " 'Debtor',\n",
       " 'Tuition fees up to date',\n",
       " 'Scholarship holder',\n",
       " 'Curricular units 1st sem (enrolled)',\n",
       " 'Curricular units 1st sem (approved)',\n",
       " 'Curricular units 1st sem (grade)',\n",
       " 'Curricular units 2nd sem (enrolled)',\n",
       " 'Curricular units 2nd sem (evaluations)',\n",
       " 'Curricular units 2nd sem (approved)',\n",
       " 'Curricular units 2nd sem (grade)',\n",
       " 'Unemployment rate',\n",
       " 'Inflation rate']"
      ]
     },
     "execution_count": 6,
     "metadata": {},
     "output_type": "execute_result"
    }
   ],
   "source": [
    "pi_subset = [col for col, var in zip(X_train.columns, pi.importances_mean) if var*1000 >= 1.0]\n",
    "pi_subset"
   ]
  },
  {
   "cell_type": "markdown",
   "metadata": {},
   "source": [
    "Now let's test the subsets and compare accuracy. Since adding more features usually results in better accuracy, we'll test the full feature space as well. We'll add roc-auc plots to see how generalizable each fit is, and to make sure that the full feature space isn't causing overfitting."
   ]
  },
  {
   "cell_type": "code",
   "execution_count": 7,
   "metadata": {},
   "outputs": [
    {
     "data": {
      "image/png": "[encoded data removed]",
      "text/plain": [
       "<Figure size 640x480 with 1 Axes>"
      ]
     },
     "metadata": {},
     "output_type": "display_data"
    },
    {
     "name": "stdout",
     "output_type": "stream",
     "text": [
      "Boruta accuracy: 0.8697289156626506\n"
     ]
    }
   ],
   "source": [
    "# BORUTA TEST\n",
    "\n",
    "from sklearn.linear_model import LogisticRegressionCV\n",
    "\n",
    "# subset data\n",
    "X_train_boruta = X_train_encoded[boruta_subset]\n",
    "X_test_boruta = X_test_encoded[boruta_subset]\n",
    "\n",
    "# get accuracy score\n",
    "clf = LogisticRegressionCV(random_state=1, class_weight={0:0.7, 1:0.3}, solver='newton-cholesky').fit(X_train_boruta, y_train_np)\n",
    "score = clf.score(X_test_boruta, y_test_np)\n",
    "\n",
    "# ROC\n",
    "import matplotlib.pyplot as plt\n",
    "from sklearn.metrics import RocCurveDisplay\n",
    "\n",
    "fig, ax = plt.subplots()\n",
    "\n",
    "test_auc = RocCurveDisplay.from_estimator(clf, X_test_boruta, y_test, ax=ax, name='Test')\n",
    "train_auc = RocCurveDisplay.from_estimator(clf, X_train_boruta, y_train, ax=ax, name='Train')\n",
    "\n",
    "plt.show()\n",
    "\n",
    "print(f'Boruta accuracy: {score}')"
   ]
  },
  {
   "cell_type": "code",
   "execution_count": 8,
   "metadata": {},
   "outputs": [
    {
     "data": {
      "image/png": "[encoded data removed]",
      "text/plain": [
       "<Figure size 640x480 with 1 Axes>"
      ]
     },
     "metadata": {},
     "output_type": "display_data"
    },
    {
     "name": "stdout",
     "output_type": "stream",
     "text": [
      "Permuation importance accuracy: 0.8682228915662651\n"
     ]
    }
   ],
   "source": [
    "# PERMUTATION IMPORTANCE TEST\n",
    "\n",
    "# subset data\n",
    "X_train_pi = X_train_encoded[pi_subset]\n",
    "X_test_pi = X_test_encoded[pi_subset]\n",
    "\n",
    "# get accuracy score\n",
    "clf = LogisticRegressionCV(random_state=1, solver='newton-cholesky').fit(X_train_pi, y_train_np)\n",
    "score = clf.score(X_test_pi, y_test_np)\n",
    "\n",
    "# ROC\n",
    "fig, ax = plt.subplots()\n",
    "\n",
    "test_auc = RocCurveDisplay.from_estimator(clf, X_test_pi, y_test, ax=ax, name='Test')\n",
    "train_auc = RocCurveDisplay.from_estimator(clf, X_train_pi, y_train, ax=ax, name='Train')\n",
    "\n",
    "plt.show()\n",
    "\n",
    "print(f'Permuation importance accuracy: {score}')"
   ]
  },
  {
   "cell_type": "code",
   "execution_count": 9,
   "metadata": {},
   "outputs": [
    {
     "data": {
      "image/png": "[encoded data removed]",
      "text/plain": [
       "<Figure size 640x480 with 1 Axes>"
      ]
     },
     "metadata": {},
     "output_type": "display_data"
    },
    {
     "name": "stdout",
     "output_type": "stream",
     "text": [
      "All features accuracy: 0.8757530120481928\n"
     ]
    }
   ],
   "source": [
    "# get accuracy score\n",
    "clf = LogisticRegressionCV(random_state=1, solver='newton-cholesky').fit(X_train_encoded, y_train_np)\n",
    "score = clf.score(X_test_encoded, y_test_np)\n",
    "\n",
    "# ROC\n",
    "fig, ax = plt.subplots()\n",
    "\n",
    "test_auc = RocCurveDisplay.from_estimator(clf, X_test_encoded, y_test, ax=ax, name='Test')\n",
    "train_auc = RocCurveDisplay.from_estimator(clf, X_train_encoded, y_train, ax=ax, name='Train')\n",
    "\n",
    "plt.show()\n",
    "\n",
    "print(f'All features accuracy: {score}')"
   ]
  },
  {
   "cell_type": "markdown",
   "metadata": {},
   "source": [
    "Not only does using the entire feature space give the best accuracy, the fit looks great!<br>\n",
    "Since we've done our inferential analysis separately, we don't need to worry about interpretability. For this reason, we'll proceed using the full feature set."
   ]
  },
  {
   "cell_type": "code",
   "execution_count": 10,
   "metadata": {},
   "outputs": [],
   "source": [
    "# save final, preproccessed training and testing data\n",
    "\n",
    "X_train_encoded.to_csv('LogReg/X_train.csv', index=False)\n",
    "X_test_encoded.to_csv('LogReg/X_test.csv', index=False)\n",
    "y_train.to_csv('LogReg/y_train.csv', index=False)\n",
    "y_test.to_csv('LogReg/y_test.csv', index=False)"
   ]
  },
  {
   "cell_type": "markdown",
   "metadata": {},
   "source": [
    "# Model Tuning"
   ]
  },
  {
   "cell_type": "code",
   "execution_count": 11,
   "metadata": {},
   "outputs": [],
   "source": [
    "#load data\n",
    "\n",
    "X_train = pd.read_csv('LogReg/X_train.csv')\n",
    "X_test = pd.read_csv('LogReg/X_test.csv')\n",
    "\n",
    "y_train = pd.read_csv('LogReg/y_train.csv')\n",
    "y_test = pd.read_csv('LogReg/y_test.csv')\n",
    "\n",
    "y_train = y_train.values\n",
    "y_test = y_test.values\n",
    "\n",
    "y_train = y_train.ravel()\n",
    "y_test = y_test.ravel()\n"
   ]
  },
  {
   "cell_type": "markdown",
   "metadata": {},
   "source": [
    "### Vanilla\n",
    "\n",
    "Let's inspect the perfomance of the vanilla model to compare for later. We already looked at the accuracy and ROC-AUC, so now we'll look at the confusion matrix."
   ]
  },
  {
   "cell_type": "code",
   "execution_count": 12,
   "metadata": {},
   "outputs": [],
   "source": [
    "from sklearn.linear_model import LogisticRegression, LogisticRegressionCV\n",
    "from sklearn.metrics import accuracy_score, precision_score, recall_score, confusion_matrix, f1_score, make_scorer, ConfusionMatrixDisplay, RocCurveDisplay\n",
    "import matplotlib.pyplot as plt"
   ]
  },
  {
   "cell_type": "code",
   "execution_count": 35,
   "metadata": {},
   "outputs": [
    {
     "data": {
      "text/plain": [
       "<sklearn.metrics._plot.confusion_matrix.ConfusionMatrixDisplay at 0x24a3854ec10>"
      ]
     },
     "execution_count": 35,
     "metadata": {},
     "output_type": "execute_result"
    },
    {
     "data": {
      "image/png": "[encoded data removed]",
      "text/plain": [
       "<Figure size 640x480 with 1 Axes>"
      ]
     },
     "metadata": {},
     "output_type": "display_data"
    }
   ],
   "source": [
    "# CONFUSION MATRIX\n",
    "\n",
    "clf_vanilla = LogisticRegressionCV(solver='newton-cholesky').fit(X_train_encoded, y_train_np)\n",
    "\n",
    "ConfusionMatrixDisplay.from_estimator(clf_vanilla, X_test, y_test, normalize='true', colorbar=False)\n"
   ]
  },
  {
   "cell_type": "markdown",
   "metadata": {},
   "source": [
    "The mean accuracy is 0.876<br>\n",
    "0.57% of true negative cases are falsely predicted. 29% of true positive cases are falsely predicted. That's a huge rate of false negatives. We'd rather have some bias toward false positives, if any. <br>"
   ]
  },
  {
   "cell_type": "markdown",
   "metadata": {},
   "source": [
    "### Hyperparameters"
   ]
  },
  {
   "cell_type": "markdown",
   "metadata": {},
   "source": [
    "Use grid search to evaluate the different possible parameter combinations."
   ]
  },
  {
   "cell_type": "code",
   "execution_count": 36,
   "metadata": {},
   "outputs": [
    {
     "name": "stderr",
     "output_type": "stream",
     "text": [
      "c:\\Users\\Melanie\\anaconda3\\envs\\new_conda\\Lib\\site-packages\\sklearn\\linear_model\\_sag.py:349: ConvergenceWarning: The max_iter was reached which means the coef_ did not converge\n",
      "  warnings.warn(\n",
      "c:\\Users\\Melanie\\anaconda3\\envs\\new_conda\\Lib\\site-packages\\sklearn\\linear_model\\_sag.py:349: ConvergenceWarning: The max_iter was reached which means the coef_ did not converge\n",
      "  warnings.warn(\n",
      "c:\\Users\\Melanie\\anaconda3\\envs\\new_conda\\Lib\\site-packages\\sklearn\\linear_model\\_sag.py:349: ConvergenceWarning: The max_iter was reached which means the coef_ did not converge\n",
      "  warnings.warn(\n",
      "c:\\Users\\Melanie\\anaconda3\\envs\\new_conda\\Lib\\site-packages\\sklearn\\linear_model\\_sag.py:349: ConvergenceWarning: The max_iter was reached which means the coef_ did not converge\n",
      "  warnings.warn(\n",
      "c:\\Users\\Melanie\\anaconda3\\envs\\new_conda\\Lib\\site-packages\\sklearn\\linear_model\\_sag.py:349: ConvergenceWarning: The max_iter was reached which means the coef_ did not converge\n",
      "  warnings.warn(\n",
      "c:\\Users\\Melanie\\anaconda3\\envs\\new_conda\\Lib\\site-packages\\sklearn\\linear_model\\_sag.py:349: ConvergenceWarning: The max_iter was reached which means the coef_ did not converge\n",
      "  warnings.warn(\n",
      "c:\\Users\\Melanie\\anaconda3\\envs\\new_conda\\Lib\\site-packages\\sklearn\\linear_model\\_sag.py:349: ConvergenceWarning: The max_iter was reached which means the coef_ did not converge\n",
      "  warnings.warn(\n",
      "c:\\Users\\Melanie\\anaconda3\\envs\\new_conda\\Lib\\site-packages\\sklearn\\linear_model\\_sag.py:349: ConvergenceWarning: The max_iter was reached which means the coef_ did not converge\n",
      "  warnings.warn(\n",
      "c:\\Users\\Melanie\\anaconda3\\envs\\new_conda\\Lib\\site-packages\\sklearn\\linear_model\\_sag.py:349: ConvergenceWarning: The max_iter was reached which means the coef_ did not converge\n",
      "  warnings.warn(\n",
      "c:\\Users\\Melanie\\anaconda3\\envs\\new_conda\\Lib\\site-packages\\sklearn\\linear_model\\_sag.py:349: ConvergenceWarning: The max_iter was reached which means the coef_ did not converge\n",
      "  warnings.warn(\n",
      "c:\\Users\\Melanie\\anaconda3\\envs\\new_conda\\Lib\\site-packages\\sklearn\\linear_model\\_sag.py:349: ConvergenceWarning: The max_iter was reached which means the coef_ did not converge\n",
      "  warnings.warn(\n",
      "c:\\Users\\Melanie\\anaconda3\\envs\\new_conda\\Lib\\site-packages\\sklearn\\linear_model\\_sag.py:349: ConvergenceWarning: The max_iter was reached which means the coef_ did not converge\n",
      "  warnings.warn(\n",
      "c:\\Users\\Melanie\\anaconda3\\envs\\new_conda\\Lib\\site-packages\\sklearn\\linear_model\\_sag.py:349: ConvergenceWarning: The max_iter was reached which means the coef_ did not converge\n",
      "  warnings.warn(\n",
      "c:\\Users\\Melanie\\anaconda3\\envs\\new_conda\\Lib\\site-packages\\sklearn\\linear_model\\_sag.py:349: ConvergenceWarning: The max_iter was reached which means the coef_ did not converge\n",
      "  warnings.warn(\n",
      "c:\\Users\\Melanie\\anaconda3\\envs\\new_conda\\Lib\\site-packages\\sklearn\\linear_model\\_sag.py:349: ConvergenceWarning: The max_iter was reached which means the coef_ did not converge\n",
      "  warnings.warn(\n",
      "c:\\Users\\Melanie\\anaconda3\\envs\\new_conda\\Lib\\site-packages\\sklearn\\linear_model\\_sag.py:349: ConvergenceWarning: The max_iter was reached which means the coef_ did not converge\n",
      "  warnings.warn(\n",
      "c:\\Users\\Melanie\\anaconda3\\envs\\new_conda\\Lib\\site-packages\\sklearn\\linear_model\\_sag.py:349: ConvergenceWarning: The max_iter was reached which means the coef_ did not converge\n",
      "  warnings.warn(\n",
      "c:\\Users\\Melanie\\anaconda3\\envs\\new_conda\\Lib\\site-packages\\sklearn\\linear_model\\_sag.py:349: ConvergenceWarning: The max_iter was reached which means the coef_ did not converge\n",
      "  warnings.warn(\n",
      "c:\\Users\\Melanie\\anaconda3\\envs\\new_conda\\Lib\\site-packages\\sklearn\\linear_model\\_sag.py:349: ConvergenceWarning: The max_iter was reached which means the coef_ did not converge\n",
      "  warnings.warn(\n",
      "c:\\Users\\Melanie\\anaconda3\\envs\\new_conda\\Lib\\site-packages\\sklearn\\linear_model\\_sag.py:349: ConvergenceWarning: The max_iter was reached which means the coef_ did not converge\n",
      "  warnings.warn(\n",
      "c:\\Users\\Melanie\\anaconda3\\envs\\new_conda\\Lib\\site-packages\\sklearn\\linear_model\\_sag.py:349: ConvergenceWarning: The max_iter was reached which means the coef_ did not converge\n",
      "  warnings.warn(\n",
      "c:\\Users\\Melanie\\anaconda3\\envs\\new_conda\\Lib\\site-packages\\sklearn\\linear_model\\_sag.py:349: ConvergenceWarning: The max_iter was reached which means the coef_ did not converge\n",
      "  warnings.warn(\n",
      "c:\\Users\\Melanie\\anaconda3\\envs\\new_conda\\Lib\\site-packages\\sklearn\\linear_model\\_sag.py:349: ConvergenceWarning: The max_iter was reached which means the coef_ did not converge\n",
      "  warnings.warn(\n",
      "c:\\Users\\Melanie\\anaconda3\\envs\\new_conda\\Lib\\site-packages\\sklearn\\linear_model\\_sag.py:349: ConvergenceWarning: The max_iter was reached which means the coef_ did not converge\n",
      "  warnings.warn(\n",
      "c:\\Users\\Melanie\\anaconda3\\envs\\new_conda\\Lib\\site-packages\\sklearn\\linear_model\\_sag.py:349: ConvergenceWarning: The max_iter was reached which means the coef_ did not converge\n",
      "  warnings.warn(\n",
      "c:\\Users\\Melanie\\anaconda3\\envs\\new_conda\\Lib\\site-packages\\sklearn\\model_selection\\_validation.py:540: FitFailedWarning: \n",
      "105 fits failed out of a total of 350.\n",
      "The score on these train-test partitions for these parameters will be set to nan.\n",
      "If these failures are not expected, you can try to debug them by setting error_score='raise'.\n",
      "\n",
      "Below are more details about the failures:\n",
      "--------------------------------------------------------------------------------\n",
      "35 fits failed with the following error:\n",
      "Traceback (most recent call last):\n",
      "  File \"c:\\Users\\Melanie\\anaconda3\\envs\\new_conda\\Lib\\site-packages\\sklearn\\model_selection\\_validation.py\", line 888, in _fit_and_score\n",
      "    estimator.fit(X_train, y_train, **fit_params)\n",
      "    ~~~~~~~~~~~~~^^^^^^^^^^^^^^^^^^^^^^^^^^^^^^^^\n",
      "  File \"c:\\Users\\Melanie\\anaconda3\\envs\\new_conda\\Lib\\site-packages\\sklearn\\base.py\", line 1473, in wrapper\n",
      "    return fit_method(estimator, *args, **kwargs)\n",
      "  File \"c:\\Users\\Melanie\\anaconda3\\envs\\new_conda\\Lib\\site-packages\\sklearn\\linear_model\\_logistic.py\", line 1194, in fit\n",
      "    solver = _check_solver(self.solver, self.penalty, self.dual)\n",
      "  File \"c:\\Users\\Melanie\\anaconda3\\envs\\new_conda\\Lib\\site-packages\\sklearn\\linear_model\\_logistic.py\", line 67, in _check_solver\n",
      "    raise ValueError(\n",
      "    ...<2 lines>...\n",
      "    )\n",
      "ValueError: Solver lbfgs supports only 'l2' or None penalties, got l1 penalty.\n",
      "\n",
      "--------------------------------------------------------------------------------\n",
      "35 fits failed with the following error:\n",
      "Traceback (most recent call last):\n",
      "  File \"c:\\Users\\Melanie\\anaconda3\\envs\\new_conda\\Lib\\site-packages\\sklearn\\model_selection\\_validation.py\", line 888, in _fit_and_score\n",
      "    estimator.fit(X_train, y_train, **fit_params)\n",
      "    ~~~~~~~~~~~~~^^^^^^^^^^^^^^^^^^^^^^^^^^^^^^^^\n",
      "  File \"c:\\Users\\Melanie\\anaconda3\\envs\\new_conda\\Lib\\site-packages\\sklearn\\base.py\", line 1473, in wrapper\n",
      "    return fit_method(estimator, *args, **kwargs)\n",
      "  File \"c:\\Users\\Melanie\\anaconda3\\envs\\new_conda\\Lib\\site-packages\\sklearn\\linear_model\\_logistic.py\", line 1194, in fit\n",
      "    solver = _check_solver(self.solver, self.penalty, self.dual)\n",
      "  File \"c:\\Users\\Melanie\\anaconda3\\envs\\new_conda\\Lib\\site-packages\\sklearn\\linear_model\\_logistic.py\", line 67, in _check_solver\n",
      "    raise ValueError(\n",
      "    ...<2 lines>...\n",
      "    )\n",
      "ValueError: Solver newton-cg supports only 'l2' or None penalties, got l1 penalty.\n",
      "\n",
      "--------------------------------------------------------------------------------\n",
      "35 fits failed with the following error:\n",
      "Traceback (most recent call last):\n",
      "  File \"c:\\Users\\Melanie\\anaconda3\\envs\\new_conda\\Lib\\site-packages\\sklearn\\model_selection\\_validation.py\", line 888, in _fit_and_score\n",
      "    estimator.fit(X_train, y_train, **fit_params)\n",
      "    ~~~~~~~~~~~~~^^^^^^^^^^^^^^^^^^^^^^^^^^^^^^^^\n",
      "  File \"c:\\Users\\Melanie\\anaconda3\\envs\\new_conda\\Lib\\site-packages\\sklearn\\base.py\", line 1473, in wrapper\n",
      "    return fit_method(estimator, *args, **kwargs)\n",
      "  File \"c:\\Users\\Melanie\\anaconda3\\envs\\new_conda\\Lib\\site-packages\\sklearn\\linear_model\\_logistic.py\", line 1194, in fit\n",
      "    solver = _check_solver(self.solver, self.penalty, self.dual)\n",
      "  File \"c:\\Users\\Melanie\\anaconda3\\envs\\new_conda\\Lib\\site-packages\\sklearn\\linear_model\\_logistic.py\", line 67, in _check_solver\n",
      "    raise ValueError(\n",
      "    ...<2 lines>...\n",
      "    )\n",
      "ValueError: Solver newton-cholesky supports only 'l2' or None penalties, got l1 penalty.\n",
      "\n",
      "  warnings.warn(some_fits_failed_message, FitFailedWarning)\n",
      "c:\\Users\\Melanie\\anaconda3\\envs\\new_conda\\Lib\\site-packages\\sklearn\\model_selection\\_search.py:1103: UserWarning: One or more of the test scores are non-finite: [       nan 0.6711887         nan        nan 0.6711887  0.6711887\n",
      " 0.6711887  0.6711887  0.6711887  0.6711887         nan 0.6711887\n",
      "        nan        nan 0.82138308 0.80716765 0.80716713 0.80716765\n",
      " 0.80716765 0.80716765        nan 0.852392          nan        nan\n",
      " 0.85756214 0.85174423 0.85045286 0.85174423 0.85174423 0.85174423\n",
      "        nan 0.86596123        nan        nan 0.86467143 0.8695117\n",
      " 0.87080411 0.8688655  0.8688655  0.8688655         nan 0.86886654\n",
      "        nan        nan 0.86886706 0.86886758 0.86983636 0.86983532\n",
      " 0.86983532 0.86983532        nan 0.86919016        nan        nan\n",
      " 0.86951274 0.86918912 0.86983584 0.86983532 0.86951274 0.86951222\n",
      "        nan 0.86919016        nan        nan 0.86951274 0.86983584\n",
      " 0.86951274 0.86951274 0.86951274 0.86951274]\n",
      "  warnings.warn(\n",
      "c:\\Users\\Melanie\\anaconda3\\envs\\new_conda\\Lib\\site-packages\\sklearn\\model_selection\\_search.py:1103: UserWarning: One or more of the train scores are non-finite: [       nan 0.67118863        nan        nan 0.67118863 0.67118863\n",
      " 0.67118863 0.67118863 0.67118863 0.67118863        nan 0.67118863\n",
      "        nan        nan 0.8217056  0.80684739 0.80757414 0.80684739\n",
      " 0.80684739 0.80684739        nan 0.85440909        nan        nan\n",
      " 0.85868886 0.85303611 0.8510176  0.85311685 0.85311685 0.85311685\n",
      "        nan 0.87314322        nan        nan 0.87378907 0.87395059\n",
      " 0.8740314  0.87370829 0.87362752 0.87362752        nan 0.87613077\n",
      "        nan        nan 0.87588855 0.87548473 0.87629233 0.87588861\n",
      " 0.87588861 0.87588861        nan 0.87661533        nan        nan\n",
      " 0.87613081 0.87580774 0.87588855 0.87596932 0.87629229 0.87613081\n",
      "        nan 0.87669607        nan        nan 0.87613081 0.87669604\n",
      " 0.87596935 0.87596929 0.87605006 0.87613081]\n",
      "  warnings.warn(\n",
      "c:\\Users\\Melanie\\anaconda3\\envs\\new_conda\\Lib\\site-packages\\sklearn\\model_selection\\_search.py:1103: UserWarning: One or more of the test scores are non-finite: [       nan 0.                nan        nan 0.         0.\n",
      " 0.         0.         0.         0.                nan 0.\n",
      "        nan        nan 0.57366947 0.5147252  0.51472037 0.5147252\n",
      " 0.5147252  0.5147252         nan 0.69155317        nan        nan\n",
      " 0.69842558 0.67191635 0.66798513 0.67191635 0.67191635 0.67191635\n",
      "        nan 0.71022409        nan        nan 0.71022892 0.71121897\n",
      " 0.71219453 0.70925336 0.71023375 0.71023375        nan 0.72103738\n",
      "        nan        nan 0.7220226  0.72201777 0.72300299 0.72201777\n",
      " 0.72201777 0.72201777        nan 0.72103738        nan        nan\n",
      " 0.72103738 0.72005699 0.72201777 0.72201777 0.72201777 0.72103738\n",
      "        nan 0.72103738        nan        nan 0.72103738 0.72104221\n",
      " 0.72103738 0.72103738 0.72103738 0.72103738]\n",
      "  warnings.warn(\n",
      "c:\\Users\\Melanie\\anaconda3\\envs\\new_conda\\Lib\\site-packages\\sklearn\\model_selection\\_search.py:1103: UserWarning: One or more of the train scores are non-finite: [       nan 0.                nan        nan 0.         0.\n",
      " 0.         0.         0.         0.                nan 0.\n",
      "        nan        nan 0.5714641  0.51375288 0.51596238 0.51375288\n",
      " 0.51375288 0.51375288        nan 0.69646855        nan        nan\n",
      " 0.69671666 0.67485688 0.67117348 0.67510227 0.67510227 0.67510227\n",
      "        nan 0.71611492        nan        nan 0.71807962 0.71488793\n",
      " 0.71488823 0.71439653 0.71415083 0.71415083        nan 0.72962271\n",
      "        nan        nan 0.72913191 0.72569271 0.72618441 0.72692091\n",
      " 0.72692091 0.72692091        nan 0.7306046         nan        nan\n",
      " 0.7301135  0.7296218  0.72913131 0.72913161 0.7303592  0.72986811\n",
      "        nan 0.7306046         nan        nan 0.7301132  0.73085\n",
      " 0.7296221  0.72913161 0.7298675  0.7303589 ]\n",
      "  warnings.warn(\n",
      "c:\\Users\\Melanie\\anaconda3\\envs\\new_conda\\Lib\\site-packages\\sklearn\\model_selection\\_search.py:1103: UserWarning: One or more of the test scores are non-finite: [       nan 0.                nan        nan 0.         0.\n",
      " 0.         0.         0.         0.                nan 0.\n",
      "        nan        nan 0.67815556 0.63636751 0.63636998 0.63636751\n",
      " 0.63636751 0.63636751        nan 0.75492713        nan        nan\n",
      " 0.76358441 0.74874689 0.74601286 0.74874689 0.74874689 0.74874689\n",
      "        nan 0.77721827        nan        nan 0.77560917 0.78192368\n",
      " 0.78380494 0.78064568 0.78088216 0.78088216        nan 0.78371917\n",
      "        nan        nan 0.78398623 0.78392732 0.78540736 0.78512426\n",
      " 0.78512426 0.78512426        nan 0.78417715        nan        nan\n",
      " 0.78457758 0.78390692 0.78520914 0.78517327 0.78477222 0.78454172\n",
      "        nan 0.78417715        nan        nan 0.78457758 0.78500506\n",
      " 0.78457758 0.78453474 0.78457758 0.78457758]\n",
      "  warnings.warn(\n",
      "c:\\Users\\Melanie\\anaconda3\\envs\\new_conda\\Lib\\site-packages\\sklearn\\model_selection\\_search.py:1103: UserWarning: One or more of the train scores are non-finite: [       nan 0.                nan        nan 0.         0.\n",
      " 0.         0.         0.         0.                nan 0.\n",
      "        nan        nan 0.67823149 0.63622643 0.63809216 0.63622643\n",
      " 0.63622643 0.63622643        nan 0.75877766        nan        nan\n",
      " 0.76422168 0.75120813 0.7476246  0.75138089 0.75138089 0.75138089\n",
      "        nan 0.78776522        nan        nan 0.78907414 0.78853306\n",
      " 0.78863749 0.78810143 0.78793946 0.78793946        nan 0.79478559\n",
      "        nan        nan 0.7943559  0.79305968 0.79422795 0.79386707\n",
      " 0.79386707 0.79386707        nan 0.79565328        nan        nan\n",
      " 0.79490115 0.79437332 0.79436172 0.79446531 0.79516807 0.79484426\n",
      "        nan 0.79575989        nan        nan 0.79490291 0.79581494\n",
      " 0.79458029 0.79446463 0.79474198 0.79495624]\n",
      "  warnings.warn(\n"
     ]
    }
   ],
   "source": [
    "from sklearn.model_selection import GridSearchCV\n",
    "\n",
    "# define possible parameters\n",
    "parameters = {'penalty':['l1', 'l2'], # exclude penalties 'none' and 'elasticnet' because they produce NaN\n",
    "              'solver':['lbfgs', 'liblinear', 'newton-cg', 'newton-cholesky', 'saga'], # exclude sag because it never converges\n",
    "              'C':[0.001, 0.01, 0.1, 1, 10, 100, 1000]} # use logarithmic scale to test wide range of C values \n",
    "\n",
    "# fit \n",
    "lrg = LogisticRegression(max_iter=500)\n",
    "f1 = make_scorer(f1_score)\n",
    "clf = GridSearchCV(lrg, parameters, scoring=['accuracy', 'recall', 'f1'], return_train_score=True, refit=False)\n",
    "\n",
    "clf.fit(X_train_encoded, y_train_np)\n",
    "\n",
    "# store results\n",
    "gs_results = pd.DataFrame(clf.cv_results_)"
   ]
  },
  {
   "cell_type": "markdown",
   "metadata": {},
   "source": [
    "Filter the results dataframe and reformat into a digestible form."
   ]
  },
  {
   "cell_type": "code",
   "execution_count": 37,
   "metadata": {},
   "outputs": [],
   "source": [
    "# remove rows with NaN\n",
    "# these rows represent incompatible parameter combinations\n",
    "gs_results = gs_results.dropna(axis=0)\n",
    "\n",
    "# columns of interest\n",
    "columns = ['param_C', 'param_penalty', 'param_solver', \n",
    "           'mean_test_accuracy', \n",
    "           'mean_test_recall', \n",
    "           'mean_test_f1']\n"
   ]
  },
  {
   "cell_type": "code",
   "execution_count": 38,
   "metadata": {},
   "outputs": [
    {
     "data": {
      "text/html": [
       "<div>\n",
       "<style scoped>\n",
       "    .dataframe tbody tr th:only-of-type {\n",
       "        vertical-align: middle;\n",
       "    }\n",
       "\n",
       "    .dataframe tbody tr th {\n",
       "        vertical-align: top;\n",
       "    }\n",
       "\n",
       "    .dataframe thead th {\n",
       "        text-align: right;\n",
       "    }\n",
       "</style>\n",
       "<table border=\"1\" class=\"dataframe\">\n",
       "  <thead>\n",
       "    <tr style=\"text-align: right;\">\n",
       "      <th></th>\n",
       "      <th>param_C</th>\n",
       "      <th>param_penalty</th>\n",
       "      <th>param_solver</th>\n",
       "      <th>mean_test_accuracy</th>\n",
       "      <th>mean_test_recall</th>\n",
       "      <th>mean_test_f1</th>\n",
       "    </tr>\n",
       "  </thead>\n",
       "  <tbody>\n",
       "    <tr>\n",
       "      <th>0</th>\n",
       "      <td>10.0</td>\n",
       "      <td>l2</td>\n",
       "      <td>liblinear</td>\n",
       "      <td>0.869836</td>\n",
       "      <td>0.723003</td>\n",
       "      <td>0.785407</td>\n",
       "    </tr>\n",
       "    <tr>\n",
       "      <th>1</th>\n",
       "      <td>10.0</td>\n",
       "      <td>l1</td>\n",
       "      <td>saga</td>\n",
       "      <td>0.868867</td>\n",
       "      <td>0.722023</td>\n",
       "      <td>0.783986</td>\n",
       "    </tr>\n",
       "    <tr>\n",
       "      <th>2</th>\n",
       "      <td>10.0</td>\n",
       "      <td>l2</td>\n",
       "      <td>saga</td>\n",
       "      <td>0.869835</td>\n",
       "      <td>0.722018</td>\n",
       "      <td>0.785124</td>\n",
       "    </tr>\n",
       "    <tr>\n",
       "      <th>3</th>\n",
       "      <td>10.0</td>\n",
       "      <td>l2</td>\n",
       "      <td>newton-cholesky</td>\n",
       "      <td>0.869835</td>\n",
       "      <td>0.722018</td>\n",
       "      <td>0.785124</td>\n",
       "    </tr>\n",
       "    <tr>\n",
       "      <th>4</th>\n",
       "      <td>100.0</td>\n",
       "      <td>l2</td>\n",
       "      <td>liblinear</td>\n",
       "      <td>0.869836</td>\n",
       "      <td>0.722018</td>\n",
       "      <td>0.785209</td>\n",
       "    </tr>\n",
       "  </tbody>\n",
       "</table>\n",
       "</div>"
      ],
      "text/plain": [
       "   param_C param_penalty     param_solver  mean_test_accuracy  \\\n",
       "0     10.0            l2        liblinear            0.869836   \n",
       "1     10.0            l1             saga            0.868867   \n",
       "2     10.0            l2             saga            0.869835   \n",
       "3     10.0            l2  newton-cholesky            0.869835   \n",
       "4    100.0            l2        liblinear            0.869836   \n",
       "\n",
       "   mean_test_recall  mean_test_f1  \n",
       "0          0.723003      0.785407  \n",
       "1          0.722023      0.783986  \n",
       "2          0.722018      0.785124  \n",
       "3          0.722018      0.785124  \n",
       "4          0.722018      0.785209  "
      ]
     },
     "execution_count": 38,
     "metadata": {},
     "output_type": "execute_result"
    }
   ],
   "source": [
    "# VIEW HIGHEST RECALL\n",
    "# prioritize recall over precision to help balance the error ratios\n",
    "gs_recall = gs_results[columns].sort_values(by='mean_test_recall', axis=0, ascending=False, ignore_index=True)\n",
    "gs_recall.head()"
   ]
  },
  {
   "cell_type": "code",
   "execution_count": 39,
   "metadata": {},
   "outputs": [
    {
     "data": {
      "text/html": [
       "<div>\n",
       "<style scoped>\n",
       "    .dataframe tbody tr th:only-of-type {\n",
       "        vertical-align: middle;\n",
       "    }\n",
       "\n",
       "    .dataframe tbody tr th {\n",
       "        vertical-align: top;\n",
       "    }\n",
       "\n",
       "    .dataframe thead th {\n",
       "        text-align: right;\n",
       "    }\n",
       "</style>\n",
       "<table border=\"1\" class=\"dataframe\">\n",
       "  <thead>\n",
       "    <tr style=\"text-align: right;\">\n",
       "      <th></th>\n",
       "      <th>param_C</th>\n",
       "      <th>param_penalty</th>\n",
       "      <th>param_solver</th>\n",
       "      <th>mean_test_accuracy</th>\n",
       "      <th>mean_test_recall</th>\n",
       "      <th>mean_test_f1</th>\n",
       "    </tr>\n",
       "  </thead>\n",
       "  <tbody>\n",
       "    <tr>\n",
       "      <th>0</th>\n",
       "      <td>10.0</td>\n",
       "      <td>l2</td>\n",
       "      <td>liblinear</td>\n",
       "      <td>0.869836</td>\n",
       "      <td>0.723003</td>\n",
       "      <td>0.785407</td>\n",
       "    </tr>\n",
       "    <tr>\n",
       "      <th>1</th>\n",
       "      <td>100.0</td>\n",
       "      <td>l2</td>\n",
       "      <td>liblinear</td>\n",
       "      <td>0.869836</td>\n",
       "      <td>0.722018</td>\n",
       "      <td>0.785209</td>\n",
       "    </tr>\n",
       "    <tr>\n",
       "      <th>2</th>\n",
       "      <td>100.0</td>\n",
       "      <td>l2</td>\n",
       "      <td>newton-cg</td>\n",
       "      <td>0.869835</td>\n",
       "      <td>0.722018</td>\n",
       "      <td>0.785173</td>\n",
       "    </tr>\n",
       "    <tr>\n",
       "      <th>3</th>\n",
       "      <td>10.0</td>\n",
       "      <td>l2</td>\n",
       "      <td>newton-cg</td>\n",
       "      <td>0.869835</td>\n",
       "      <td>0.722018</td>\n",
       "      <td>0.785124</td>\n",
       "    </tr>\n",
       "    <tr>\n",
       "      <th>4</th>\n",
       "      <td>10.0</td>\n",
       "      <td>l2</td>\n",
       "      <td>saga</td>\n",
       "      <td>0.869835</td>\n",
       "      <td>0.722018</td>\n",
       "      <td>0.785124</td>\n",
       "    </tr>\n",
       "  </tbody>\n",
       "</table>\n",
       "</div>"
      ],
      "text/plain": [
       "   param_C param_penalty param_solver  mean_test_accuracy  mean_test_recall  \\\n",
       "0     10.0            l2    liblinear            0.869836          0.723003   \n",
       "1    100.0            l2    liblinear            0.869836          0.722018   \n",
       "2    100.0            l2    newton-cg            0.869835          0.722018   \n",
       "3     10.0            l2    newton-cg            0.869835          0.722018   \n",
       "4     10.0            l2         saga            0.869835          0.722018   \n",
       "\n",
       "   mean_test_f1  \n",
       "0      0.785407  \n",
       "1      0.785209  \n",
       "2      0.785173  \n",
       "3      0.785124  \n",
       "4      0.785124  "
      ]
     },
     "execution_count": 39,
     "metadata": {},
     "output_type": "execute_result"
    }
   ],
   "source": [
    "# VIEW HIGHEST F1 SCORE\n",
    "gs_f1 = gs_results[columns].sort_values(by='mean_test_f1', axis=0, ascending=False, ignore_index=True)\n",
    "gs_f1.head()"
   ]
  },
  {
   "cell_type": "code",
   "execution_count": 40,
   "metadata": {},
   "outputs": [
    {
     "data": {
      "text/html": [
       "<div>\n",
       "<style scoped>\n",
       "    .dataframe tbody tr th:only-of-type {\n",
       "        vertical-align: middle;\n",
       "    }\n",
       "\n",
       "    .dataframe tbody tr th {\n",
       "        vertical-align: top;\n",
       "    }\n",
       "\n",
       "    .dataframe thead th {\n",
       "        text-align: right;\n",
       "    }\n",
       "</style>\n",
       "<table border=\"1\" class=\"dataframe\">\n",
       "  <thead>\n",
       "    <tr style=\"text-align: right;\">\n",
       "      <th></th>\n",
       "      <th>param_C</th>\n",
       "      <th>param_penalty</th>\n",
       "      <th>param_solver</th>\n",
       "      <th>mean_test_accuracy</th>\n",
       "      <th>mean_test_recall</th>\n",
       "      <th>mean_test_f1</th>\n",
       "    </tr>\n",
       "  </thead>\n",
       "  <tbody>\n",
       "    <tr>\n",
       "      <th>0</th>\n",
       "      <td>1.0</td>\n",
       "      <td>l2</td>\n",
       "      <td>liblinear</td>\n",
       "      <td>0.870804</td>\n",
       "      <td>0.712195</td>\n",
       "      <td>0.783805</td>\n",
       "    </tr>\n",
       "    <tr>\n",
       "      <th>1</th>\n",
       "      <td>10.0</td>\n",
       "      <td>l2</td>\n",
       "      <td>liblinear</td>\n",
       "      <td>0.869836</td>\n",
       "      <td>0.723003</td>\n",
       "      <td>0.785407</td>\n",
       "    </tr>\n",
       "    <tr>\n",
       "      <th>2</th>\n",
       "      <td>1000.0</td>\n",
       "      <td>l2</td>\n",
       "      <td>lbfgs</td>\n",
       "      <td>0.869836</td>\n",
       "      <td>0.721042</td>\n",
       "      <td>0.785005</td>\n",
       "    </tr>\n",
       "    <tr>\n",
       "      <th>3</th>\n",
       "      <td>100.0</td>\n",
       "      <td>l2</td>\n",
       "      <td>liblinear</td>\n",
       "      <td>0.869836</td>\n",
       "      <td>0.722018</td>\n",
       "      <td>0.785209</td>\n",
       "    </tr>\n",
       "    <tr>\n",
       "      <th>4</th>\n",
       "      <td>10.0</td>\n",
       "      <td>l2</td>\n",
       "      <td>newton-cholesky</td>\n",
       "      <td>0.869835</td>\n",
       "      <td>0.722018</td>\n",
       "      <td>0.785124</td>\n",
       "    </tr>\n",
       "  </tbody>\n",
       "</table>\n",
       "</div>"
      ],
      "text/plain": [
       "   param_C param_penalty     param_solver  mean_test_accuracy  \\\n",
       "0      1.0            l2        liblinear            0.870804   \n",
       "1     10.0            l2        liblinear            0.869836   \n",
       "2   1000.0            l2            lbfgs            0.869836   \n",
       "3    100.0            l2        liblinear            0.869836   \n",
       "4     10.0            l2  newton-cholesky            0.869835   \n",
       "\n",
       "   mean_test_recall  mean_test_f1  \n",
       "0          0.712195      0.783805  \n",
       "1          0.723003      0.785407  \n",
       "2          0.721042      0.785005  \n",
       "3          0.722018      0.785209  \n",
       "4          0.722018      0.785124  "
      ]
     },
     "execution_count": 40,
     "metadata": {},
     "output_type": "execute_result"
    }
   ],
   "source": [
    "# VIEW HIGHEST ACCURACY\n",
    "gs_accuracy = gs_results[columns].sort_values(by='mean_test_accuracy', axis=0, ascending=False, ignore_index=True)\n",
    "gs_accuracy.head()"
   ]
  },
  {
   "cell_type": "code",
   "execution_count": 41,
   "metadata": {},
   "outputs": [
    {
     "data": {
      "text/html": [
       "<div>\n",
       "<style scoped>\n",
       "    .dataframe tbody tr th:only-of-type {\n",
       "        vertical-align: middle;\n",
       "    }\n",
       "\n",
       "    .dataframe tbody tr th {\n",
       "        vertical-align: top;\n",
       "    }\n",
       "\n",
       "    .dataframe thead th {\n",
       "        text-align: right;\n",
       "    }\n",
       "</style>\n",
       "<table border=\"1\" class=\"dataframe\">\n",
       "  <thead>\n",
       "    <tr style=\"text-align: right;\">\n",
       "      <th></th>\n",
       "      <th>param_C</th>\n",
       "      <th>param_penalty</th>\n",
       "      <th>param_solver</th>\n",
       "      <th>mean_test_accuracy</th>\n",
       "      <th>mean_test_recall</th>\n",
       "      <th>mean_test_f1</th>\n",
       "    </tr>\n",
       "  </thead>\n",
       "  <tbody>\n",
       "    <tr>\n",
       "      <th>0</th>\n",
       "      <td>0.001</td>\n",
       "      <td>l1</td>\n",
       "      <td>liblinear</td>\n",
       "      <td>0.671189</td>\n",
       "      <td>0.0</td>\n",
       "      <td>0.0</td>\n",
       "    </tr>\n",
       "    <tr>\n",
       "      <th>1</th>\n",
       "      <td>0.001</td>\n",
       "      <td>l1</td>\n",
       "      <td>saga</td>\n",
       "      <td>0.671189</td>\n",
       "      <td>0.0</td>\n",
       "      <td>0.0</td>\n",
       "    </tr>\n",
       "    <tr>\n",
       "      <th>2</th>\n",
       "      <td>0.001</td>\n",
       "      <td>l2</td>\n",
       "      <td>lbfgs</td>\n",
       "      <td>0.671189</td>\n",
       "      <td>0.0</td>\n",
       "      <td>0.0</td>\n",
       "    </tr>\n",
       "    <tr>\n",
       "      <th>3</th>\n",
       "      <td>0.001</td>\n",
       "      <td>l2</td>\n",
       "      <td>liblinear</td>\n",
       "      <td>0.671189</td>\n",
       "      <td>0.0</td>\n",
       "      <td>0.0</td>\n",
       "    </tr>\n",
       "    <tr>\n",
       "      <th>4</th>\n",
       "      <td>0.001</td>\n",
       "      <td>l2</td>\n",
       "      <td>newton-cg</td>\n",
       "      <td>0.671189</td>\n",
       "      <td>0.0</td>\n",
       "      <td>0.0</td>\n",
       "    </tr>\n",
       "  </tbody>\n",
       "</table>\n",
       "</div>"
      ],
      "text/plain": [
       "   param_C param_penalty param_solver  mean_test_accuracy  mean_test_recall  \\\n",
       "0    0.001            l1    liblinear            0.671189               0.0   \n",
       "1    0.001            l1         saga            0.671189               0.0   \n",
       "2    0.001            l2        lbfgs            0.671189               0.0   \n",
       "3    0.001            l2    liblinear            0.671189               0.0   \n",
       "4    0.001            l2    newton-cg            0.671189               0.0   \n",
       "\n",
       "   mean_test_f1  \n",
       "0           0.0  \n",
       "1           0.0  \n",
       "2           0.0  \n",
       "3           0.0  \n",
       "4           0.0  "
      ]
     },
     "execution_count": 41,
     "metadata": {},
     "output_type": "execute_result"
    }
   ],
   "source": [
    "# VIEW LOWEST ACCURACY\n",
    "low_acc = gs_results[columns].sort_values(by='mean_test_accuracy', axis=0, ascending=True, ignore_index=True)\n",
    "low_acc.head()"
   ]
  },
  {
   "cell_type": "markdown",
   "metadata": {},
   "source": [
    "The same model achieves the highest F1 score, recall, and accuracy. <br>\n",
    "Clearly, the model prefers high C values and the saga solver. The model is insensitive to regularization type.<br>\n",
    "The winning parameters are:\n",
    "- C = 10\n",
    "- penalty = l2\n",
    "- solver = liblinear"
   ]
  },
  {
   "cell_type": "code",
   "execution_count": 44,
   "metadata": {},
   "outputs": [
    {
     "data": {
      "image/png": "[encoded data removed]",
      "text/plain": [
       "<Figure size 640x480 with 1 Axes>"
      ]
     },
     "metadata": {},
     "output_type": "display_data"
    },
    {
     "data": {
      "image/png": "[encoded data removed]",
      "text/plain": [
       "<Figure size 640x480 with 1 Axes>"
      ]
     },
     "metadata": {},
     "output_type": "display_data"
    }
   ],
   "source": [
    "# CONFUSION MATRIX\n",
    "import matplotlib.pyplot as plt\n",
    "\n",
    "clf_param_tuned = LogisticRegression(C=10, penalty='l2', solver='liblinear').fit(X_train_encoded, y_train_np)\n",
    "\n",
    "ConfusionMatrixDisplay.from_estimator(clf_param_tuned, X_test, y_test, normalize='true', colorbar=False)\n",
    "\n",
    "# ROC\n",
    "fig, ax = plt.subplots()\n",
    "\n",
    "test_auc = RocCurveDisplay.from_estimator(clf_param_tuned, X_test_encoded, y_test_np, ax=ax, name='Test')\n",
    "train_auc = RocCurveDisplay.from_estimator(clf_param_tuned, X_train_encoded, y_train_np, ax=ax, name='Train')\n",
    "\n",
    "plt.show()"
   ]
  },
  {
   "cell_type": "markdown",
   "metadata": {},
   "source": [
    "The confusion matrix and ROC-AUC are almost identical to the default parameters. We need to tune the decision threshold to fix the extreme error ratio. This is unsurprising given how large our constant coefficient was in the inferential analysis."
   ]
  },
  {
   "cell_type": "markdown",
   "metadata": {},
   "source": [
    "### Decision threshold"
   ]
  },
  {
   "cell_type": "markdown",
   "metadata": {},
   "source": [
    "We'll use Youden's J Statistic to find the threshold closest to the top left corner of the ROC curve. "
   ]
  },
  {
   "cell_type": "code",
   "execution_count": 47,
   "metadata": {},
   "outputs": [
    {
     "name": "stdout",
     "output_type": "stream",
     "text": [
      "Best threshold = 0.32039818627310857\n"
     ]
    },
    {
     "data": {
      "image/png": "[encoded data removed]",
      "text/plain": [
       "<Figure size 640x480 with 1 Axes>"
      ]
     },
     "metadata": {},
     "output_type": "display_data"
    }
   ],
   "source": [
    "from sklearn.metrics import roc_curve\n",
    "import numpy as np\n",
    "import matplotlib.pyplot as plt\n",
    "\n",
    "# get probabilities for the positive case\n",
    "yhat = clf_param_tuned.predict_proba(X_test_encoded)[:, 1]\n",
    "\n",
    "# get roc curves\n",
    "fpr, tpr, thresholds = roc_curve(y_test_np, yhat)\n",
    "\n",
    "# find best threshold\n",
    "J = tpr - fpr\n",
    "idx = np.argmax(J)\n",
    "best_thresh = thresholds[idx]\n",
    "\n",
    "print(f'Best threshold = {best_thresh}')\n",
    "\n",
    "# plot the roc curve showing the optimal threshold\n",
    "fig, ax = plt.subplots()\n",
    "\n",
    "test_auc = RocCurveDisplay.from_estimator(clf_param_tuned, X_test_encoded, y_test_np, ax=ax, name='Test')\n",
    "plt.scatter(fpr[idx], tpr[idx], marker='o', color='red', label='Best')\n",
    "plt.legend()\n",
    "\n",
    "plt.show()"
   ]
  },
  {
   "cell_type": "code",
   "execution_count": 48,
   "metadata": {},
   "outputs": [
    {
     "name": "stdout",
     "output_type": "stream",
     "text": [
      "Accuracy: 0.8506787330316742\n"
     ]
    },
    {
     "data": {
      "image/png": "[encoded data removed]",
      "text/plain": [
       "<Figure size 640x480 with 1 Axes>"
      ]
     },
     "metadata": {},
     "output_type": "display_data"
    }
   ],
   "source": [
    "# get class labels using new threshold\n",
    "y_prob = clf_param_tuned.predict_proba(X_test)[:, 1]\n",
    "y_pred = np.where(y_prob > best_thresh, 1, 0)\n",
    "\n",
    "# confusion matrix\n",
    "ConfusionMatrixDisplay.from_predictions(y_test, y_pred, normalize='true', colorbar=False)\n",
    "print(f'Accuracy: {accuracy_score(y_test, y_pred)}')"
   ]
  },
  {
   "cell_type": "markdown",
   "metadata": {},
   "source": [
    "Using the new threshold, 18% of true positives are falsely predicted and 14% of true negatives are falsely predicted. This is decently balanced, but we'd like the false positive rate to be a little higher than the false negative rate (the inverse of what is happening). Let's tweak the threshold just a bit to accomplish this. Let's test a few nearby thresholds using cross validation and see what error ratios they produce."
   ]
  },
  {
   "cell_type": "code",
   "execution_count": 50,
   "metadata": {},
   "outputs": [
    {
     "data": {
      "text/html": [
       "<div>\n",
       "<style scoped>\n",
       "    .dataframe tbody tr th:only-of-type {\n",
       "        vertical-align: middle;\n",
       "    }\n",
       "\n",
       "    .dataframe tbody tr th {\n",
       "        vertical-align: top;\n",
       "    }\n",
       "\n",
       "    .dataframe thead th {\n",
       "        text-align: right;\n",
       "    }\n",
       "</style>\n",
       "<table border=\"1\" class=\"dataframe\">\n",
       "  <thead>\n",
       "    <tr style=\"text-align: right;\">\n",
       "      <th></th>\n",
       "      <th>Threshold</th>\n",
       "      <th>Accuracy</th>\n",
       "      <th>Type I Error</th>\n",
       "      <th>Type II Error</th>\n",
       "    </tr>\n",
       "  </thead>\n",
       "  <tbody>\n",
       "    <tr>\n",
       "      <th>0</th>\n",
       "      <td>0.22</td>\n",
       "      <td>0.835889</td>\n",
       "      <td>0.172519</td>\n",
       "      <td>0.146395</td>\n",
       "    </tr>\n",
       "    <tr>\n",
       "      <th>1</th>\n",
       "      <td>0.23</td>\n",
       "      <td>0.838601</td>\n",
       "      <td>0.164861</td>\n",
       "      <td>0.154136</td>\n",
       "    </tr>\n",
       "    <tr>\n",
       "      <th>2</th>\n",
       "      <td>0.24</td>\n",
       "      <td>0.843122</td>\n",
       "      <td>0.154536</td>\n",
       "      <td>0.161878</td>\n",
       "    </tr>\n",
       "    <tr>\n",
       "      <th>3</th>\n",
       "      <td>0.25</td>\n",
       "      <td>0.848323</td>\n",
       "      <td>0.146540</td>\n",
       "      <td>0.162582</td>\n",
       "    </tr>\n",
       "    <tr>\n",
       "      <th>4</th>\n",
       "      <td>0.26</td>\n",
       "      <td>0.851940</td>\n",
       "      <td>0.139546</td>\n",
       "      <td>0.166096</td>\n",
       "    </tr>\n",
       "    <tr>\n",
       "      <th>5</th>\n",
       "      <td>0.27</td>\n",
       "      <td>0.854652</td>\n",
       "      <td>0.132552</td>\n",
       "      <td>0.172429</td>\n",
       "    </tr>\n",
       "    <tr>\n",
       "      <th>6</th>\n",
       "      <td>0.28</td>\n",
       "      <td>0.856461</td>\n",
       "      <td>0.128889</td>\n",
       "      <td>0.174542</td>\n",
       "    </tr>\n",
       "    <tr>\n",
       "      <th>7</th>\n",
       "      <td>0.29</td>\n",
       "      <td>0.859400</td>\n",
       "      <td>0.122559</td>\n",
       "      <td>0.178762</td>\n",
       "    </tr>\n",
       "    <tr>\n",
       "      <th>8</th>\n",
       "      <td>0.30</td>\n",
       "      <td>0.861886</td>\n",
       "      <td>0.116899</td>\n",
       "      <td>0.182985</td>\n",
       "    </tr>\n",
       "    <tr>\n",
       "      <th>9</th>\n",
       "      <td>0.31</td>\n",
       "      <td>0.862790</td>\n",
       "      <td>0.112903</td>\n",
       "      <td>0.188614</td>\n",
       "    </tr>\n",
       "    <tr>\n",
       "      <th>10</th>\n",
       "      <td>0.32</td>\n",
       "      <td>0.862338</td>\n",
       "      <td>0.108241</td>\n",
       "      <td>0.199874</td>\n",
       "    </tr>\n",
       "    <tr>\n",
       "      <th>11</th>\n",
       "      <td>0.33</td>\n",
       "      <td>0.862337</td>\n",
       "      <td>0.105577</td>\n",
       "      <td>0.205503</td>\n",
       "    </tr>\n",
       "    <tr>\n",
       "      <th>12</th>\n",
       "      <td>0.34</td>\n",
       "      <td>0.863694</td>\n",
       "      <td>0.100578</td>\n",
       "      <td>0.211836</td>\n",
       "    </tr>\n",
       "  </tbody>\n",
       "</table>\n",
       "</div>"
      ],
      "text/plain": [
       "    Threshold  Accuracy  Type I Error  Type II Error\n",
       "0        0.22  0.835889      0.172519       0.146395\n",
       "1        0.23  0.838601      0.164861       0.154136\n",
       "2        0.24  0.843122      0.154536       0.161878\n",
       "3        0.25  0.848323      0.146540       0.162582\n",
       "4        0.26  0.851940      0.139546       0.166096\n",
       "5        0.27  0.854652      0.132552       0.172429\n",
       "6        0.28  0.856461      0.128889       0.174542\n",
       "7        0.29  0.859400      0.122559       0.178762\n",
       "8        0.30  0.861886      0.116899       0.182985\n",
       "9        0.31  0.862790      0.112903       0.188614\n",
       "10       0.32  0.862338      0.108241       0.199874\n",
       "11       0.33  0.862337      0.105577       0.205503\n",
       "12       0.34  0.863694      0.100578       0.211836"
      ]
     },
     "execution_count": 50,
     "metadata": {},
     "output_type": "execute_result"
    }
   ],
   "source": [
    "from sklearn.metrics import confusion_matrix, accuracy_score\n",
    "from sklearn.model_selection import StratifiedKFold\n",
    "import numpy as np\n",
    "\n",
    "# rejoin train and test sets\n",
    "y_train = pd.Series(y_train)\n",
    "y_test = pd.Series(y_test)\n",
    "X = pd.concat([X_train, X_test], axis=0, ignore_index=True)\n",
    "y = pd.concat([y_train, y_test], axis=0, ignore_index=True)\n",
    "\n",
    "# get cv folds\n",
    "skf = StratifiedKFold()\n",
    "\n",
    "# define thresholds\n",
    "test_thresholds = np.arange(0.22, 0.35, 0.01)\n",
    "\n",
    "# create list to store mean model scores\n",
    "mean_stats = [[] for _ in range(3)]\n",
    "\n",
    "# test thresholds\n",
    "for i, threshold in enumerate(test_thresholds):\n",
    "\n",
    "    stats = [[] for _ in range(3)]\n",
    "\n",
    "    # for each cv fold\n",
    "    for fold_idx, (train_index, test_index) in enumerate(skf.split(X, y)):\n",
    "        \n",
    "        # train model\n",
    "        X_train, X_test = X.iloc[train_index], X.iloc[test_index]\n",
    "        y_train, y_test = y.iloc[train_index], y.iloc[test_index]\n",
    "        y_train = np.ravel(y_train)\n",
    "        clf_param_tuned.fit(X_train, y_train)\n",
    "        y_prob = clf_param_tuned.predict_proba(X_test)[:, 1]\n",
    "        y_pred = np.where(y_prob > threshold, 1, 0)\n",
    "\n",
    "        # get errors\n",
    "        cm = confusion_matrix(y_test, y_pred, normalize='true')\n",
    "        stats[0].append(accuracy_score(y_test, y_pred))\n",
    "        stats[1].append(cm[0, 1])\n",
    "        stats[2].append(cm[1, 0])\n",
    "\n",
    "    # save mean errors across folds\n",
    "    mean_stats[0].append(np.mean(stats[0]))\n",
    "    mean_stats[1].append(np.mean(stats[1]))\n",
    "    mean_stats[2].append(np.mean(stats[2]))\n",
    "\n",
    "# show results\n",
    "result = pd.DataFrame({'Threshold': test_thresholds,\n",
    "                       'Accuracy': mean_stats[0],\n",
    "                       'Type I Error': mean_stats[1],\n",
    "                       'Type II Error': mean_stats[2]})\n",
    "result"
   ]
  },
  {
   "cell_type": "markdown",
   "metadata": {},
   "source": [
    "The ideal balance depends on what percent of future dropouts we are willing to have our model miss. The tradeoff between missing future dropouts and providing intervention measures to students who won't drop out is something that will need to be discussed with the school administration. The final model would have a decision threshold tuned according to the admin's perference. The bias toward false positives means that a lower threshold could increase the number of potential dropouts caught early, desite a lower overall model accuracy. For now, we will consider 0.26 to be our ideal threshold. Our decision now is unimportant since this is a very easy thing to change as needed."
   ]
  }
 ],
 "metadata": {
  "kernelspec": {
   "display_name": "new_conda",
   "language": "python",
   "name": "python3"
  },
  "language_info": {
   "codemirror_mode": {
    "name": "ipython",
    "version": 3
   },
   "file_extension": ".py",
   "mimetype": "text/x-python",
   "name": "python",
   "nbconvert_exporter": "python",
   "pygments_lexer": "ipython3",
   "version": "3.13.0"
  }
 },
 "nbformat": 4,
 "nbformat_minor": 2
}
