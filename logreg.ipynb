{
 "cells": [
  {
   "cell_type": "code",
   "execution_count": 1,
   "metadata": {},
   "outputs": [],
   "source": [
    "import pandas as pd\n",
    "import numpy as np\n",
    "from sklearn.model_selection import train_test_split\n",
    "\n",
    "X = pd.read_csv('LogReg/X.csv')\n",
    "y = pd.read_csv('LogReg/y.csv')\n",
    "X_train, X_test, y_train, y_test = train_test_split(X, y, test_size=0.3, random_state=100)"
   ]
  },
  {
   "cell_type": "markdown",
   "metadata": {},
   "source": [
    "# Preprocessing"
   ]
  },
  {
   "cell_type": "code",
   "execution_count": null,
   "metadata": {},
   "outputs": [],
   "source": [
    "''' \n",
    "Function to scale data without altering nominal features.\n",
    "Takes 'df' (a dataframe) and 'nominal' (a list of nominal feature names).\n",
    "Returns the transformed dataframe. \n",
    "'''\n",
    "\n",
    "from sklearn.preprocessing import MinMaxScaler\n",
    "\n",
    "def scale(df, nominal):\n",
    "\n",
    "    scaler = MinMaxScaler()\n",
    "\n",
    "    for var in df.columns:\n",
    "            \n",
    "        if var not in nominal:\n",
    "            raw = df[var].to_numpy()\n",
    "            raw = raw.reshape(-1, 1)\n",
    "\n",
    "            scaler.fit(raw)\n",
    "            scaled = scaler.transform(raw)\n",
    "            df[var] = scaled\n",
    "\n",
    "    return df\n",
    "\n",
    "nominal = ['Marital status', 'Application mode', 'Course',\n",
    "           'Daytime/evening attendance', 'Previous qualification',\n",
    "           'Nationality', \"Mother's qualification\", \"Father's qualification\",\n",
    "           \"Mother's occupation\", \"Father's occupation\", 'Displaced', \n",
    "           'Educational special needs', 'Debtor', 'Tuition fees up to date', \n",
    "           'Gender', 'Scholarship holder', 'International']\n",
    "\n",
    "X = scale(X, nominal)\n",
    "X_train = scale(X_train, nominal)\n",
    "X_test = scale(X_test, nominal)"
   ]
  },
  {
   "cell_type": "code",
   "execution_count": null,
   "metadata": {},
   "outputs": [],
   "source": [
    "from category_encoders import TargetEncoder\n",
    "\n",
    "encoder = TargetEncoder(cols=nominal)\n",
    "\n",
    "# by only fitting the encoder to the training data, we will be able to see if target leakage is occurring\n",
    "encoder = encoder.fit(X_train, y_train)\n",
    "\n",
    "X_train_encoded = encoder.transform(X_train)\n",
    "X_test_encoded = encoder.transform(X_test)\n"
   ]
  },
  {
   "cell_type": "markdown",
   "metadata": {},
   "source": [
    "# Feature Selection"
   ]
  },
  {
   "cell_type": "markdown",
   "metadata": {},
   "source": [
    "The logistic regression model assumptions require us to perform feature selection before building and tuning a model, especially for the purpose of avoiding multicollinearity.<br>\n",
    "\n",
    "The process for feature selection isn't straightforward due to the mix of nominal and interval features. <br>\n",
    "This eliminates wrapper methods like recursive feature elimination because of how the nominal features must be encoded: <br>\n",
    " - One-hot/dummy encoding will cause the algorithm to misinterpret the levels of a feature as different features.  <br>\n",
    " - Label encoding will cause the algorithm to misinterpret the nominal features as ordinal. <br>\n",
    " \n",
    "We can use filter methods based on statistics like mutual information, but this requires a good deal of subjective interpretation. What is the acceptable threshold? <br>\n",
    "Tree-based algorithms are the most rigorous approach out of all the supervised methods due to their flexibility. We will use *boruta* and *permutation importance* and compare the results. <br>\n",
    "The problem with these methods is that they won't account for multicollinearity and are prone to selecting highly correlated features. We will need to investigate this afterward.<br>"
   ]
  },
  {
   "cell_type": "markdown",
   "metadata": {},
   "source": [
    "Boruta:"
   ]
  },
  {
   "cell_type": "code",
   "execution_count": null,
   "metadata": {},
   "outputs": [
    {
     "data": {
      "text/plain": [
       "['Application mode',\n",
       " 'Course',\n",
       " 'Previous qualification (grade)',\n",
       " \"Father's occupation\",\n",
       " 'Admission grade',\n",
       " 'Debtor',\n",
       " 'Tuition fees up to date',\n",
       " 'Scholarship holder',\n",
       " 'Age at enrollment',\n",
       " 'Curricular units 1st sem (enrolled)',\n",
       " 'Curricular units 1st sem (evaluations)',\n",
       " 'Curricular units 1st sem (approved)',\n",
       " 'Curricular units 1st sem (grade)',\n",
       " 'Curricular units 2nd sem (enrolled)',\n",
       " 'Curricular units 2nd sem (evaluations)',\n",
       " 'Curricular units 2nd sem (approved)',\n",
       " 'Curricular units 2nd sem (grade)']"
      ]
     },
     "execution_count": 27,
     "metadata": {},
     "output_type": "execute_result"
    }
   ],
   "source": [
    "# BORUTA\n",
    "# use data that is NOT one-hot encoded\n",
    "\n",
    "from sklearn.ensemble import RandomForestClassifier\n",
    "from boruta import BorutaPy\n",
    "\n",
    "# BorutyPy expects numpy arrays\n",
    "X_train_np = X_train.values\n",
    "y_train_np = y_train.values\n",
    "y_train_np = y_train_np.ravel()\n",
    "y_test_np = y_test.to_numpy()\n",
    "y_test_np = y_test_np.ravel()\n",
    "\n",
    "# fit random forest classifier\n",
    "rf = RandomForestClassifier(n_jobs=-1, class_weight={0:0.7, 1:0.3}, max_depth=5)\n",
    "rf.fit(X_train_np, y_train_np)\n",
    "\n",
    "# initialize and fit Boruta selector\n",
    "feat_selector = BorutaPy(rf, n_estimators='auto', random_state=1)\n",
    "feat_selector.fit(X_train_np, y_train_np)\n",
    "\n",
    "# display selected features\n",
    "boruta_subset = [feature for feature, keep in zip(X_train.columns, feat_selector.support_) if keep]\n",
    "boruta_subset"
   ]
  },
  {
   "cell_type": "markdown",
   "metadata": {},
   "source": [
    "Permutation importance:"
   ]
  },
  {
   "cell_type": "code",
   "execution_count": null,
   "metadata": {},
   "outputs": [
    {
     "name": "stdout",
     "output_type": "stream",
     "text": [
      "Curricular units 2nd sem (approved): 1.52e+02\n",
      "Tuition fees up to date: 38.0\n",
      "Curricular units 1st sem (enrolled): 15.8\n",
      "Curricular units 1st sem (approved): 8.17\n",
      "Curricular units 2nd sem (grade): 7.46\n",
      "Curricular units 2nd sem (enrolled): 6.78\n",
      "Curricular units 1st sem (grade): 3.27\n",
      "Course: 2.97\n",
      "Father's occupation: 2.68\n",
      "Unemployment rate: 2.3\n",
      "Inflation rate: 1.66\n",
      "Displaced: 1.58\n",
      "Debtor: 1.49\n",
      "Scholarship holder: 1.49\n",
      "Father's qualification: 1.37\n",
      "Admission grade: 1.29\n",
      "Mother's qualification: 1.26\n",
      "Age at enrollment: 1.22\n",
      "Daytime/evening attendance: 1.01\n",
      "Previous qualification: 0.991\n",
      "Curricular units 2nd sem (evaluations): 0.958\n",
      "Application order: 0.764\n",
      "Application mode: 0.7\n",
      "Curricular units 1st sem (evaluations): 0.614\n",
      "Previous qualification (grade): 0.226\n",
      "GDP: 0.215\n",
      "Marital status: 0.161\n",
      "International: 0.0108\n",
      "Educational special needs: 0.0\n",
      "Nationality: -1.85e-14\n",
      "Gender: -0.398\n",
      "Mother's occupation: -0.463\n"
     ]
    }
   ],
   "source": [
    "from sklearn.inspection import permutation_importance\n",
    "from sklearn.linear_model import LogisticRegression\n",
    "\n",
    "# initialize basic logit classifier\n",
    "clf = LogisticRegression(solver='newton-cholesky').fit(X_train_encoded, y_train_np) \n",
    "\n",
    "# initialize permutation importance\n",
    "pi = permutation_importance(clf, X_train_encoded, y_train_np,\n",
    "                           n_repeats=30,\n",
    "                           random_state=1)\n",
    "\n",
    "# display results\n",
    "for i in pi.importances_mean.argsort()[::-1]:\n",
    "    print(f\"{X_train.columns[i]}: {pi.importances_mean[i]*1000:.3}\") #multiply mean importance by 1000 for better readability\n",
    "\n",
    "# something about the multiplication causes the output to display 1.52e+02 as the highest importance value\n",
    "# 1.52e+02 = 152\n"
   ]
  },
  {
   "cell_type": "markdown",
   "metadata": {},
   "source": [
    "Let's pick the features with importance >= 1."
   ]
  },
  {
   "cell_type": "code",
   "execution_count": 34,
   "metadata": {},
   "outputs": [
    {
     "data": {
      "text/plain": [
       "['Course',\n",
       " 'Daytime/evening attendance',\n",
       " \"Mother's qualification\",\n",
       " \"Father's qualification\",\n",
       " \"Father's occupation\",\n",
       " 'Admission grade',\n",
       " 'Displaced',\n",
       " 'Debtor',\n",
       " 'Tuition fees up to date',\n",
       " 'Scholarship holder',\n",
       " 'Age at enrollment',\n",
       " 'Curricular units 1st sem (enrolled)',\n",
       " 'Curricular units 1st sem (approved)',\n",
       " 'Curricular units 1st sem (grade)',\n",
       " 'Curricular units 2nd sem (enrolled)',\n",
       " 'Curricular units 2nd sem (approved)',\n",
       " 'Curricular units 2nd sem (grade)',\n",
       " 'Unemployment rate',\n",
       " 'Inflation rate']"
      ]
     },
     "execution_count": 34,
     "metadata": {},
     "output_type": "execute_result"
    }
   ],
   "source": [
    "pi_subset = [col for col, var in zip(X_train.columns, pi.importances_mean) if var*1000 >= 1.0]\n",
    "pi_subset"
   ]
  },
  {
   "cell_type": "markdown",
   "metadata": {},
   "source": [
    "Now let's test the subsets and compare accuracy. Since adding more features usually results in better accuracy, we'll test the full feature space as well. We'll add roc-auc plots to see how generalizable each fit is, and to make sure that the full feature space isn't causing overfitting."
   ]
  },
  {
   "cell_type": "code",
   "execution_count": 47,
   "metadata": {},
   "outputs": [
    {
     "data": {
      "image/png": "[encoded data removed]",
      "text/plain": [
       "<Figure size 432x288 with 1 Axes>"
      ]
     },
     "metadata": {
      "needs_background": "light"
     },
     "output_type": "display_data"
    },
    {
     "name": "stdout",
     "output_type": "stream",
     "text": [
      "Boruta accuracy: 0.8697289156626506\n"
     ]
    }
   ],
   "source": [
    "# BORUTA TEST\n",
    "\n",
    "from sklearn.linear_model import LogisticRegressionCV\n",
    "\n",
    "# subset data\n",
    "X_train_boruta = X_train_encoded[boruta_subset]\n",
    "X_test_boruta = X_test_encoded[boruta_subset]\n",
    "\n",
    "# get accuracy score\n",
    "clf = LogisticRegressionCV(random_state=1, class_weight={0:0.7, 1:0.3}, solver='newton-cholesky').fit(X_train_boruta, y_train_np)\n",
    "score = clf.score(X_test_boruta, y_test_np)\n",
    "\n",
    "# ROC\n",
    "import matplotlib.pyplot as plt\n",
    "from sklearn.metrics import RocCurveDisplay\n",
    "\n",
    "fig, ax = plt.subplots()\n",
    "\n",
    "test_auc = RocCurveDisplay.from_estimator(clf, X_test_boruta, y_test, ax=ax, name='Test')\n",
    "train_auc = RocCurveDisplay.from_estimator(clf, X_train_boruta, y_train, ax=ax, name='Train')\n",
    "\n",
    "plt.show()\n",
    "\n",
    "print(f'Boruta accuracy: {score}')"
   ]
  },
  {
   "cell_type": "code",
   "execution_count": null,
   "metadata": {},
   "outputs": [
    {
     "data": {
      "image/png": "[encoded data removed]",
      "text/plain": [
       "<Figure size 432x288 with 1 Axes>"
      ]
     },
     "metadata": {
      "needs_background": "light"
     },
     "output_type": "display_data"
    },
    {
     "name": "stdout",
     "output_type": "stream",
     "text": [
      "Permuation importance accuracy: 0.8734939759036144\n"
     ]
    }
   ],
   "source": [
    "# PERMUTATION IMPORTANCE TEST\n",
    "\n",
    "# subset data\n",
    "X_train_pi = X_train_encoded[pi_subset]\n",
    "X_test_pi = X_test_encoded[pi_subset]\n",
    "\n",
    "# get accuracy score\n",
    "clf = LogisticRegressionCV(random_state=1, solver='newton-cholesky').fit(X_train_pi, y_train_np)\n",
    "score = clf.score(X_test_pi, y_test_np)\n",
    "\n",
    "# ROC\n",
    "fig, ax = plt.subplots()\n",
    "\n",
    "test_auc = RocCurveDisplay.from_estimator(clf, X_test_pi, y_test, ax=ax, name='Test')\n",
    "train_auc = RocCurveDisplay.from_estimator(clf, X_train_pi, y_train, ax=ax, name='Train')\n",
    "\n",
    "plt.show()\n",
    "\n",
    "print(f'Permuation importance accuracy: {score}')"
   ]
  },
  {
   "cell_type": "code",
   "execution_count": null,
   "metadata": {},
   "outputs": [
    {
     "data": {
      "image/png": "[encoded data removed]",
      "text/plain": [
       "<Figure size 432x288 with 1 Axes>"
      ]
     },
     "metadata": {
      "needs_background": "light"
     },
     "output_type": "display_data"
    },
    {
     "name": "stdout",
     "output_type": "stream",
     "text": [
      "All features accuracy: 0.8780120481927711\n"
     ]
    }
   ],
   "source": [
    "# get accuracy score\n",
    "clf = LogisticRegressionCV(random_state=1, solver='newton-cholesky').fit(X_train_encoded, y_train_np)\n",
    "score = clf.score(X_test_encoded, y_test_np)\n",
    "\n",
    "# ROC\n",
    "fig, ax = plt.subplots()\n",
    "\n",
    "test_auc = RocCurveDisplay.from_estimator(clf, X_test_encoded, y_test, ax=ax, name='Test')\n",
    "train_auc = RocCurveDisplay.from_estimator(clf, X_train_encoded, y_train, ax=ax, name='Train')\n",
    "\n",
    "plt.show()\n",
    "\n",
    "print(f'All features accuracy: {score}')"
   ]
  },
  {
   "cell_type": "markdown",
   "metadata": {},
   "source": [
    "Not only does using the entire feature space give the best accuracy, the fit looks great!<br>\n",
    "Since we've done our inferential analysis separately, we don't need to worry about interpretability. For this reason, we'll proceed using the full feature set."
   ]
  },
  {
   "cell_type": "code",
   "execution_count": 48,
   "metadata": {},
   "outputs": [],
   "source": [
    "# save final, preproccessed training and testing data\n",
    "\n",
    "X_train_encoded.to_csv('LogReg/X_train.csv', index=False)\n",
    "X_test_encoded.to_csv('LogReg/X_test.csv', index=False)\n",
    "y_train.to_csv('LogReg/y_train.csv', index=False)\n",
    "y_test.to_csv('LogReg/y_test.csv', index=False)"
   ]
  },
  {
   "cell_type": "markdown",
   "metadata": {},
   "source": [
    "# Model Tuning"
   ]
  },
  {
   "cell_type": "code",
   "execution_count": 49,
   "metadata": {},
   "outputs": [],
   "source": [
    "#load data\n",
    "\n",
    "X_train = pd.read_csv('LogReg/X_train.csv')\n",
    "X_test = pd.read_csv('LogReg/X_test.csv')\n",
    "\n",
    "y_train = pd.read_csv('LogReg/y_train.csv')\n",
    "y_test = pd.read_csv('LogReg/y_test.csv')\n",
    "\n",
    "y_train = y_train.values\n",
    "y_test = y_test.values\n",
    "\n",
    "y_train = y_train.ravel()\n",
    "y_test = y_test.ravel()\n"
   ]
  },
  {
   "cell_type": "markdown",
   "metadata": {},
   "source": [
    "### Vanilla\n",
    "\n",
    "Let's inspect the perfomance of the vanilla model to compare for later. We already looked at the accuracy and ROC-AUC, so now we'll look at the confusion matrix."
   ]
  },
  {
   "cell_type": "code",
   "execution_count": null,
   "metadata": {},
   "outputs": [],
   "source": [
    "from sklearn.linear_model import LogisticRegression, LogisticRegressionCV\n",
    "from sklearn.metrics import accuracy_score, precision_score, recall_score, confusion_matrix, f1_score, make_scorer, ConfusionMatrixDisplay, RocCurveDisplay\n",
    "import matplotlib.pyplot as plt"
   ]
  },
  {
   "cell_type": "code",
   "execution_count": null,
   "metadata": {},
   "outputs": [
    {
     "data": {
      "text/plain": [
       "<sklearn.metrics._plot.confusion_matrix.ConfusionMatrixDisplay at 0x218df35aaf0>"
      ]
     },
     "execution_count": 54,
     "metadata": {},
     "output_type": "execute_result"
    },
    {
     "data": {
      "image/png": "[encoded data removed]",
      "text/plain": [
       "<Figure size 432x288 with 1 Axes>"
      ]
     },
     "metadata": {
      "needs_background": "light"
     },
     "output_type": "display_data"
    }
   ],
   "source": [
    "# CONFUSION MATRIX\n",
    "\n",
    "clf_vanilla = LogisticRegressionCV(solver='newton-cholesky').fit(X_train, y_train)\n",
    "\n",
    "ConfusionMatrixDisplay.from_estimator(clf_vanilla, X_test, y_test, normalize='true', colorbar=False)\n"
   ]
  },
  {
   "cell_type": "markdown",
   "metadata": {},
   "source": [
    "The mean accuracy is 0.878<br>\n",
    "0.59% of true negative cases are falsely predicted. 27% of true positive cases are falsely predicted. That's a huge rate of false negatives. We'd rather have some bias toward false positives, if any. <br>"
   ]
  },
  {
   "cell_type": "markdown",
   "metadata": {},
   "source": [
    "### Hyperparameters"
   ]
  },
  {
   "cell_type": "markdown",
   "metadata": {},
   "source": [
    "Use grid search to evaluate the different possible parameter combinations."
   ]
  },
  {
   "cell_type": "code",
   "execution_count": null,
   "metadata": {},
   "outputs": [
    {
     "name": "stderr",
     "output_type": "stream",
     "text": [
      "c:\\Users\\Melanie\\anaconda3\\lib\\site-packages\\sklearn\\linear_model\\_sag.py:349: ConvergenceWarning: The max_iter was reached which means the coef_ did not converge\n",
      "  warnings.warn(\n",
      "c:\\Users\\Melanie\\anaconda3\\lib\\site-packages\\sklearn\\linear_model\\_sag.py:349: ConvergenceWarning: The max_iter was reached which means the coef_ did not converge\n",
      "  warnings.warn(\n",
      "c:\\Users\\Melanie\\anaconda3\\lib\\site-packages\\sklearn\\linear_model\\_sag.py:349: ConvergenceWarning: The max_iter was reached which means the coef_ did not converge\n",
      "  warnings.warn(\n",
      "c:\\Users\\Melanie\\anaconda3\\lib\\site-packages\\sklearn\\linear_model\\_sag.py:349: ConvergenceWarning: The max_iter was reached which means the coef_ did not converge\n",
      "  warnings.warn(\n",
      "c:\\Users\\Melanie\\anaconda3\\lib\\site-packages\\sklearn\\linear_model\\_sag.py:349: ConvergenceWarning: The max_iter was reached which means the coef_ did not converge\n",
      "  warnings.warn(\n",
      "c:\\Users\\Melanie\\anaconda3\\lib\\site-packages\\sklearn\\linear_model\\_sag.py:349: ConvergenceWarning: The max_iter was reached which means the coef_ did not converge\n",
      "  warnings.warn(\n",
      "c:\\Users\\Melanie\\anaconda3\\lib\\site-packages\\sklearn\\linear_model\\_sag.py:349: ConvergenceWarning: The max_iter was reached which means the coef_ did not converge\n",
      "  warnings.warn(\n",
      "c:\\Users\\Melanie\\anaconda3\\lib\\site-packages\\sklearn\\linear_model\\_sag.py:349: ConvergenceWarning: The max_iter was reached which means the coef_ did not converge\n",
      "  warnings.warn(\n",
      "c:\\Users\\Melanie\\anaconda3\\lib\\site-packages\\sklearn\\linear_model\\_sag.py:349: ConvergenceWarning: The max_iter was reached which means the coef_ did not converge\n",
      "  warnings.warn(\n",
      "c:\\Users\\Melanie\\anaconda3\\lib\\site-packages\\sklearn\\linear_model\\_sag.py:349: ConvergenceWarning: The max_iter was reached which means the coef_ did not converge\n",
      "  warnings.warn(\n",
      "c:\\Users\\Melanie\\anaconda3\\lib\\site-packages\\sklearn\\linear_model\\_sag.py:349: ConvergenceWarning: The max_iter was reached which means the coef_ did not converge\n",
      "  warnings.warn(\n",
      "c:\\Users\\Melanie\\anaconda3\\lib\\site-packages\\sklearn\\linear_model\\_sag.py:349: ConvergenceWarning: The max_iter was reached which means the coef_ did not converge\n",
      "  warnings.warn(\n",
      "c:\\Users\\Melanie\\anaconda3\\lib\\site-packages\\sklearn\\linear_model\\_sag.py:349: ConvergenceWarning: The max_iter was reached which means the coef_ did not converge\n",
      "  warnings.warn(\n",
      "c:\\Users\\Melanie\\anaconda3\\lib\\site-packages\\sklearn\\linear_model\\_sag.py:349: ConvergenceWarning: The max_iter was reached which means the coef_ did not converge\n",
      "  warnings.warn(\n",
      "c:\\Users\\Melanie\\anaconda3\\lib\\site-packages\\sklearn\\linear_model\\_sag.py:349: ConvergenceWarning: The max_iter was reached which means the coef_ did not converge\n",
      "  warnings.warn(\n",
      "c:\\Users\\Melanie\\anaconda3\\lib\\site-packages\\sklearn\\linear_model\\_sag.py:349: ConvergenceWarning: The max_iter was reached which means the coef_ did not converge\n",
      "  warnings.warn(\n",
      "c:\\Users\\Melanie\\anaconda3\\lib\\site-packages\\sklearn\\linear_model\\_sag.py:349: ConvergenceWarning: The max_iter was reached which means the coef_ did not converge\n",
      "  warnings.warn(\n",
      "c:\\Users\\Melanie\\anaconda3\\lib\\site-packages\\sklearn\\linear_model\\_sag.py:349: ConvergenceWarning: The max_iter was reached which means the coef_ did not converge\n",
      "  warnings.warn(\n",
      "c:\\Users\\Melanie\\anaconda3\\lib\\site-packages\\sklearn\\linear_model\\_sag.py:349: ConvergenceWarning: The max_iter was reached which means the coef_ did not converge\n",
      "  warnings.warn(\n",
      "c:\\Users\\Melanie\\anaconda3\\lib\\site-packages\\sklearn\\linear_model\\_sag.py:349: ConvergenceWarning: The max_iter was reached which means the coef_ did not converge\n",
      "  warnings.warn(\n",
      "c:\\Users\\Melanie\\anaconda3\\lib\\site-packages\\sklearn\\linear_model\\_sag.py:349: ConvergenceWarning: The max_iter was reached which means the coef_ did not converge\n",
      "  warnings.warn(\n",
      "c:\\Users\\Melanie\\anaconda3\\lib\\site-packages\\sklearn\\linear_model\\_sag.py:349: ConvergenceWarning: The max_iter was reached which means the coef_ did not converge\n",
      "  warnings.warn(\n",
      "c:\\Users\\Melanie\\anaconda3\\lib\\site-packages\\sklearn\\linear_model\\_sag.py:349: ConvergenceWarning: The max_iter was reached which means the coef_ did not converge\n",
      "  warnings.warn(\n",
      "c:\\Users\\Melanie\\anaconda3\\lib\\site-packages\\sklearn\\linear_model\\_sag.py:349: ConvergenceWarning: The max_iter was reached which means the coef_ did not converge\n",
      "  warnings.warn(\n",
      "c:\\Users\\Melanie\\anaconda3\\lib\\site-packages\\sklearn\\linear_model\\_sag.py:349: ConvergenceWarning: The max_iter was reached which means the coef_ did not converge\n",
      "  warnings.warn(\n",
      "c:\\Users\\Melanie\\anaconda3\\lib\\site-packages\\sklearn\\linear_model\\_sag.py:349: ConvergenceWarning: The max_iter was reached which means the coef_ did not converge\n",
      "  warnings.warn(\n",
      "c:\\Users\\Melanie\\anaconda3\\lib\\site-packages\\sklearn\\linear_model\\_sag.py:349: ConvergenceWarning: The max_iter was reached which means the coef_ did not converge\n",
      "  warnings.warn(\n",
      "c:\\Users\\Melanie\\anaconda3\\lib\\site-packages\\sklearn\\linear_model\\_sag.py:349: ConvergenceWarning: The max_iter was reached which means the coef_ did not converge\n",
      "  warnings.warn(\n",
      "c:\\Users\\Melanie\\anaconda3\\lib\\site-packages\\sklearn\\linear_model\\_sag.py:349: ConvergenceWarning: The max_iter was reached which means the coef_ did not converge\n",
      "  warnings.warn(\n",
      "c:\\Users\\Melanie\\anaconda3\\lib\\site-packages\\sklearn\\linear_model\\_sag.py:349: ConvergenceWarning: The max_iter was reached which means the coef_ did not converge\n",
      "  warnings.warn(\n",
      "c:\\Users\\Melanie\\anaconda3\\lib\\site-packages\\sklearn\\linear_model\\_sag.py:349: ConvergenceWarning: The max_iter was reached which means the coef_ did not converge\n",
      "  warnings.warn(\n",
      "c:\\Users\\Melanie\\anaconda3\\lib\\site-packages\\sklearn\\linear_model\\_sag.py:349: ConvergenceWarning: The max_iter was reached which means the coef_ did not converge\n",
      "  warnings.warn(\n",
      "c:\\Users\\Melanie\\anaconda3\\lib\\site-packages\\sklearn\\linear_model\\_sag.py:349: ConvergenceWarning: The max_iter was reached which means the coef_ did not converge\n",
      "  warnings.warn(\n",
      "c:\\Users\\Melanie\\anaconda3\\lib\\site-packages\\sklearn\\linear_model\\_sag.py:349: ConvergenceWarning: The max_iter was reached which means the coef_ did not converge\n",
      "  warnings.warn(\n",
      "c:\\Users\\Melanie\\anaconda3\\lib\\site-packages\\sklearn\\linear_model\\_sag.py:349: ConvergenceWarning: The max_iter was reached which means the coef_ did not converge\n",
      "  warnings.warn(\n",
      "c:\\Users\\Melanie\\anaconda3\\lib\\site-packages\\sklearn\\linear_model\\_sag.py:349: ConvergenceWarning: The max_iter was reached which means the coef_ did not converge\n",
      "  warnings.warn(\n",
      "c:\\Users\\Melanie\\anaconda3\\lib\\site-packages\\sklearn\\linear_model\\_sag.py:349: ConvergenceWarning: The max_iter was reached which means the coef_ did not converge\n",
      "  warnings.warn(\n",
      "c:\\Users\\Melanie\\anaconda3\\lib\\site-packages\\sklearn\\linear_model\\_sag.py:349: ConvergenceWarning: The max_iter was reached which means the coef_ did not converge\n",
      "  warnings.warn(\n",
      "c:\\Users\\Melanie\\anaconda3\\lib\\site-packages\\sklearn\\linear_model\\_sag.py:349: ConvergenceWarning: The max_iter was reached which means the coef_ did not converge\n",
      "  warnings.warn(\n",
      "c:\\Users\\Melanie\\anaconda3\\lib\\site-packages\\sklearn\\linear_model\\_sag.py:349: ConvergenceWarning: The max_iter was reached which means the coef_ did not converge\n",
      "  warnings.warn(\n",
      "c:\\Users\\Melanie\\anaconda3\\lib\\site-packages\\sklearn\\linear_model\\_sag.py:349: ConvergenceWarning: The max_iter was reached which means the coef_ did not converge\n",
      "  warnings.warn(\n",
      "c:\\Users\\Melanie\\anaconda3\\lib\\site-packages\\sklearn\\linear_model\\_sag.py:349: ConvergenceWarning: The max_iter was reached which means the coef_ did not converge\n",
      "  warnings.warn(\n",
      "c:\\Users\\Melanie\\anaconda3\\lib\\site-packages\\sklearn\\linear_model\\_sag.py:349: ConvergenceWarning: The max_iter was reached which means the coef_ did not converge\n",
      "  warnings.warn(\n",
      "c:\\Users\\Melanie\\anaconda3\\lib\\site-packages\\sklearn\\linear_model\\_sag.py:349: ConvergenceWarning: The max_iter was reached which means the coef_ did not converge\n",
      "  warnings.warn(\n",
      "c:\\Users\\Melanie\\anaconda3\\lib\\site-packages\\sklearn\\model_selection\\_validation.py:540: FitFailedWarning: \n",
      "120 fits failed out of a total of 400.\n",
      "The score on these train-test partitions for these parameters will be set to nan.\n",
      "If these failures are not expected, you can try to debug them by setting error_score='raise'.\n",
      "\n",
      "Below are more details about the failures:\n",
      "--------------------------------------------------------------------------------\n",
      "40 fits failed with the following error:\n",
      "Traceback (most recent call last):\n",
      "  File \"c:\\Users\\Melanie\\anaconda3\\lib\\site-packages\\sklearn\\model_selection\\_validation.py\", line 888, in _fit_and_score\n",
      "    estimator.fit(X_train, y_train, **fit_params)\n",
      "  File \"c:\\Users\\Melanie\\anaconda3\\lib\\site-packages\\sklearn\\base.py\", line 1473, in wrapper\n",
      "    return fit_method(estimator, *args, **kwargs)\n",
      "  File \"c:\\Users\\Melanie\\anaconda3\\lib\\site-packages\\sklearn\\linear_model\\_logistic.py\", line 1194, in fit\n",
      "    solver = _check_solver(self.solver, self.penalty, self.dual)\n",
      "  File \"c:\\Users\\Melanie\\anaconda3\\lib\\site-packages\\sklearn\\linear_model\\_logistic.py\", line 67, in _check_solver\n",
      "    raise ValueError(\n",
      "ValueError: Solver lbfgs supports only 'l2' or None penalties, got l1 penalty.\n",
      "\n",
      "--------------------------------------------------------------------------------\n",
      "40 fits failed with the following error:\n",
      "Traceback (most recent call last):\n",
      "  File \"c:\\Users\\Melanie\\anaconda3\\lib\\site-packages\\sklearn\\model_selection\\_validation.py\", line 888, in _fit_and_score\n",
      "    estimator.fit(X_train, y_train, **fit_params)\n",
      "  File \"c:\\Users\\Melanie\\anaconda3\\lib\\site-packages\\sklearn\\base.py\", line 1473, in wrapper\n",
      "    return fit_method(estimator, *args, **kwargs)\n",
      "  File \"c:\\Users\\Melanie\\anaconda3\\lib\\site-packages\\sklearn\\linear_model\\_logistic.py\", line 1194, in fit\n",
      "    solver = _check_solver(self.solver, self.penalty, self.dual)\n",
      "  File \"c:\\Users\\Melanie\\anaconda3\\lib\\site-packages\\sklearn\\linear_model\\_logistic.py\", line 67, in _check_solver\n",
      "    raise ValueError(\n",
      "ValueError: Solver newton-cg supports only 'l2' or None penalties, got l1 penalty.\n",
      "\n",
      "--------------------------------------------------------------------------------\n",
      "40 fits failed with the following error:\n",
      "Traceback (most recent call last):\n",
      "  File \"c:\\Users\\Melanie\\anaconda3\\lib\\site-packages\\sklearn\\model_selection\\_validation.py\", line 888, in _fit_and_score\n",
      "    estimator.fit(X_train, y_train, **fit_params)\n",
      "  File \"c:\\Users\\Melanie\\anaconda3\\lib\\site-packages\\sklearn\\base.py\", line 1473, in wrapper\n",
      "    return fit_method(estimator, *args, **kwargs)\n",
      "  File \"c:\\Users\\Melanie\\anaconda3\\lib\\site-packages\\sklearn\\linear_model\\_logistic.py\", line 1194, in fit\n",
      "    solver = _check_solver(self.solver, self.penalty, self.dual)\n",
      "  File \"c:\\Users\\Melanie\\anaconda3\\lib\\site-packages\\sklearn\\linear_model\\_logistic.py\", line 67, in _check_solver\n",
      "    raise ValueError(\n",
      "ValueError: Solver newton-cholesky supports only 'l2' or None penalties, got l1 penalty.\n",
      "\n",
      "  warnings.warn(some_fits_failed_message, FitFailedWarning)\n",
      "c:\\Users\\Melanie\\anaconda3\\lib\\site-packages\\sklearn\\model_selection\\_search.py:1102: UserWarning: One or more of the test scores are non-finite: [       nan 0.6711887         nan        nan 0.6711887  0.6711887\n",
      " 0.6711887  0.6711887  0.6711887  0.6711887         nan 0.6711887\n",
      "        nan        nan 0.82138308 0.80749023 0.80781333 0.80749023\n",
      " 0.80749023 0.80749023        nan 0.852392          nan        nan\n",
      " 0.85788525 0.85142061 0.85045286 0.85142061 0.85142061 0.8510975\n",
      "        nan 0.86596175        nan        nan 0.86596331 0.86983532\n",
      " 0.86983584 0.8695117  0.86951222 0.86918912        nan 0.86918964\n",
      "        nan        nan 0.86919068 0.86919068 0.86983636 0.86983532\n",
      " 0.86983532 0.86919016        nan 0.86919016        nan        nan\n",
      " 0.86983636 0.86918964 0.86951274 0.86951274 0.86951274 0.86983636\n",
      "        nan 0.86951326        nan        nan 0.87048257 0.86983584\n",
      " 0.86951274 0.86918964 0.86951274 0.87048257        nan 0.86919016\n",
      "        nan        nan 0.87048257 0.86983584 0.86951274 0.86951274\n",
      " 0.86951274 0.87048257]\n",
      "  warnings.warn(\n",
      "c:\\Users\\Melanie\\anaconda3\\lib\\site-packages\\sklearn\\model_selection\\_search.py:1102: UserWarning: One or more of the train scores are non-finite: [       nan 0.67118863        nan        nan 0.67118863 0.67118863\n",
      " 0.67118863 0.67118863 0.67118863 0.67118863        nan 0.67118863\n",
      "        nan        nan 0.8217056  0.80765479 0.80789701 0.80765479\n",
      " 0.80765479 0.80765479        nan 0.85440909        nan        nan\n",
      " 0.85860808 0.85335905 0.85117909 0.85319756 0.8532783  0.85319756\n",
      "        nan 0.87354691        nan        nan 0.87403133 0.87419278\n",
      " 0.87386988 0.87403127 0.87419278 0.87419278        nan 0.87613077\n",
      "        nan        nan 0.87596929 0.87580771 0.87613084 0.87580784\n",
      " 0.87580784 0.87572709        nan 0.87653459        nan        nan\n",
      " 0.87596935 0.87596929 0.87588855 0.87613081 0.87629229 0.87605013\n",
      "        nan 0.87661533        nan        nan 0.87588864 0.87621148\n",
      " 0.87596935 0.87572709 0.87605006 0.87588864        nan 0.87653459\n",
      "        nan        nan 0.87588864 0.87653455 0.87588861 0.8758079\n",
      " 0.87564638 0.87588864]\n",
      "  warnings.warn(\n",
      "c:\\Users\\Melanie\\anaconda3\\lib\\site-packages\\sklearn\\model_selection\\_search.py:1102: UserWarning: One or more of the test scores are non-finite: [       nan 0.                nan        nan 0.         0.\n",
      " 0.         0.         0.         0.                nan 0.\n",
      "        nan        nan 0.57366947 0.5147252  0.51570559 0.5147252\n",
      " 0.5147252  0.5147252         nan 0.69155317        nan        nan\n",
      " 0.69940597 0.67093113 0.66798513 0.67093113 0.6709263  0.66994591\n",
      "        nan 0.71022409        nan        nan 0.71415532 0.71317975\n",
      " 0.71121897 0.71121897 0.71219453 0.71121414        nan 0.72201777\n",
      "        nan        nan 0.72299816 0.72300299 0.72300299 0.72201777\n",
      " 0.72201777 0.72201777        nan 0.72103738        nan        nan\n",
      " 0.72299334 0.72005699 0.72103738 0.72201777 0.72201777 0.72299334\n",
      "        nan 0.7220226         nan        nan 0.72397856 0.72103738\n",
      " 0.72103738 0.72005699 0.72103738 0.72397856        nan 0.72103738\n",
      "        nan        nan 0.72397856 0.72103738 0.7220226  0.72005699\n",
      " 0.7220226  0.72397856]\n",
      "  warnings.warn(\n",
      "c:\\Users\\Melanie\\anaconda3\\lib\\site-packages\\sklearn\\model_selection\\_search.py:1102: UserWarning: One or more of the train scores are non-finite: [       nan 0.                nan        nan 0.         0.\n",
      " 0.         0.         0.         0.                nan 0.\n",
      "        nan        nan 0.5714641  0.51547158 0.51596268 0.51547158\n",
      " 0.51547158 0.51547158        nan 0.69646855        nan        nan\n",
      " 0.69671666 0.67362868 0.67190998 0.67362868 0.67362868 0.67362868\n",
      "        nan 0.71709742        nan        nan 0.71906182 0.71685202\n",
      " 0.71439653 0.71586922 0.71660632 0.71660632        nan 0.72962271\n",
      "        nan        nan 0.72839511 0.72642951 0.72618441 0.72692091\n",
      " 0.72692091 0.72618441        nan 0.7306049         nan        nan\n",
      " 0.72864051 0.72937701 0.72913131 0.7301135  0.7303592  0.72839511\n",
      "        nan 0.7306046         nan        nan 0.72839511 0.72986811\n",
      " 0.7296221  0.72913131 0.7298675  0.72839511        nan 0.7303592\n",
      "        nan        nan 0.72839511 0.7301135  0.72937671 0.72937701\n",
      " 0.729131   0.72839511]\n",
      "  warnings.warn(\n",
      "c:\\Users\\Melanie\\anaconda3\\lib\\site-packages\\sklearn\\model_selection\\_search.py:1102: UserWarning: One or more of the test scores are non-finite: [       nan 0.                nan        nan 0.         0.\n",
      " 0.         0.         0.         0.                nan 0.\n",
      "        nan        nan 0.67815556 0.63676311 0.6375508  0.63676311\n",
      " 0.63676311 0.63676311        nan 0.75492713        nan        nan\n",
      " 0.76427988 0.74808707 0.74601286 0.74808707 0.74807446 0.74739853\n",
      "        nan 0.77719855        nan        nan 0.77827291 0.78277429\n",
      " 0.78231029 0.78192368 0.78213031 0.78150279        nan 0.78435073\n",
      "        nan        nan 0.78460472 0.78456387 0.78540736 0.78512426\n",
      " 0.78512426 0.78432424        nan 0.78417715        nan        nan\n",
      " 0.7854315  0.78390319 0.78457758 0.78477222 0.78477222 0.7854315\n",
      "        nan 0.78484318        nan        nan 0.78654882 0.78501342\n",
      " 0.78457758 0.78390319 0.78457758 0.78654882        nan 0.78417715\n",
      "        nan        nan 0.78654882 0.78497058 0.78479484 0.78437862\n",
      " 0.78479484 0.78654882]\n",
      "  warnings.warn(\n",
      "c:\\Users\\Melanie\\anaconda3\\lib\\site-packages\\sklearn\\model_selection\\_search.py:1102: UserWarning: One or more of the train scores are non-finite: [       nan 0.                nan        nan 0.         0.\n",
      " 0.         0.         0.         0.                nan 0.\n",
      "        nan        nan 0.67823149 0.63797583 0.63848712 0.63797583\n",
      " 0.63797583 0.63797583        nan 0.75877766        nan        nan\n",
      " 0.76411886 0.75128134 0.74803881 0.75107479 0.75117853 0.75107479\n",
      "        nan 0.78853016        nan        nan 0.78962337 0.7893156\n",
      " 0.78831773 0.78887771 0.78925911 0.78925911        nan 0.79478559\n",
      "        nan        nan 0.79429489 0.79364916 0.79401621 0.79375991\n",
      " 0.79375991 0.7934855         nan 0.79554353        nan        nan\n",
      " 0.79435449 0.79452276 0.79436172 0.79490122 0.79516807 0.79440406\n",
      "        nan 0.7956541         nan        nan 0.79419203 0.79495394\n",
      " 0.79458029 0.79415008 0.79474198 0.79419203        nan 0.79549107\n",
      "        nan        nan 0.79419203 0.7954311  0.79441706 0.7943105\n",
      " 0.79404325 0.79419203]\n",
      "  warnings.warn(\n"
     ]
    }
   ],
   "source": [
    "from sklearn.model_selection import GridSearchCV\n",
    "\n",
    "# define possible parameters\n",
    "parameters = {'penalty':['l1', 'l2'], # exclude penalties 'none' and 'elasticnet' because they produce NaN\n",
    "              'solver':['lbfgs', 'liblinear', 'newton-cg', 'newton-cholesky', 'saga'], # exclude sag because it never converges\n",
    "              'C':[0.001, 0.01, 0.1, 1, 10, 100, 1000]} # use logarithmic scale to test wide range of C values \n",
    "\n",
    "# fit \n",
    "lrg = LogisticRegression(max_iter=500)\n",
    "f1 = make_scorer(f1_score)\n",
    "clf = GridSearchCV(lrg, parameters, scoring=['accuracy', 'recall', 'f1'], return_train_score=True, refit=False)\n",
    "\n",
    "clf.fit(X_train, y_train)\n",
    "\n",
    "# store results\n",
    "gs_results = pd.DataFrame(clf.cv_results_)"
   ]
  },
  {
   "cell_type": "markdown",
   "metadata": {},
   "source": [
    "Filter the results dataframe and reformat into a digestible form."
   ]
  },
  {
   "cell_type": "code",
   "execution_count": 62,
   "metadata": {},
   "outputs": [],
   "source": [
    "# remove rows with NaN\n",
    "# these rows represent incompatible parameter combinations\n",
    "gs_results = gs_results.dropna(axis=0)\n",
    "\n",
    "# columns of interest\n",
    "columns = ['param_C', 'param_penalty', 'param_solver', \n",
    "           'mean_test_accuracy', \n",
    "           'mean_test_recall', \n",
    "           'mean_test_f1']\n"
   ]
  },
  {
   "cell_type": "code",
   "execution_count": 63,
   "metadata": {},
   "outputs": [
    {
     "data": {
      "text/html": [
       "<div>\n",
       "<style scoped>\n",
       "    .dataframe tbody tr th:only-of-type {\n",
       "        vertical-align: middle;\n",
       "    }\n",
       "\n",
       "    .dataframe tbody tr th {\n",
       "        vertical-align: top;\n",
       "    }\n",
       "\n",
       "    .dataframe thead th {\n",
       "        text-align: right;\n",
       "    }\n",
       "</style>\n",
       "<table border=\"1\" class=\"dataframe\">\n",
       "  <thead>\n",
       "    <tr style=\"text-align: right;\">\n",
       "      <th></th>\n",
       "      <th>param_C</th>\n",
       "      <th>param_penalty</th>\n",
       "      <th>param_solver</th>\n",
       "      <th>mean_test_accuracy</th>\n",
       "      <th>mean_test_recall</th>\n",
       "      <th>mean_test_f1</th>\n",
       "    </tr>\n",
       "  </thead>\n",
       "  <tbody>\n",
       "    <tr>\n",
       "      <th>0</th>\n",
       "      <td>10000.0</td>\n",
       "      <td>l2</td>\n",
       "      <td>saga</td>\n",
       "      <td>0.870483</td>\n",
       "      <td>0.723979</td>\n",
       "      <td>0.786549</td>\n",
       "    </tr>\n",
       "    <tr>\n",
       "      <th>1</th>\n",
       "      <td>10000.0</td>\n",
       "      <td>l1</td>\n",
       "      <td>saga</td>\n",
       "      <td>0.870483</td>\n",
       "      <td>0.723979</td>\n",
       "      <td>0.786549</td>\n",
       "    </tr>\n",
       "    <tr>\n",
       "      <th>2</th>\n",
       "      <td>1000.0</td>\n",
       "      <td>l1</td>\n",
       "      <td>saga</td>\n",
       "      <td>0.870483</td>\n",
       "      <td>0.723979</td>\n",
       "      <td>0.786549</td>\n",
       "    </tr>\n",
       "    <tr>\n",
       "      <th>3</th>\n",
       "      <td>1000.0</td>\n",
       "      <td>l2</td>\n",
       "      <td>saga</td>\n",
       "      <td>0.870483</td>\n",
       "      <td>0.723979</td>\n",
       "      <td>0.786549</td>\n",
       "    </tr>\n",
       "    <tr>\n",
       "      <th>4</th>\n",
       "      <td>10.0</td>\n",
       "      <td>l2</td>\n",
       "      <td>lbfgs</td>\n",
       "      <td>0.869191</td>\n",
       "      <td>0.723003</td>\n",
       "      <td>0.784564</td>\n",
       "    </tr>\n",
       "  </tbody>\n",
       "</table>\n",
       "</div>"
      ],
      "text/plain": [
       "   param_C param_penalty param_solver  mean_test_accuracy  mean_test_recall  \\\n",
       "0  10000.0            l2         saga            0.870483          0.723979   \n",
       "1  10000.0            l1         saga            0.870483          0.723979   \n",
       "2   1000.0            l1         saga            0.870483          0.723979   \n",
       "3   1000.0            l2         saga            0.870483          0.723979   \n",
       "4     10.0            l2        lbfgs            0.869191          0.723003   \n",
       "\n",
       "   mean_test_f1  \n",
       "0      0.786549  \n",
       "1      0.786549  \n",
       "2      0.786549  \n",
       "3      0.786549  \n",
       "4      0.784564  "
      ]
     },
     "execution_count": 63,
     "metadata": {},
     "output_type": "execute_result"
    }
   ],
   "source": [
    "# VIEW HIGHEST RECALL\n",
    "# prioritize recall over precision to help balance the error ratios\n",
    "gs_recall = gs_results[columns].sort_values(by='mean_test_recall', axis=0, ascending=False, ignore_index=True)\n",
    "gs_recall.head()"
   ]
  },
  {
   "cell_type": "code",
   "execution_count": 64,
   "metadata": {},
   "outputs": [
    {
     "data": {
      "text/html": [
       "<div>\n",
       "<style scoped>\n",
       "    .dataframe tbody tr th:only-of-type {\n",
       "        vertical-align: middle;\n",
       "    }\n",
       "\n",
       "    .dataframe tbody tr th {\n",
       "        vertical-align: top;\n",
       "    }\n",
       "\n",
       "    .dataframe thead th {\n",
       "        text-align: right;\n",
       "    }\n",
       "</style>\n",
       "<table border=\"1\" class=\"dataframe\">\n",
       "  <thead>\n",
       "    <tr style=\"text-align: right;\">\n",
       "      <th></th>\n",
       "      <th>param_C</th>\n",
       "      <th>param_penalty</th>\n",
       "      <th>param_solver</th>\n",
       "      <th>mean_test_accuracy</th>\n",
       "      <th>mean_test_recall</th>\n",
       "      <th>mean_test_f1</th>\n",
       "    </tr>\n",
       "  </thead>\n",
       "  <tbody>\n",
       "    <tr>\n",
       "      <th>0</th>\n",
       "      <td>10000.0</td>\n",
       "      <td>l2</td>\n",
       "      <td>saga</td>\n",
       "      <td>0.870483</td>\n",
       "      <td>0.723979</td>\n",
       "      <td>0.786549</td>\n",
       "    </tr>\n",
       "    <tr>\n",
       "      <th>1</th>\n",
       "      <td>10000.0</td>\n",
       "      <td>l1</td>\n",
       "      <td>saga</td>\n",
       "      <td>0.870483</td>\n",
       "      <td>0.723979</td>\n",
       "      <td>0.786549</td>\n",
       "    </tr>\n",
       "    <tr>\n",
       "      <th>2</th>\n",
       "      <td>1000.0</td>\n",
       "      <td>l2</td>\n",
       "      <td>saga</td>\n",
       "      <td>0.870483</td>\n",
       "      <td>0.723979</td>\n",
       "      <td>0.786549</td>\n",
       "    </tr>\n",
       "    <tr>\n",
       "      <th>3</th>\n",
       "      <td>1000.0</td>\n",
       "      <td>l1</td>\n",
       "      <td>saga</td>\n",
       "      <td>0.870483</td>\n",
       "      <td>0.723979</td>\n",
       "      <td>0.786549</td>\n",
       "    </tr>\n",
       "    <tr>\n",
       "      <th>4</th>\n",
       "      <td>100.0</td>\n",
       "      <td>l2</td>\n",
       "      <td>saga</td>\n",
       "      <td>0.869836</td>\n",
       "      <td>0.722993</td>\n",
       "      <td>0.785431</td>\n",
       "    </tr>\n",
       "  </tbody>\n",
       "</table>\n",
       "</div>"
      ],
      "text/plain": [
       "   param_C param_penalty param_solver  mean_test_accuracy  mean_test_recall  \\\n",
       "0  10000.0            l2         saga            0.870483          0.723979   \n",
       "1  10000.0            l1         saga            0.870483          0.723979   \n",
       "2   1000.0            l2         saga            0.870483          0.723979   \n",
       "3   1000.0            l1         saga            0.870483          0.723979   \n",
       "4    100.0            l2         saga            0.869836          0.722993   \n",
       "\n",
       "   mean_test_f1  \n",
       "0      0.786549  \n",
       "1      0.786549  \n",
       "2      0.786549  \n",
       "3      0.786549  \n",
       "4      0.785431  "
      ]
     },
     "execution_count": 64,
     "metadata": {},
     "output_type": "execute_result"
    }
   ],
   "source": [
    "# VIEW HIGHEST F1 SCORE\n",
    "gs_f1 = gs_results[columns].sort_values(by='mean_test_f1', axis=0, ascending=False, ignore_index=True)\n",
    "gs_f1.head()"
   ]
  },
  {
   "cell_type": "code",
   "execution_count": 65,
   "metadata": {},
   "outputs": [
    {
     "data": {
      "text/html": [
       "<div>\n",
       "<style scoped>\n",
       "    .dataframe tbody tr th:only-of-type {\n",
       "        vertical-align: middle;\n",
       "    }\n",
       "\n",
       "    .dataframe tbody tr th {\n",
       "        vertical-align: top;\n",
       "    }\n",
       "\n",
       "    .dataframe thead th {\n",
       "        text-align: right;\n",
       "    }\n",
       "</style>\n",
       "<table border=\"1\" class=\"dataframe\">\n",
       "  <thead>\n",
       "    <tr style=\"text-align: right;\">\n",
       "      <th></th>\n",
       "      <th>param_C</th>\n",
       "      <th>param_penalty</th>\n",
       "      <th>param_solver</th>\n",
       "      <th>mean_test_accuracy</th>\n",
       "      <th>mean_test_recall</th>\n",
       "      <th>mean_test_f1</th>\n",
       "    </tr>\n",
       "  </thead>\n",
       "  <tbody>\n",
       "    <tr>\n",
       "      <th>0</th>\n",
       "      <td>10000.0</td>\n",
       "      <td>l2</td>\n",
       "      <td>saga</td>\n",
       "      <td>0.870483</td>\n",
       "      <td>0.723979</td>\n",
       "      <td>0.786549</td>\n",
       "    </tr>\n",
       "    <tr>\n",
       "      <th>1</th>\n",
       "      <td>10000.0</td>\n",
       "      <td>l1</td>\n",
       "      <td>saga</td>\n",
       "      <td>0.870483</td>\n",
       "      <td>0.723979</td>\n",
       "      <td>0.786549</td>\n",
       "    </tr>\n",
       "    <tr>\n",
       "      <th>2</th>\n",
       "      <td>1000.0</td>\n",
       "      <td>l1</td>\n",
       "      <td>saga</td>\n",
       "      <td>0.870483</td>\n",
       "      <td>0.723979</td>\n",
       "      <td>0.786549</td>\n",
       "    </tr>\n",
       "    <tr>\n",
       "      <th>3</th>\n",
       "      <td>1000.0</td>\n",
       "      <td>l2</td>\n",
       "      <td>saga</td>\n",
       "      <td>0.870483</td>\n",
       "      <td>0.723979</td>\n",
       "      <td>0.786549</td>\n",
       "    </tr>\n",
       "    <tr>\n",
       "      <th>4</th>\n",
       "      <td>100.0</td>\n",
       "      <td>l1</td>\n",
       "      <td>saga</td>\n",
       "      <td>0.869836</td>\n",
       "      <td>0.722993</td>\n",
       "      <td>0.785431</td>\n",
       "    </tr>\n",
       "  </tbody>\n",
       "</table>\n",
       "</div>"
      ],
      "text/plain": [
       "   param_C param_penalty param_solver  mean_test_accuracy  mean_test_recall  \\\n",
       "0  10000.0            l2         saga            0.870483          0.723979   \n",
       "1  10000.0            l1         saga            0.870483          0.723979   \n",
       "2   1000.0            l1         saga            0.870483          0.723979   \n",
       "3   1000.0            l2         saga            0.870483          0.723979   \n",
       "4    100.0            l1         saga            0.869836          0.722993   \n",
       "\n",
       "   mean_test_f1  \n",
       "0      0.786549  \n",
       "1      0.786549  \n",
       "2      0.786549  \n",
       "3      0.786549  \n",
       "4      0.785431  "
      ]
     },
     "execution_count": 65,
     "metadata": {},
     "output_type": "execute_result"
    }
   ],
   "source": [
    "# VIEW HIGHEST ACCURACY\n",
    "gs_accuracy = gs_results[columns].sort_values(by='mean_test_accuracy', axis=0, ascending=False, ignore_index=True)\n",
    "gs_accuracy.head()"
   ]
  },
  {
   "cell_type": "code",
   "execution_count": 66,
   "metadata": {},
   "outputs": [
    {
     "data": {
      "text/html": [
       "<div>\n",
       "<style scoped>\n",
       "    .dataframe tbody tr th:only-of-type {\n",
       "        vertical-align: middle;\n",
       "    }\n",
       "\n",
       "    .dataframe tbody tr th {\n",
       "        vertical-align: top;\n",
       "    }\n",
       "\n",
       "    .dataframe thead th {\n",
       "        text-align: right;\n",
       "    }\n",
       "</style>\n",
       "<table border=\"1\" class=\"dataframe\">\n",
       "  <thead>\n",
       "    <tr style=\"text-align: right;\">\n",
       "      <th></th>\n",
       "      <th>param_C</th>\n",
       "      <th>param_penalty</th>\n",
       "      <th>param_solver</th>\n",
       "      <th>mean_test_accuracy</th>\n",
       "      <th>mean_test_recall</th>\n",
       "      <th>mean_test_f1</th>\n",
       "    </tr>\n",
       "  </thead>\n",
       "  <tbody>\n",
       "    <tr>\n",
       "      <th>0</th>\n",
       "      <td>0.001</td>\n",
       "      <td>l1</td>\n",
       "      <td>liblinear</td>\n",
       "      <td>0.671189</td>\n",
       "      <td>0.0</td>\n",
       "      <td>0.0</td>\n",
       "    </tr>\n",
       "    <tr>\n",
       "      <th>1</th>\n",
       "      <td>0.001</td>\n",
       "      <td>l1</td>\n",
       "      <td>saga</td>\n",
       "      <td>0.671189</td>\n",
       "      <td>0.0</td>\n",
       "      <td>0.0</td>\n",
       "    </tr>\n",
       "    <tr>\n",
       "      <th>2</th>\n",
       "      <td>0.001</td>\n",
       "      <td>l2</td>\n",
       "      <td>lbfgs</td>\n",
       "      <td>0.671189</td>\n",
       "      <td>0.0</td>\n",
       "      <td>0.0</td>\n",
       "    </tr>\n",
       "    <tr>\n",
       "      <th>3</th>\n",
       "      <td>0.001</td>\n",
       "      <td>l2</td>\n",
       "      <td>liblinear</td>\n",
       "      <td>0.671189</td>\n",
       "      <td>0.0</td>\n",
       "      <td>0.0</td>\n",
       "    </tr>\n",
       "    <tr>\n",
       "      <th>4</th>\n",
       "      <td>0.001</td>\n",
       "      <td>l2</td>\n",
       "      <td>newton-cg</td>\n",
       "      <td>0.671189</td>\n",
       "      <td>0.0</td>\n",
       "      <td>0.0</td>\n",
       "    </tr>\n",
       "  </tbody>\n",
       "</table>\n",
       "</div>"
      ],
      "text/plain": [
       "   param_C param_penalty param_solver  mean_test_accuracy  mean_test_recall  \\\n",
       "0    0.001            l1    liblinear            0.671189               0.0   \n",
       "1    0.001            l1         saga            0.671189               0.0   \n",
       "2    0.001            l2        lbfgs            0.671189               0.0   \n",
       "3    0.001            l2    liblinear            0.671189               0.0   \n",
       "4    0.001            l2    newton-cg            0.671189               0.0   \n",
       "\n",
       "   mean_test_f1  \n",
       "0           0.0  \n",
       "1           0.0  \n",
       "2           0.0  \n",
       "3           0.0  \n",
       "4           0.0  "
      ]
     },
     "execution_count": 66,
     "metadata": {},
     "output_type": "execute_result"
    }
   ],
   "source": [
    "# VIEW LOWEST ACCURACY\n",
    "low_acc = gs_results[columns].sort_values(by='mean_test_accuracy', axis=0, ascending=True, ignore_index=True)\n",
    "low_acc.head()"
   ]
  },
  {
   "cell_type": "markdown",
   "metadata": {},
   "source": [
    "The same model achieves the highest F1 score, recall, and accuracy. <br>\n",
    "Clearly, the model prefers high C values and the saga solver. The model is insensitive to regularization type.<br>\n",
    "The winning parameters are:\n",
    "- C = 1000\n",
    "- penalty = l2\n",
    "- solver = saga"
   ]
  },
  {
   "cell_type": "code",
   "execution_count": 71,
   "metadata": {},
   "outputs": [
    {
     "data": {
      "image/png": "[encoded data removed]",
      "text/plain": [
       "<Figure size 432x288 with 1 Axes>"
      ]
     },
     "metadata": {
      "needs_background": "light"
     },
     "output_type": "display_data"
    },
    {
     "data": {
      "image/png": "[encoded data removed]",
      "text/plain": [
       "<Figure size 432x288 with 1 Axes>"
      ]
     },
     "metadata": {
      "needs_background": "light"
     },
     "output_type": "display_data"
    }
   ],
   "source": [
    "# CONFUSION MATRIX\n",
    "import matplotlib.pyplot as plt\n",
    "\n",
    "clf_param_tuned = LogisticRegression(C=1000, penalty='l2', solver='saga', max_iter=10000).fit(X_train, y_train)\n",
    "\n",
    "ConfusionMatrixDisplay.from_estimator(clf_param_tuned, X_test, y_test, normalize='true', colorbar=False)\n",
    "\n",
    "# ROC\n",
    "fig, ax = plt.subplots()\n",
    "\n",
    "test_auc = RocCurveDisplay.from_estimator(clf_param_tuned, X_test, y_test, ax=ax, name='Test')\n",
    "train_auc = RocCurveDisplay.from_estimator(clf_param_tuned, X_train, y_train, ax=ax, name='Train')\n",
    "\n",
    "plt.show()"
   ]
  },
  {
   "cell_type": "markdown",
   "metadata": {},
   "source": [
    "The confusion matrix and ROC-AUC are almost identical to the default parameters. We need to tune the decision threshold to fix the extreme error ratio. This is unsurprising given how large our constant coefficient was in the inferential analysis."
   ]
  },
  {
   "cell_type": "markdown",
   "metadata": {},
   "source": [
    "### Decision threshold"
   ]
  },
  {
   "cell_type": "markdown",
   "metadata": {},
   "source": [
    "We'll use Youden's J Statistic to find the threshold closest to the top left corner of the ROC curve. "
   ]
  },
  {
   "cell_type": "code",
   "execution_count": 72,
   "metadata": {},
   "outputs": [
    {
     "name": "stdout",
     "output_type": "stream",
     "text": [
      "Best threshold = 0.3557910652341968\n"
     ]
    },
    {
     "data": {
      "image/png": "[encoded data removed]",
      "text/plain": [
       "<Figure size 432x288 with 1 Axes>"
      ]
     },
     "metadata": {
      "needs_background": "light"
     },
     "output_type": "display_data"
    }
   ],
   "source": [
    "from sklearn.metrics import roc_curve\n",
    "import numpy as np\n",
    "import matplotlib.pyplot as plt\n",
    "\n",
    "# get probabilities for the positive case\n",
    "yhat = clf_param_tuned.predict_proba(X_test)[:, 1]\n",
    "\n",
    "# get roc curves\n",
    "fpr, tpr, thresholds = roc_curve(y_test, yhat)\n",
    "\n",
    "# find best threshold\n",
    "J = tpr - fpr\n",
    "idx = np.argmax(J)\n",
    "best_thresh = thresholds[idx]\n",
    "\n",
    "print(f'Best threshold = {best_thresh}')\n",
    "\n",
    "# plot the roc curve showing the optimal threshold\n",
    "fig, ax = plt.subplots()\n",
    "\n",
    "test_auc = RocCurveDisplay.from_estimator(clf_param_tuned, X_test, y_test, ax=ax, name='Test')\n",
    "plt.scatter(fpr[idx], tpr[idx], marker='o', color='red', label='Best')\n",
    "plt.legend()\n",
    "\n",
    "plt.show()"
   ]
  },
  {
   "cell_type": "code",
   "execution_count": 73,
   "metadata": {},
   "outputs": [
    {
     "name": "stdout",
     "output_type": "stream",
     "text": [
      "Accuracy: 0.8561746987951807\n"
     ]
    },
    {
     "data": {
      "image/png": "[encoded data removed]",
      "text/plain": [
       "<Figure size 432x288 with 1 Axes>"
      ]
     },
     "metadata": {
      "needs_background": "light"
     },
     "output_type": "display_data"
    }
   ],
   "source": [
    "# get class labels using new threshold\n",
    "y_prob = clf_param_tuned.predict_proba(X_test)[:, 1]\n",
    "y_pred = np.where(y_prob > best_thresh, 1, 0)\n",
    "\n",
    "# confusion matrix\n",
    "ConfusionMatrixDisplay.from_predictions(y_test, y_pred, normalize='true', colorbar=False)\n",
    "print(f'Accuracy: {accuracy_score(y_test, y_pred)}')"
   ]
  },
  {
   "cell_type": "markdown",
   "metadata": {},
   "source": [
    "Using the new threshold, 19% of true positives are falsely predicted and 12% of true negatives are falsely predicted. This is decently balanced, but we'd like the false positive rate to be a little higher than the false negative rate (the inverse of what is happening). Let's tweak the threshold just a bit to accomplish this. Let's test a few nearby thresholds using cross validation and see what error ratios they produce."
   ]
  },
  {
   "cell_type": "code",
   "execution_count": null,
   "metadata": {},
   "outputs": [
    {
     "data": {
      "text/html": [
       "<div>\n",
       "<style scoped>\n",
       "    .dataframe tbody tr th:only-of-type {\n",
       "        vertical-align: middle;\n",
       "    }\n",
       "\n",
       "    .dataframe tbody tr th {\n",
       "        vertical-align: top;\n",
       "    }\n",
       "\n",
       "    .dataframe thead th {\n",
       "        text-align: right;\n",
       "    }\n",
       "</style>\n",
       "<table border=\"1\" class=\"dataframe\">\n",
       "  <thead>\n",
       "    <tr style=\"text-align: right;\">\n",
       "      <th></th>\n",
       "      <th>Threshold</th>\n",
       "      <th>Accuracy</th>\n",
       "      <th>Type I Error</th>\n",
       "      <th>Type II Error</th>\n",
       "    </tr>\n",
       "  </thead>\n",
       "  <tbody>\n",
       "    <tr>\n",
       "      <th>0</th>\n",
       "      <td>0.22</td>\n",
       "      <td>0.836567</td>\n",
       "      <td>0.168855</td>\n",
       "      <td>0.152026</td>\n",
       "    </tr>\n",
       "    <tr>\n",
       "      <th>1</th>\n",
       "      <td>0.23</td>\n",
       "      <td>0.838601</td>\n",
       "      <td>0.163195</td>\n",
       "      <td>0.157653</td>\n",
       "    </tr>\n",
       "    <tr>\n",
       "      <th>2</th>\n",
       "      <td>0.24</td>\n",
       "      <td>0.844252</td>\n",
       "      <td>0.154203</td>\n",
       "      <td>0.159061</td>\n",
       "    </tr>\n",
       "    <tr>\n",
       "      <th>3</th>\n",
       "      <td>0.25</td>\n",
       "      <td>0.847868</td>\n",
       "      <td>0.146876</td>\n",
       "      <td>0.163286</td>\n",
       "    </tr>\n",
       "    <tr>\n",
       "      <th>4</th>\n",
       "      <td>0.26</td>\n",
       "      <td>0.851260</td>\n",
       "      <td>0.139880</td>\n",
       "      <td>0.167509</td>\n",
       "    </tr>\n",
       "    <tr>\n",
       "      <th>5</th>\n",
       "      <td>0.27</td>\n",
       "      <td>0.856233</td>\n",
       "      <td>0.129890</td>\n",
       "      <td>0.173138</td>\n",
       "    </tr>\n",
       "    <tr>\n",
       "      <th>6</th>\n",
       "      <td>0.28</td>\n",
       "      <td>0.857816</td>\n",
       "      <td>0.126557</td>\n",
       "      <td>0.175251</td>\n",
       "    </tr>\n",
       "    <tr>\n",
       "      <th>7</th>\n",
       "      <td>0.29</td>\n",
       "      <td>0.858042</td>\n",
       "      <td>0.123560</td>\n",
       "      <td>0.180877</td>\n",
       "    </tr>\n",
       "  </tbody>\n",
       "</table>\n",
       "</div>"
      ],
      "text/plain": [
       "   Threshold  Accuracy  Type I Error  Type II Error\n",
       "0       0.22  0.836567      0.168855       0.152026\n",
       "1       0.23  0.838601      0.163195       0.157653\n",
       "2       0.24  0.844252      0.154203       0.159061\n",
       "3       0.25  0.847868      0.146876       0.163286\n",
       "4       0.26  0.851260      0.139880       0.167509\n",
       "5       0.27  0.856233      0.129890       0.173138\n",
       "6       0.28  0.857816      0.126557       0.175251\n",
       "7       0.29  0.858042      0.123560       0.180877"
      ]
     },
     "execution_count": 74,
     "metadata": {},
     "output_type": "execute_result"
    }
   ],
   "source": [
    "from sklearn.metrics import confusion_matrix, accuracy_score\n",
    "from sklearn.model_selection import StratifiedKFold\n",
    "import numpy as np\n",
    "\n",
    "# rejoin train and test sets\n",
    "y_train = pd.Series(y_train)\n",
    "y_test = pd.Series(y_test)\n",
    "X = pd.concat([X_train, X_test], axis=0, ignore_index=True)\n",
    "y = pd.concat([y_train, y_test], axis=0, ignore_index=True)\n",
    "\n",
    "# get cv folds\n",
    "skf = StratifiedKFold()\n",
    "\n",
    "# define thresholds\n",
    "test_thresholds = np.arange(0.22, 0.30, 0.01)\n",
    "\n",
    "# create list to store mean model scores\n",
    "mean_stats = [[] for _ in range(3)]\n",
    "\n",
    "# test thresholds\n",
    "for i, threshold in enumerate(test_thresholds):\n",
    "\n",
    "    stats = [[] for _ in range(3)]\n",
    "\n",
    "    # for each cv fold\n",
    "    for fold_idx, (train_index, test_index) in enumerate(skf.split(X, y)):\n",
    "        \n",
    "        # train model\n",
    "        X_train, X_test = X.iloc[train_index], X.iloc[test_index]\n",
    "        y_train, y_test = y.iloc[train_index], y.iloc[test_index]\n",
    "        y_train = np.ravel(y_train)\n",
    "        clf_param_tuned.fit(X_train, y_train)\n",
    "        y_prob = clf_param_tuned.predict_proba(X_test)[:, 1]\n",
    "        y_pred = np.where(y_prob > threshold, 1, 0)\n",
    "\n",
    "        # get errors\n",
    "        cm = confusion_matrix(y_test, y_pred, normalize='true')\n",
    "        stats[0].append(accuracy_score(y_test, y_pred))\n",
    "        stats[1].append(cm[0, 1])\n",
    "        stats[2].append(cm[1, 0])\n",
    "\n",
    "    # save mean errors across folds\n",
    "    mean_stats[0].append(np.mean(stats[0]))\n",
    "    mean_stats[1].append(np.mean(stats[1]))\n",
    "    mean_stats[2].append(np.mean(stats[2]))\n",
    "\n",
    "# show results\n",
    "result = pd.DataFrame({'Threshold': test_thresholds,\n",
    "                       'Accuracy': mean_stats[0],\n",
    "                       'Type I Error': mean_stats[1],\n",
    "                       'Type II Error': mean_stats[2]})\n",
    "result"
   ]
  },
  {
   "cell_type": "markdown",
   "metadata": {},
   "source": [
    "The ideal balance depends on what percent of future dropouts we are willing to have our model miss. The tradeoff between missing future dropouts and providing intervention measures to students who won't drop out is something that will need to be discussed with the school administration. The final model would have a decision threshold tuned according to the admin's perference. The bias toward false positives means that a lower threshold could increase the number of potential dropouts caught early, desite a lower overall model accuracy. For now, we will consider 0.26 to be our ideal threshold. Our decision now is unimportant since this is a very easy thing to change as needed."
   ]
  }
 ],
 "metadata": {
  "kernelspec": {
   "display_name": "base",
   "language": "python",
   "name": "python3"
  },
  "language_info": {
   "codemirror_mode": {
    "name": "ipython",
    "version": 3
   },
   "file_extension": ".py",
   "mimetype": "text/x-python",
   "name": "python",
   "nbconvert_exporter": "python",
   "pygments_lexer": "ipython3",
   "version": "3.9.12"
  }
 },
 "nbformat": 4,
 "nbformat_minor": 2
}
