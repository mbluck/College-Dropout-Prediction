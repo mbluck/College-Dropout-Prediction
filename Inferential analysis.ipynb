{
 "cells": [
  {
   "cell_type": "markdown",
   "metadata": {},
   "source": [
    "# Inferential Analysis"
   ]
  },
  {
   "cell_type": "markdown",
   "metadata": {},
   "source": [
    "### Feature selection"
   ]
  },
  {
   "cell_type": "markdown",
   "metadata": {},
   "source": [
    "As discovered during EDA, there is high multicolinearity in our feature set. We'll reference the association heatmaps in the EDA notebook. \n",
    "\n",
    "To begin, we'll address the redundancy between 'Admission grade' and 'Previous qualification (grade)' by removing whichever one has lower mutual information with the target. "
   ]
  },
  {
   "cell_type": "code",
   "execution_count": 2,
   "metadata": {},
   "outputs": [
    {
     "name": "stdout",
     "output_type": "stream",
     "text": [
      "Admission grade: [0.02852458]\n",
      "Previous qualification (grade): [0.0357418]\n"
     ]
    }
   ],
   "source": [
    "from sklearn.feature_selection import mutual_info_classif\n",
    "import pandas as pd\n",
    "\n",
    "X = pd.read_csv('LogReg/X.csv')\n",
    "y = pd.read_csv('LogReg/y.csv')\n",
    "\n",
    "y_np = y.to_numpy()\n",
    "y_np = y_np.ravel()\n",
    "\n",
    "ag = mutual_info_classif(X['Admission grade'].to_frame(), y_np, discrete_features=False, random_state=1)\n",
    "pqg = mutual_info_classif(X['Previous qualification (grade)'].to_frame(), y_np, discrete_features=False, random_state=1)\n",
    "\n",
    "print(f'Admission grade: {ag}\\nPrevious qualification (grade): {pqg}')"
   ]
  },
  {
   "cell_type": "markdown",
   "metadata": {},
   "source": [
    "We'll remove 'Admission grade'.\n",
    "\n",
    "We'll also remove 'International' because it's completely redundant with 'Nationality' but provides less information.\n",
    "\n",
    "Next, we'll address the fact that 'Course' and 'Daytime/evening attendance' are one for one associated. We'll remove 'Daytime/evening attendance' because it's redundant with 'Course', which contains more information.\n",
    "\n",
    "Curricular units (enrolled), for both 1st and 2nd semesters, are highly associated with 'Course'. However, we should be careful about removing either since they provide very different types of information. Let's compare their relatinships to the target using mutual information. We can't compare VIF scores since one feature is categorical. "
   ]
  },
  {
   "cell_type": "code",
   "execution_count": 3,
   "metadata": {},
   "outputs": [
    {
     "name": "stdout",
     "output_type": "stream",
     "text": [
      "Course: [0.03455513]\n",
      "Curricular units 1st sem (enrolled): [0.02378636]\n"
     ]
    }
   ],
   "source": [
    "# COMPARE MUTUAL INFORMATION\n",
    "c = mutual_info_classif(X['Course'].to_frame(), y_np, discrete_features=True, random_state=1)\n",
    "cu = mutual_info_classif(X['Curricular units 1st sem (enrolled)'].to_frame(), y_np, discrete_features=False, random_state=1)\n",
    "\n",
    "print(f'Course: {c}\\nCurricular units 1st sem (enrolled): {cu}')"
   ]
  },
  {
   "cell_type": "code",
   "execution_count": 4,
   "metadata": {},
   "outputs": [],
   "source": [
    "# REMOVE REDUNDANT FEATURES\n",
    "\n",
    "X = X.drop(['Admission grade', 'Daytime/evening attendance', 'International'], axis=1)"
   ]
  },
  {
   "cell_type": "markdown",
   "metadata": {},
   "source": [
    "It's still not clear if it's suitable to remove one or the other. Let's keep both for now and choose one based on model performance later.\n",
    "\n",
    "Now we need to address the high multicolinearity among all the features measuring curricular units. Let's try using PCA.<br>\n",
    "First, we'll try PCA using all the features. This probably won't yield good results as most of the features aren't correlated amongst each other. Then, we'll try using subset PCA, wherein only the curricular unit features are transformed and the other features are left unchanged."
   ]
  },
  {
   "cell_type": "code",
   "execution_count": 5,
   "metadata": {},
   "outputs": [
    {
     "name": "stdout",
     "output_type": "stream",
     "text": [
      "All features:\n",
      "[9.99840289e-01 7.80459674e-05 4.11694210e-05]\n",
      "\n",
      "Curr Units features:\n",
      "[0.64980168 0.25016538 0.05229662]\n"
     ]
    }
   ],
   "source": [
    "from sklearn.decomposition import PCA\n",
    "\n",
    "curr_units = [\n",
    "    'Curricular units 1st sem (enrolled)',\n",
    "    'Curricular units 1st sem (evaluations)',\n",
    "    'Curricular units 1st sem (approved)',\n",
    "    'Curricular units 1st sem (grade)',\n",
    "    'Curricular units 2nd sem (enrolled)',\n",
    "    'Curricular units 2nd sem (evaluations)',\n",
    "    'Curricular units 2nd sem (approved)',\n",
    "    'Curricular units 2nd sem (grade)'\n",
    "]\n",
    "\n",
    "# ALL FEATURES\n",
    "pca_all = PCA(n_components=3)\n",
    "pca_all.fit(X)\n",
    "\n",
    "# CURR UNITS FEATURES\n",
    "pca_cu = PCA(n_components=3)\n",
    "pca_cu.fit(X[curr_units])\n",
    "\n",
    "print(f'All features:\\n{pca_all.explained_variance_ratio_}\\n\\nCurr Units features:\\n{pca_cu.explained_variance_ratio_}')"
   ]
  },
  {
   "cell_type": "markdown",
   "metadata": {},
   "source": [
    "The components of pca_all explain almost no variance, whereas the first two components of pca_cu explain 90% of it. We'll replace all the curricular unit features with these two components. This also resolves the 'Curricular units (enrolled)' vs 'Course' issue."
   ]
  },
  {
   "cell_type": "code",
   "execution_count": 6,
   "metadata": {},
   "outputs": [],
   "source": [
    "# REPLACE CURR UNITS FEATURES WITH PRINCIPLE COMPONENTS\n",
    "\n",
    "pca_cu = PCA(n_components=2)\n",
    "transformed = pca_cu.fit_transform(X[curr_units])\n",
    "\n",
    "pca_df = pd.DataFrame(transformed, columns=[f'Curr units PC{i+1}' for i in range(transformed.shape[1])])\n",
    "X = X.drop(curr_units, axis=1)\n",
    "X = pd.concat([X, pca_df], axis=1)"
   ]
  },
  {
   "cell_type": "code",
   "execution_count": 6,
   "metadata": {},
   "outputs": [
    {
     "data": {
      "text/plain": [
       "Index(['Marital status', 'Application mode', 'Application order', 'Course',\n",
       "       'Previous qualification', 'Previous qualification (grade)',\n",
       "       'Nationality', 'Mother's qualification', 'Father's qualification',\n",
       "       'Mother's occupation', 'Father's occupation', 'Displaced',\n",
       "       'Educational special needs', 'Debtor', 'Tuition fees up to date',\n",
       "       'Gender', 'Scholarship holder', 'Age at enrollment',\n",
       "       'Unemployment rate', 'Inflation rate', 'GDP', 'Curr units PC1',\n",
       "       'Curr units PC2'],\n",
       "      dtype='object')"
      ]
     },
     "execution_count": 6,
     "metadata": {},
     "output_type": "execute_result"
    }
   ],
   "source": [
    "X.columns"
   ]
  },
  {
   "cell_type": "markdown",
   "metadata": {},
   "source": [
    "### Model 1"
   ]
  },
  {
   "cell_type": "markdown",
   "metadata": {},
   "source": [
    "Before we model, let's define functions for scaling and one-hot encoding the data that will handle the combination of categorical and numeric features."
   ]
  },
  {
   "cell_type": "code",
   "execution_count": 7,
   "metadata": {},
   "outputs": [],
   "source": [
    "''' \n",
    "Function to scale data without altering nominal features.\n",
    "Takes 'df' (a dataframe) and 'nominal' (a list of nominal feature names).\n",
    "Returns the transformed dataframe. \n",
    "'''\n",
    "\n",
    "from sklearn.preprocessing import MinMaxScaler\n",
    "\n",
    "def scale(df, nominal):\n",
    "\n",
    "    scaler = MinMaxScaler()\n",
    "\n",
    "    for var in df.columns:\n",
    "            \n",
    "        if var not in nominal:\n",
    "            raw = df[var].to_numpy()\n",
    "            raw = raw.reshape(-1, 1)\n",
    "\n",
    "            scaler.fit(raw)\n",
    "            scaled = scaler.transform(raw)\n",
    "            df[var] = scaled\n",
    "\n",
    "    return df"
   ]
  },
  {
   "cell_type": "code",
   "execution_count": 8,
   "metadata": {},
   "outputs": [],
   "source": [
    "''' \n",
    "Function to one-hot encode data without altering non-nominal features.\n",
    "Takes 'df' (a dataframe) and 'nominal' (a list of nominal feature names).\n",
    "Returns the transformed dataframe.\n",
    "'''\n",
    "\n",
    "from sklearn.preprocessing import OneHotEncoder\n",
    "\n",
    "def one_hot(df, nominal):\n",
    "\n",
    "    # initialize encoder object\n",
    "    encoder = OneHotEncoder(sparse_output=False, handle_unknown='infrequent_if_exist', drop='first')\n",
    "\n",
    "    # subset data\n",
    "    df_nom = df[nominal]\n",
    "\n",
    "    # fit\n",
    "    fit = encoder.fit(df_nom)\n",
    "    \n",
    "    # transform\n",
    "    encoded = encoder.transform(df_nom)\n",
    "\n",
    "    # convert result to df\n",
    "    one_hot_df = pd.DataFrame(encoded, columns=encoder.get_feature_names_out(nominal))\n",
    "\n",
    "    # add results to full data\n",
    "    data_one_hot = pd.concat([df.reset_index(drop=True), \n",
    "                              one_hot_df.reset_index(drop=True)], \n",
    "                              axis=1)\n",
    "\n",
    "    # drop original nominal columns\n",
    "    data_one_hot = data_one_hot.drop(nominal, axis=1)\n",
    "\n",
    "    return data_one_hot"
   ]
  },
  {
   "cell_type": "code",
   "execution_count": 9,
   "metadata": {},
   "outputs": [
    {
     "name": "stdout",
     "output_type": "stream",
     "text": [
      "                           Logit Regression Results                           \n",
      "==============================================================================\n",
      "Dep. Variable:                 Target   No. Observations:                 4424\n",
      "Model:                          Logit   Df Residuals:                     4322\n",
      "Method:                           MLE   Df Model:                          101\n",
      "Date:                Tue, 29 Oct 2024   Pseudo R-squ.:                  0.4755\n",
      "Time:                        17:56:47   Log-Likelihood:                -1456.8\n",
      "converged:                      False   LL-Null:                       -2777.3\n",
      "Covariance Type:            nonrobust   LLR p-value:                     0.000\n",
      "==================================================================================================\n",
      "                                     coef    std err          z      P>|z|      [0.025      0.975]\n",
      "--------------------------------------------------------------------------------------------------\n",
      "const                              9.8580      1.379      7.149      0.000       7.155      12.561\n",
      "Application order                  0.5456      0.393      1.389      0.165      -0.224       1.315\n",
      "Previous qualification (grade)     0.0945      0.368      0.257      0.797      -0.626       0.815\n",
      "Age at enrollment                  1.5483      0.501      3.091      0.002       0.566       2.530\n",
      "Unemployment rate                  0.8386      0.184      4.561      0.000       0.478       1.199\n",
      "Inflation rate                     0.0442      0.161      0.275      0.783      -0.271       0.360\n",
      "GDP                                0.2748      0.188      1.465      0.143      -0.093       0.642\n",
      "Curr units PC1                    -9.7141      0.520    -18.665      0.000     -10.734      -8.694\n",
      "Curr units PC2                    -9.8215      0.542    -18.118      0.000     -10.884      -8.759\n",
      "Marital status_2                  -0.4355      0.212     -2.051      0.040      -0.852      -0.019\n",
      "Marital status_3                  -1.5103      1.405     -1.075      0.282      -4.263       1.243\n",
      "Marital status_4                  -0.6075      0.362     -1.677      0.093      -1.317       0.102\n",
      "Marital status_5                  -1.0635      0.642     -1.656      0.098      -2.322       0.195\n",
      "Marital status_6                   0.7625      1.360      0.560      0.575      -1.904       3.429\n",
      "Application mode_1                 0.5311      0.890      0.597      0.551      -1.213       2.275\n",
      "Application mode_5                -0.2976      1.252     -0.238      0.812      -2.752       2.157\n",
      "Application mode_7                 1.3527      0.993      1.362      0.173      -0.594       3.299\n",
      "Application mode_15               -0.9071      1.110     -0.817      0.414      -3.083       1.269\n",
      "Application mode_16                0.8604      1.019      0.844      0.398      -1.137       2.858\n",
      "Application mode_17                0.8502      0.894      0.951      0.342      -0.903       2.603\n",
      "Application mode_18                0.8956      0.937      0.956      0.339      -0.941       2.732\n",
      "Application mode_39                1.1154      0.896      1.245      0.213      -0.640       2.871\n",
      "Application mode_42                1.3343      0.932      1.432      0.152      -0.492       3.160\n",
      "Application mode_43                0.6429      0.888      0.724      0.469      -1.097       2.383\n",
      "Application mode_44                0.4343      1.067      0.407      0.684      -1.658       2.526\n",
      "Application mode_51                0.7864      0.968      0.813      0.416      -1.110       2.683\n",
      "Application mode_53               -0.4186      2.294     -0.182      0.855      -4.914       4.077\n",
      "Course_171                        -2.0907      0.933     -2.241      0.025      -3.919      -0.262\n",
      "Course_8014                       -0.5805      0.923     -0.629      0.529      -2.390       1.229\n",
      "Course_9003                       -0.4015      0.918     -0.438      0.662      -2.200       1.397\n",
      "Course_9070                        0.2333      0.921      0.253      0.800      -1.572       2.039\n",
      "Course_9085                        0.2271      0.913      0.249      0.804      -1.562       2.016\n",
      "Course_9119                        0.9229      0.920      1.004      0.316      -0.880       2.725\n",
      "Course_9130                        1.7534      0.925      1.895      0.058      -0.060       3.567\n",
      "Course_9147                        0.4552      0.905      0.503      0.615      -1.318       2.229\n",
      "Course_9238                       -0.1398      0.914     -0.153      0.878      -1.932       1.652\n",
      "Course_9254                        0.9334      0.910      1.025      0.305      -0.851       2.718\n",
      "Course_9500                        0.1580      0.904      0.175      0.861      -1.614       1.930\n",
      "Course_9556                        0.6766      0.961      0.704      0.481      -1.206       2.559\n",
      "Course_9670                        0.8851      0.913      0.970      0.332      -0.904       2.674\n",
      "Course_9773                        0.7519      0.911      0.825      0.409      -1.034       2.538\n",
      "Course_9853                        1.6462      0.915      1.800      0.072      -0.147       3.439\n",
      "Course_9991                        0.6758      0.908      0.744      0.457      -1.104       2.455\n",
      "Previous qualification_2           1.2874      0.647      1.990      0.047       0.019       2.555\n",
      "Previous qualification_3           0.4726      0.452      1.045      0.296      -0.414       1.359\n",
      "Previous qualification_4           1.1147      0.753      1.480      0.139      -0.361       2.591\n",
      "Previous qualification_6           0.4073      0.850      0.479      0.632      -1.259       2.074\n",
      "Previous qualification_12         -0.5394      0.478     -1.129      0.259      -1.476       0.397\n",
      "Previous qualification_19          0.2724      0.270      1.008      0.313      -0.257       0.802\n",
      "Previous qualification_39          0.4421      0.588      0.752      0.452      -0.709       1.594\n",
      "Previous qualification_40          0.0090      0.581      0.016      0.988      -1.129       1.147\n",
      "Previous qualification_42          0.3268      2.073      0.158      0.875      -3.736       4.389\n",
      "Nationality_2                      0.3983      0.522      0.763      0.446      -0.625       1.422\n",
      "Nationality_3                     -0.8342      0.456     -1.830      0.067      -1.727       0.059\n",
      "Mother's qualification_2           0.3217      0.186      1.726      0.084      -0.044       0.687\n",
      "Mother's qualification_3          -0.0937      0.157     -0.597      0.551      -0.402       0.214\n",
      "Mother's qualification_4          -0.0162      0.194     -0.084      0.933      -0.396       0.364\n",
      "Mother's qualification_5          -0.0999      0.235     -0.425      0.671      -0.561       0.361\n",
      "Mother's qualification_6           0.6786      0.435      1.560      0.119      -0.174       1.531\n",
      "Mother's qualification_7          -0.3511      0.366     -0.959      0.338      -1.069       0.366\n",
      "Mother's qualification_8          -1.5998      0.553     -2.891      0.004      -2.684      -0.515\n",
      "Mother's qualification_9           1.0194      0.468      2.179      0.029       0.102       1.937\n",
      "Mother's qualification_10          0.2489      0.621      0.401      0.689      -0.969       1.467\n",
      "Mother's qualification_11          1.0776      0.977      1.103      0.270      -0.837       2.992\n",
      "Father's qualification_2           0.0302      0.180      0.168      0.867      -0.322       0.383\n",
      "Father's qualification_3          -0.0907      0.157     -0.579      0.563      -0.398       0.216\n",
      "Father's qualification_4          -0.0934      0.183     -0.510      0.610      -0.453       0.266\n",
      "Father's qualification_5          -0.1212      0.257     -0.472      0.637      -0.625       0.382\n",
      "Father's qualification_6           1.0883      0.465      2.341      0.019       0.177       1.999\n",
      "Father's qualification_7           0.5040      0.363      1.390      0.165      -0.207       1.215\n",
      "Father's qualification_8           0.7317      0.494      1.481      0.139      -0.237       1.700\n",
      "Father's qualification_9           0.1652      0.499      0.331      0.740      -0.812       1.143\n",
      "Father's qualification_10          1.2519      0.684      1.831      0.067      -0.088       2.592\n",
      "Father's qualification_11         -1.0821      0.853     -1.269      0.205      -2.754       0.589\n",
      "Mother's occupation_2             -0.0154      0.166     -0.093      0.926      -0.340       0.309\n",
      "Mother's occupation_3              0.3690      0.174      2.121      0.034       0.028       0.710\n",
      "Mother's occupation_4             -0.1369      0.220     -0.623      0.533      -0.568       0.294\n",
      "Mother's occupation_5              0.1759      0.280      0.629      0.529      -0.372       0.724\n",
      "Mother's occupation_6              0.1942      0.224      0.865      0.387      -0.246       0.634\n",
      "Mother's occupation_7              1.1046      0.493      2.242      0.025       0.139       2.070\n",
      "Mother's occupation_8              0.4086      0.353      1.156      0.248      -0.284       1.101\n",
      "Mother's occupation_9             -0.0026      0.377     -0.007      0.994      -0.742       0.737\n",
      "Mother's occupation_10             0.9542      0.482      1.980      0.048       0.010       1.898\n",
      "Mother's occupation_11            -4.5156      1.653     -2.732      0.006      -7.755      -1.277\n",
      "Mother's occupation_12             0.0246      0.422      0.058      0.954      -0.803       0.852\n",
      "Father's occupation_2             -0.0993      0.173     -0.572      0.567      -0.439       0.241\n",
      "Father's occupation_3             -0.5373      0.197     -2.721      0.007      -0.924      -0.150\n",
      "Father's occupation_4              0.2656      0.203      1.307      0.191      -0.133       0.664\n",
      "Father's occupation_5             -0.0933      0.207     -0.450      0.653      -0.500       0.313\n",
      "Father's occupation_6             -0.1810      0.217     -0.834      0.404      -0.606       0.244\n",
      "Father's occupation_7             -0.1806      0.232     -0.780      0.436      -0.634       0.273\n",
      "Father's occupation_8             -0.9026      0.270     -3.344      0.001      -1.432      -0.374\n",
      "Father's occupation_9             -0.3432      0.316     -1.086      0.278      -0.963       0.276\n",
      "Father's occupation_10            -0.1446      0.306     -0.472      0.637      -0.745       0.456\n",
      "Father's occupation_11            -0.7151      0.498     -1.437      0.151      -1.690       0.260\n",
      "Father's occupation_12             0.5392      0.447      1.206      0.228      -0.337       1.415\n",
      "Displaced_1                        0.2795      0.115      2.424      0.015       0.054       0.506\n",
      "Educational special needs_1        0.2791      0.403      0.692      0.489      -0.511       1.069\n",
      "Debtor_1                           0.5592      0.162      3.458      0.001       0.242       0.876\n",
      "Tuition fees up to date_1         -2.7299      0.187    -14.616      0.000      -3.096      -2.364\n",
      "Gender_1                           0.4920      0.111      4.446      0.000       0.275       0.709\n",
      "Scholarship holder_1              -0.8143      0.138     -5.900      0.000      -1.085      -0.544\n",
      "==================================================================================================\n"
     ]
    },
    {
     "name": "stderr",
     "output_type": "stream",
     "text": [
      "c:\\Users\\Melanie\\anaconda3\\lib\\site-packages\\statsmodels\\base\\model.py:604: ConvergenceWarning: Maximum Likelihood optimization failed to converge. Check mle_retvals\n",
      "  warnings.warn(\"Maximum Likelihood optimization failed to \"\n"
     ]
    }
   ],
   "source": [
    "import statsmodels.api as sm\n",
    "from statsmodels.stats.anova import anova_lm\n",
    "\n",
    "# preprocess\n",
    "nominal = ['Marital status', 'Application mode', 'Course',\n",
    "       'Previous qualification', 'Nationality', \"Mother's qualification\", \n",
    "       \"Father's qualification\", \"Mother's occupation\", \"Father's occupation\", \n",
    "       'Displaced', 'Educational special needs', 'Debtor', \n",
    "       'Tuition fees up to date','Gender', 'Scholarship holder']\n",
    "\n",
    "X_scale = scale(X, nominal)\n",
    "\n",
    "X_oh = one_hot(X_scale, nominal)\n",
    "\n",
    "# add intercept\n",
    "X_oh = sm.add_constant(X_oh)\n",
    "\n",
    "# fit\n",
    "clf = sm.Logit(y, X_oh)\n",
    "clf_fit = clf.fit(method='lbfgs') # binary features mean the model won't converge with default regularization\n",
    "\n",
    "# summary stats\n",
    "print(clf_fit.summary())"
   ]
  },
  {
   "cell_type": "code",
   "execution_count": 24,
   "metadata": {},
   "outputs": [
    {
     "data": {
      "text/html": [
       "<div>\n",
       "<style scoped>\n",
       "    .dataframe tbody tr th:only-of-type {\n",
       "        vertical-align: middle;\n",
       "    }\n",
       "\n",
       "    .dataframe tbody tr th {\n",
       "        vertical-align: top;\n",
       "    }\n",
       "\n",
       "    .dataframe thead th {\n",
       "        text-align: right;\n",
       "    }\n",
       "</style>\n",
       "<table border=\"1\" class=\"dataframe\">\n",
       "  <thead>\n",
       "    <tr style=\"text-align: right;\">\n",
       "      <th></th>\n",
       "      <th>Var</th>\n",
       "      <th>Coef.</th>\n",
       "      <th>Std.Err.</th>\n",
       "      <th>z</th>\n",
       "      <th>P&gt;|z|</th>\n",
       "      <th>[0.025</th>\n",
       "      <th>0.975]</th>\n",
       "    </tr>\n",
       "  </thead>\n",
       "  <tbody>\n",
       "    <tr>\n",
       "      <th>0</th>\n",
       "      <td>const</td>\n",
       "      <td>9.858034</td>\n",
       "      <td>1.378938</td>\n",
       "      <td>7.149003</td>\n",
       "      <td>8.741066e-13</td>\n",
       "      <td>7.155364</td>\n",
       "      <td>12.560703</td>\n",
       "    </tr>\n",
       "    <tr>\n",
       "      <th>1</th>\n",
       "      <td>Application order</td>\n",
       "      <td>0.545608</td>\n",
       "      <td>0.392781</td>\n",
       "      <td>1.389088</td>\n",
       "      <td>1.648059e-01</td>\n",
       "      <td>-0.224229</td>\n",
       "      <td>1.315445</td>\n",
       "    </tr>\n",
       "    <tr>\n",
       "      <th>2</th>\n",
       "      <td>Previous qualification (grade)</td>\n",
       "      <td>0.094480</td>\n",
       "      <td>0.367785</td>\n",
       "      <td>0.256888</td>\n",
       "      <td>7.972650e-01</td>\n",
       "      <td>-0.626365</td>\n",
       "      <td>0.815324</td>\n",
       "    </tr>\n",
       "    <tr>\n",
       "      <th>3</th>\n",
       "      <td>Age at enrollment</td>\n",
       "      <td>1.548346</td>\n",
       "      <td>0.500971</td>\n",
       "      <td>3.090692</td>\n",
       "      <td>1.996909e-03</td>\n",
       "      <td>0.566461</td>\n",
       "      <td>2.530230</td>\n",
       "    </tr>\n",
       "    <tr>\n",
       "      <th>4</th>\n",
       "      <td>Unemployment rate</td>\n",
       "      <td>0.838582</td>\n",
       "      <td>0.183842</td>\n",
       "      <td>4.561427</td>\n",
       "      <td>5.080707e-06</td>\n",
       "      <td>0.478258</td>\n",
       "      <td>1.198905</td>\n",
       "    </tr>\n",
       "    <tr>\n",
       "      <th>...</th>\n",
       "      <td>...</td>\n",
       "      <td>...</td>\n",
       "      <td>...</td>\n",
       "      <td>...</td>\n",
       "      <td>...</td>\n",
       "      <td>...</td>\n",
       "      <td>...</td>\n",
       "    </tr>\n",
       "    <tr>\n",
       "      <th>97</th>\n",
       "      <td>Educational special needs_1</td>\n",
       "      <td>0.279111</td>\n",
       "      <td>0.403249</td>\n",
       "      <td>0.692155</td>\n",
       "      <td>4.888400e-01</td>\n",
       "      <td>-0.511243</td>\n",
       "      <td>1.069464</td>\n",
       "    </tr>\n",
       "    <tr>\n",
       "      <th>98</th>\n",
       "      <td>Debtor_1</td>\n",
       "      <td>0.559162</td>\n",
       "      <td>0.161705</td>\n",
       "      <td>3.457912</td>\n",
       "      <td>5.443782e-04</td>\n",
       "      <td>0.242226</td>\n",
       "      <td>0.876097</td>\n",
       "    </tr>\n",
       "    <tr>\n",
       "      <th>99</th>\n",
       "      <td>Tuition fees up to date_1</td>\n",
       "      <td>-2.729947</td>\n",
       "      <td>0.186780</td>\n",
       "      <td>-14.615828</td>\n",
       "      <td>2.226324e-48</td>\n",
       "      <td>-3.096029</td>\n",
       "      <td>-2.363865</td>\n",
       "    </tr>\n",
       "    <tr>\n",
       "      <th>100</th>\n",
       "      <td>Gender_1</td>\n",
       "      <td>0.492037</td>\n",
       "      <td>0.110659</td>\n",
       "      <td>4.446432</td>\n",
       "      <td>8.730833e-06</td>\n",
       "      <td>0.275150</td>\n",
       "      <td>0.708925</td>\n",
       "    </tr>\n",
       "    <tr>\n",
       "      <th>101</th>\n",
       "      <td>Scholarship holder_1</td>\n",
       "      <td>-0.814348</td>\n",
       "      <td>0.138021</td>\n",
       "      <td>-5.900187</td>\n",
       "      <td>3.630900e-09</td>\n",
       "      <td>-1.084864</td>\n",
       "      <td>-0.543832</td>\n",
       "    </tr>\n",
       "  </tbody>\n",
       "</table>\n",
       "<p>102 rows × 7 columns</p>\n",
       "</div>"
      ],
      "text/plain": [
       "                                Var     Coef.  Std.Err.          z  \\\n",
       "0                             const  9.858034  1.378938   7.149003   \n",
       "1                 Application order  0.545608  0.392781   1.389088   \n",
       "2    Previous qualification (grade)  0.094480  0.367785   0.256888   \n",
       "3                 Age at enrollment  1.548346  0.500971   3.090692   \n",
       "4                 Unemployment rate  0.838582  0.183842   4.561427   \n",
       "..                              ...       ...       ...        ...   \n",
       "97      Educational special needs_1  0.279111  0.403249   0.692155   \n",
       "98                         Debtor_1  0.559162  0.161705   3.457912   \n",
       "99        Tuition fees up to date_1 -2.729947  0.186780 -14.615828   \n",
       "100                        Gender_1  0.492037  0.110659   4.446432   \n",
       "101            Scholarship holder_1 -0.814348  0.138021  -5.900187   \n",
       "\n",
       "            P>|z|    [0.025     0.975]  \n",
       "0    8.741066e-13  7.155364  12.560703  \n",
       "1    1.648059e-01 -0.224229   1.315445  \n",
       "2    7.972650e-01 -0.626365   0.815324  \n",
       "3    1.996909e-03  0.566461   2.530230  \n",
       "4    5.080707e-06  0.478258   1.198905  \n",
       "..            ...       ...        ...  \n",
       "97   4.888400e-01 -0.511243   1.069464  \n",
       "98   5.443782e-04  0.242226   0.876097  \n",
       "99   2.226324e-48 -3.096029  -2.363865  \n",
       "100  8.730833e-06  0.275150   0.708925  \n",
       "101  3.630900e-09 -1.084864  -0.543832  \n",
       "\n",
       "[102 rows x 7 columns]"
      ]
     },
     "execution_count": 24,
     "metadata": {},
     "output_type": "execute_result"
    }
   ],
   "source": [
    "# convert features summary table to dataframe\n",
    "fit_df = (clf_fit.summary2().tables[1])\n",
    "\n",
    "#convert feature names from row index labels to column\n",
    "fit_df = fit_df.reset_index()\n",
    "fit_df = fit_df.rename(columns={'index': 'Var'})\n",
    "fit_df"
   ]
  },
  {
   "cell_type": "markdown",
   "metadata": {},
   "source": [
    "The categorical features present a problem. Because each one-hot encoded feature has its own p-value and coefficient, we can't determine feature importance or significance just by looking at the summary statistics. We'll use a likelihood ratio test to determine significance, and simply sum the coefficients to estimate importance. The downside to this is that we must sum the absolute values of the coefficients, and thus we lose the directionality. We'd have to look at the individual coefficients to determine direction. "
   ]
  },
  {
   "cell_type": "markdown",
   "metadata": {},
   "source": [
    "Build a new dataframe with the unaltered statistics for ordinal features and aggregated statistics for categorical features."
   ]
  },
  {
   "cell_type": "code",
   "execution_count": null,
   "metadata": {},
   "outputs": [],
   "source": [
    "# I can't get the likelihood ratio tests included in statsmodels to work, so I'll write my own \n",
    "def lr_test(reduced_model):\n",
    "    import scipy.stats as stats\n",
    "\n",
    "    # get log likelihoods for each model\n",
    "    ll_full = clf_fit.llf\n",
    "    ll_reduced = reduced_model.llf\n",
    "\n",
    "    lr_stat = -2 * (ll_reduced - ll_full) # test statistic\n",
    "    df_diff = clf.df_model - reduced_model.df_model  # difference in degrees of freedom between models\n",
    "    lr_p_value = stats.chi2.sf(lr_stat, df_diff) # p-value\n",
    "\n",
    "    return lr_p_value\n",
    "\n",
    "coefs = []\n",
    "p = []\n",
    "oh_var_list = fit_df['Var'].to_list()\n",
    "\n",
    "for var1 in nominal:\n",
    "    sum_abs = 0\n",
    "    to_drop = []\n",
    "\n",
    "    for var2 in oh_var_list:\n",
    "        if var1 in var2:\n",
    "            sum_abs =+ float(abs(fit_df[fit_df['Var']==var2]['Coef.']).values) \n",
    "            to_drop.append(var2)\n",
    "\n",
    "    coefs.append(sum_abs)\n",
    "\n",
    "    reduced_model = sm.Logit(y, X_oh.drop(columns=to_drop)).fit(method='ncg')\n",
    "    p.append(lr_test(reduced_model))\n",
    "    \n",
    "cat_df = pd.DataFrame({'Var': nominal,\n",
    "                       'Abs_coef': coefs,\n",
    "                       'p': p})\n",
    "cat_df"
   ]
  },
  {
   "cell_type": "markdown",
   "metadata": {},
   "source": [
    "Let's find all the features with non-significant p-values so that we can remove them."
   ]
  },
  {
   "cell_type": "code",
   "execution_count": 12,
   "metadata": {},
   "outputs": [
    {
     "name": "stdout",
     "output_type": "stream",
     "text": [
      "Features with non-significant coefficients:\n",
      "\n",
      "['Application order', 'Previous qualification (grade)', 'Inflation rate', 'GDP', 'Marital status', 'Application mode', 'Previous qualification', 'Nationality', \"Father's qualification\", 'Displaced', 'Educational special needs']\n"
     ]
    }
   ],
   "source": [
    "ordinal = [var for var in X.columns if var not in nominal]\n",
    "not_sig = fit_df[(fit_df['P>|z|'] > 0.05) & (fit_df['Var'].isin(ordinal))]['Var'].tolist() + cat_df[cat_df['p'] > 0.05]['Var'].tolist()\n",
    "\n",
    "print('Features with non-significant coefficients:\\n')\n",
    "print(not_sig)"
   ]
  },
  {
   "cell_type": "markdown",
   "metadata": {},
   "source": [
    "Build a dataframe containing all the features and their importances so that we can plot them. "
   ]
  },
  {
   "cell_type": "code",
   "execution_count": 25,
   "metadata": {},
   "outputs": [
    {
     "data": {
      "text/html": [
       "<div>\n",
       "<style scoped>\n",
       "    .dataframe tbody tr th:only-of-type {\n",
       "        vertical-align: middle;\n",
       "    }\n",
       "\n",
       "    .dataframe tbody tr th {\n",
       "        vertical-align: top;\n",
       "    }\n",
       "\n",
       "    .dataframe thead th {\n",
       "        text-align: right;\n",
       "    }\n",
       "</style>\n",
       "<table border=\"1\" class=\"dataframe\">\n",
       "  <thead>\n",
       "    <tr style=\"text-align: right;\">\n",
       "      <th></th>\n",
       "      <th>Var</th>\n",
       "      <th>Coef</th>\n",
       "      <th>p</th>\n",
       "    </tr>\n",
       "  </thead>\n",
       "  <tbody>\n",
       "    <tr>\n",
       "      <th>3</th>\n",
       "      <td>Age at enrollment</td>\n",
       "      <td>1.548346</td>\n",
       "      <td>1.996909e-03</td>\n",
       "    </tr>\n",
       "    <tr>\n",
       "      <th>4</th>\n",
       "      <td>Unemployment rate</td>\n",
       "      <td>0.838582</td>\n",
       "      <td>5.080707e-06</td>\n",
       "    </tr>\n",
       "    <tr>\n",
       "      <th>7</th>\n",
       "      <td>Curr units PC1</td>\n",
       "      <td>9.714065</td>\n",
       "      <td>9.597072e-78</td>\n",
       "    </tr>\n",
       "    <tr>\n",
       "      <th>8</th>\n",
       "      <td>Curr units PC2</td>\n",
       "      <td>9.821509</td>\n",
       "      <td>2.280760e-73</td>\n",
       "    </tr>\n",
       "    <tr>\n",
       "      <th>2</th>\n",
       "      <td>Course</td>\n",
       "      <td>0.675793</td>\n",
       "      <td>9.278009e-44</td>\n",
       "    </tr>\n",
       "    <tr>\n",
       "      <th>5</th>\n",
       "      <td>Mother's qualification</td>\n",
       "      <td>1.077580</td>\n",
       "      <td>3.711425e-02</td>\n",
       "    </tr>\n",
       "    <tr>\n",
       "      <th>7</th>\n",
       "      <td>Mother's occupation</td>\n",
       "      <td>0.024571</td>\n",
       "      <td>2.298483e-04</td>\n",
       "    </tr>\n",
       "    <tr>\n",
       "      <th>8</th>\n",
       "      <td>Father's occupation</td>\n",
       "      <td>0.539222</td>\n",
       "      <td>1.642173e-02</td>\n",
       "    </tr>\n",
       "    <tr>\n",
       "      <th>11</th>\n",
       "      <td>Debtor</td>\n",
       "      <td>0.559162</td>\n",
       "      <td>9.533835e-03</td>\n",
       "    </tr>\n",
       "    <tr>\n",
       "      <th>12</th>\n",
       "      <td>Tuition fees up to date</td>\n",
       "      <td>2.729947</td>\n",
       "      <td>1.986257e-56</td>\n",
       "    </tr>\n",
       "    <tr>\n",
       "      <th>13</th>\n",
       "      <td>Gender</td>\n",
       "      <td>0.492037</td>\n",
       "      <td>1.858939e-04</td>\n",
       "    </tr>\n",
       "    <tr>\n",
       "      <th>14</th>\n",
       "      <td>Scholarship holder</td>\n",
       "      <td>0.814348</td>\n",
       "      <td>5.140907e-08</td>\n",
       "    </tr>\n",
       "  </tbody>\n",
       "</table>\n",
       "</div>"
      ],
      "text/plain": [
       "                        Var      Coef             p\n",
       "3         Age at enrollment  1.548346  1.996909e-03\n",
       "4         Unemployment rate  0.838582  5.080707e-06\n",
       "7            Curr units PC1  9.714065  9.597072e-78\n",
       "8            Curr units PC2  9.821509  2.280760e-73\n",
       "2                    Course  0.675793  9.278009e-44\n",
       "5    Mother's qualification  1.077580  3.711425e-02\n",
       "7       Mother's occupation  0.024571  2.298483e-04\n",
       "8       Father's occupation  0.539222  1.642173e-02\n",
       "11                   Debtor  0.559162  9.533835e-03\n",
       "12  Tuition fees up to date  2.729947  1.986257e-56\n",
       "13                   Gender  0.492037  1.858939e-04\n",
       "14       Scholarship holder  0.814348  5.140907e-08"
      ]
     },
     "execution_count": 25,
     "metadata": {},
     "output_type": "execute_result"
    }
   ],
   "source": [
    "# make sure the columns match between the dataframes\n",
    "fit_df = fit_df.drop(['Std.Err.', 'z', '[0.025', '0.975]'], axis=1)\n",
    "fit_df = fit_df.rename(columns={'P>|z|': 'p', 'Coef.': 'Coef'})\n",
    "cat_df = cat_df.rename(columns={'Abs_coef': 'Coef'})\n",
    "\n",
    "# concatenate the dataframes, filtering out non-significant features\n",
    "sig_df = pd.concat([fit_df[(fit_df['p'] <= 0.05) & (fit_df['Var'].isin(ordinal))], cat_df[cat_df['p'] <= 0.05]], axis=0)\n",
    "sig_df['Coef'] = abs(sig_df['Coef'])\n",
    "sig_df"
   ]
  },
  {
   "cell_type": "code",
   "execution_count": 29,
   "metadata": {},
   "outputs": [
    {
     "data": {
      "text/plain": [
       "<matplotlib.lines.Line2D at 0x20dff817d60>"
      ]
     },
     "execution_count": 29,
     "metadata": {},
     "output_type": "execute_result"
    },
    {
     "data": {
      "image/png": "[encoded data removed]",
      "text/plain": [
       "<Figure size 432x288 with 1 Axes>"
      ]
     },
     "metadata": {
      "needs_background": "light"
     },
     "output_type": "display_data"
    }
   ],
   "source": [
    "import seaborn as sns\n",
    "\n",
    "# sort dataframe\n",
    "sig_df = sig_df.sort_values(by='Coef', ascending=False)\n",
    "\n",
    "# plot coefficients\n",
    "g = sns.barplot(data=sig_df, x='Var', y='Coef')\n",
    "g.set_xticklabels(g.get_xticklabels(), rotation=90)\n",
    "g.set_xlabel('Variable')\n",
    "g.set_ylabel('Importance')\n",
    "g.axhline(y=0, color='black', linestyle='--')\n"
   ]
  },
  {
   "cell_type": "markdown",
   "metadata": {},
   "source": [
    "The constant coefficient is 9.85, which is about equal to the most important features. This means our model's baseline probability is not 50%, and the predictive model should have a strong bias toward one error type over the other.\n",
    "\n",
    "The most important features are:\n",
    "1. Curr units PC2\n",
    "2. Curr Units PC1\n",
    "3. Tuition fees up to date\n",
    "4. Age at enrollment\n",
    "5. Mother's qualification\n",
    "6. Unemployment rate\n",
    "7. Scholarship holder\n",
    "8. Course\n",
    "9. Debtor\n",
    "10. Father's occupation\n",
    "11. Gender\n",
    "\n",
    "Mother's occupation has a statistically significant coefficient, but the actual magnitude is negligable. \n",
    "\n",
    "Even though some of these features have small coefficients, that doesn't mean they aren't useful in a predictive model. Even including the non-significant features may improve the model's metrics. This analysis is meant to help us understand which factors are important to examine in the student population. \n"
   ]
  },
  {
   "cell_type": "markdown",
   "metadata": {},
   "source": [
    "Because we've had to take the absolute value of all the coefficients due to the nature of one-hot encoding, this plot doesn't show us the direction of the relationships. Let's plot the coefficients of the encoded features so that we can try to determine directionality for the categorical features. "
   ]
  },
  {
   "cell_type": "code",
   "execution_count": 30,
   "metadata": {},
   "outputs": [
    {
     "data": {
      "text/plain": [
       "<matplotlib.lines.Line2D at 0x20dff86a910>"
      ]
     },
     "execution_count": 30,
     "metadata": {},
     "output_type": "execute_result"
    },
    {
     "data": {
      "image/png": "[encoded data removed]",
      "text/plain": [
       "<Figure size 432x288 with 1 Axes>"
      ]
     },
     "metadata": {
      "needs_background": "light"
     },
     "output_type": "display_data"
    }
   ],
   "source": [
    "fit_df_sig = fit_df[fit_df['p'] <= 0.05]\n",
    "\n",
    "g = sns.barplot(data=fit_df_sig, x='Var', y='Coef')\n",
    "g.set_xticklabels(g.get_xticklabels(), rotation=90)\n",
    "g.set_xlabel('Variable')\n",
    "g.set_ylabel('Importance')\n",
    "g.axhline(y=0, color='black', linestyle='--')"
   ]
  },
  {
   "cell_type": "markdown",
   "metadata": {},
   "source": [
    "### Conclusion \n",
    "\n",
    "Curricular units:<br>\n",
    "This is by far the most important factor. There is a very strong inverse relationship between number of curricular units and chance of graduating. \n",
    "\n",
    "Tuition fees up to date:<br>\n",
    "Predictably, those struggling to pay tuition are likely to dropout. This is the second most important factor. \n",
    "\n",
    "Age at enrollment:<br>\n",
    "Older individuals are more likely to dropout.\n",
    "\n",
    "Scholarship holder:<br>\n",
    "Students with scholarships are less likely to dropout.\n",
    "\n",
    "Debtor:<br>\n",
    "Debtors are slightly more likely to dropout. \n",
    "\n",
    "Gender:<br>\n",
    "Males are more likely to dropout (males are encoded as 0). This may be because males often aspire for the trades and the military, whereas females have few obvious pathways outside of education that aren't male dominated. This means that preventing male students from dropping out may be a matter of career counseling, but more investigation is needed to determine that.\n",
    "\n",
    "Course:<br>\n",
    "Students majoring in Animation and Multimedia Design are more likely to dropout than the other majors in the sample. This requires more analysis, since the sample included only 17 majors, some of which are probably not very popular (such as equinculture).\n",
    "\n",
    "Marital status:<br>\n",
    "Married students are slightly more likely to dropout, but not enough to be concerning. \n",
    "\n",
    "Mother's occupation:<br>\n",
    "Mother's occupation has more effect than father's occupation, with different categories affecting the probability of dropping out in different directions. Most of these effects are relatively small. The exception is for cleaning workers, whose children are much more likely to dropout than any other occupation category. The importance of the feature as a whole mainly comes from this one category. \n",
    "\n",
    "Father's occupation:<br>\n",
    "Father's occupation doesn't have much relationship with dropping out. Only 2 of the 12 categories have a very small effect. "
   ]
  }
 ],
 "metadata": {
  "kernelspec": {
   "display_name": "base",
   "language": "python",
   "name": "python3"
  },
  "language_info": {
   "codemirror_mode": {
    "name": "ipython",
    "version": 3
   },
   "file_extension": ".py",
   "mimetype": "text/x-python",
   "name": "python",
   "nbconvert_exporter": "python",
   "pygments_lexer": "ipython3",
   "version": "3.9.12"
  }
 },
 "nbformat": 4,
 "nbformat_minor": 2
}
