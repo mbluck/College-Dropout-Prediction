{
 "cells": [
  {
   "cell_type": "code",
   "execution_count": 2,
   "metadata": {},
   "outputs": [],
   "source": [
    "import pandas as pd\n",
    "import numpy as np\n",
    "from sklearn.model_selection import train_test_split\n",
    "\n",
    "X = pd.read_csv('LogReg/X.csv')\n",
    "y = pd.read_csv('LogReg/y.csv')\n",
    "X_train, X_test, y_train, y_test = train_test_split(X, y, test_size=0.3, random_state=100)"
   ]
  },
  {
   "cell_type": "markdown",
   "metadata": {},
   "source": [
    "# Preprocessing"
   ]
  },
  {
   "cell_type": "markdown",
   "metadata": {},
   "source": [
    "Define functions that scale and one-hot encode the data. We will use the scaled data for everything in this notebook file, but only use one-hot encoding for fitting logistic regression and NOT for anything tree based such as boruta and mutual information."
   ]
  },
  {
   "cell_type": "code",
   "execution_count": 2,
   "metadata": {},
   "outputs": [],
   "source": [
    "from sklearn.preprocessing import MinMaxScaler\n",
    "\n",
    "def scale(df, nominal):\n",
    "\n",
    "    scaler = MinMaxScaler()\n",
    "\n",
    "    for var in df.columns:\n",
    "            \n",
    "        if var not in nominal:\n",
    "            raw = df[var].to_numpy()\n",
    "            raw = raw.reshape(-1, 1)\n",
    "\n",
    "            scaler.fit(raw)\n",
    "            scaled = scaler.transform(raw)\n",
    "            df[var] = scaled\n",
    "\n",
    "    return df\n",
    "\n",
    "#since we'll use the scaled data for everything, scale X now\n",
    "\n",
    "nominal = [\n",
    "            'Marital status',      \n",
    "            'Application mode',          \n",
    "            'Application order',         \n",
    "            'Course',                    \n",
    "            'Daytime/evening attendance',\n",
    "            'Previous qualification',    \n",
    "            'Nationality',               \n",
    "            \"Mother's qualification\",    \n",
    "            \"Father's qualification\",    \n",
    "            \"Mother's occupation\",       \n",
    "            \"Father's occupation\",       \n",
    "            'Displaced',              \n",
    "            'Educational special needs', \n",
    "            'Debtor',                    \n",
    "            'Tuition fees up to date',   \n",
    "            'Gender',                                              \n",
    "            'Scholarship holder',                                  \n",
    "            'International'\n",
    "            ]\n",
    "\n",
    "X = scale(X, nominal)\n",
    "X_train = scale(X_train, nominal)\n",
    "X_test = scale(X_test, nominal)"
   ]
  },
  {
   "cell_type": "code",
   "execution_count": 3,
   "metadata": {},
   "outputs": [],
   "source": [
    "from sklearn.preprocessing import OneHotEncoder\n",
    "\n",
    "def one_hot(transform_df, fit_df, nominal):\n",
    "# requires passing a list of the nominal columns \n",
    "# fit_df is the dataframe to fit the encoder onto\n",
    "# transform_df is the dataframe to transform with the encoder\n",
    "\n",
    "    # initialize encoder object\n",
    "    # use 'infrequent_if_exist' for unseen categories since some features are very sparse\n",
    "    encoder = OneHotEncoder(sparse_output=False, handle_unknown='infrequent_if_exist', drop='first')\n",
    "\n",
    "    # fit\n",
    "    fit = encoder.fit(fit_df[nominal])\n",
    "    \n",
    "    # transform\n",
    "    encoded = encoder.transform(transform_df[nominal])\n",
    "\n",
    "    # convert result to df\n",
    "    one_hot_df = pd.DataFrame(encoded, columns=encoder.get_feature_names_out(nominal))\n",
    "\n",
    "    # add results to full data\n",
    "    data_one_hot = pd.concat([transform_df.reset_index(drop=True), \n",
    "                              one_hot_df.reset_index(drop=True)], \n",
    "                              axis=1)\n",
    "\n",
    "    # drop original nominal columns\n",
    "    data_one_hot = data_one_hot.drop(nominal, axis=1)\n",
    "\n",
    "    return data_one_hot"
   ]
  },
  {
   "cell_type": "markdown",
   "metadata": {},
   "source": [
    "# Feature Selection"
   ]
  },
  {
   "cell_type": "markdown",
   "metadata": {},
   "source": [
    "The process for feature selection is not straightforward due to the mix of nominal and interval features. The need to encode the nominal features eliminates wrapper methods. In the case of one-hot/dummy encoding, they will eliminate individual levels from a feature. In the case of label encoding, the features will be misinterpreted as ordinal. Tree-based algorithms are likely the best approach out of all the supervised methods. We can try an ensemble of different methods and compare performance. In the event that none are the clear winner, we can use them in a voting selector. <br>\n",
    "\n",
    "These are the feature selection methods we'll use:<br>\n",
    "\n",
    "**Boruta**<br>\n",
    "This is a highly successful tree-based algorithm that will likely do better than a simple filter method and can be used for any classification model. <br>\n",
    "\n",
    "**Mutual information**<br>\n",
    "We can filter by mutual information since it's able to capture any kind of dependency. <br>\n",
    "\n",
    "**Recursive feature elimination**<br>\n",
    "As discussed, our nominal data is probably an issue for this method, but there's no harm in trying it. <br>\n"
   ]
  },
  {
   "cell_type": "code",
   "execution_count": 4,
   "metadata": {},
   "outputs": [
    {
     "data": {
      "text/plain": [
       "['Application mode',\n",
       " 'Course',\n",
       " 'Previous qualification (grade)',\n",
       " \"Mother's occupation\",\n",
       " \"Father's occupation\",\n",
       " 'Admission grade',\n",
       " 'Debtor',\n",
       " 'Tuition fees up to date',\n",
       " 'Gender',\n",
       " 'Scholarship holder',\n",
       " 'Age at enrollment',\n",
       " 'Curricular units 1st sem (enrolled)',\n",
       " 'Curricular units 1st sem (evaluations)',\n",
       " 'Curricular units 1st sem (approved)',\n",
       " 'Curricular units 1st sem (grade)',\n",
       " 'Curricular units 2nd sem (enrolled)',\n",
       " 'Curricular units 2nd sem (evaluations)',\n",
       " 'Curricular units 2nd sem (approved)',\n",
       " 'Curricular units 2nd sem (grade)']"
      ]
     },
     "execution_count": 4,
     "metadata": {},
     "output_type": "execute_result"
    }
   ],
   "source": [
    "# BORUTA\n",
    "\n",
    "from sklearn.ensemble import RandomForestClassifier\n",
    "from boruta import BorutaPy\n",
    "\n",
    "# BorutyPy expects numpy arrays\n",
    "X = X_train.values\n",
    "y = y_train.values\n",
    "y = y.ravel()\n",
    "\n",
    "# fit random forest classifier\n",
    "rf = RandomForestClassifier(n_jobs=-1, class_weight={0:0.7, 1:0.3}, max_depth=5)\n",
    "rf.fit(X,y)\n",
    "\n",
    "# initialize and fit Boruta selector\n",
    "feat_selector = BorutaPy(rf, n_estimators='auto', random_state=1)\n",
    "feat_selector.fit(X, y)\n",
    "\n",
    "# display selected features\n",
    "boruta_subset = [feature for feature, keep in zip(X_train.columns, feat_selector.support_) if keep]\n",
    "boruta_subset"
   ]
  },
  {
   "cell_type": "code",
   "execution_count": 5,
   "metadata": {},
   "outputs": [
    {
     "name": "stderr",
     "output_type": "stream",
     "text": [
      "c:\\Users\\Melanie\\anaconda3\\lib\\site-packages\\sklearn\\preprocessing\\_encoders.py:228: UserWarning: Found unknown categories in columns [0, 2, 3] during transform. These unknown categories will be encoded as all zeros\n",
      "  warnings.warn(\n"
     ]
    },
    {
     "name": "stdout",
     "output_type": "stream",
     "text": [
      "Boruta accuracy: 0.875\n"
     ]
    }
   ],
   "source": [
    "# BORUTA TEST\n",
    "\n",
    "from sklearn.linear_model import LogisticRegressionCV\n",
    "\n",
    "X_train_boruta = X_train[boruta_subset]\n",
    "X_test_boruta = X_test[boruta_subset]\n",
    "\n",
    "# one-hot encode data\n",
    "nominal = ['Application mode', 'Course', \"Mother's occupation\", \"Father's occupation\", 'Debtor', 'Tuition fees up to date', 'Gender', 'Scholarship holder']\n",
    "X_train_boruta_oh = one_hot(X_train_boruta, X_train_boruta, nominal)\n",
    "X_test_boruta_oh = one_hot(X_test_boruta, X_train_boruta, nominal)\n",
    "\n",
    "# fit logistic regression to get accuracy score\n",
    "clf = LogisticRegressionCV(random_state=1, class_weight={0:0.7, 1:0.3}, solver='newton-cholesky').fit(X_train_boruta_oh, y)\n",
    "score = clf.score(X_test_boruta_oh, y_test)\n",
    "print(f'Boruta accuracy: {score}')"
   ]
  },
  {
   "cell_type": "code",
   "execution_count": 8,
   "metadata": {},
   "outputs": [
    {
     "data": {
      "text/plain": [
       "Index(['Application mode', 'Course', 'Previous qualification',\n",
       "       'Previous qualification (grade)', 'Mother's qualification',\n",
       "       'Father's qualification', 'Father's occupation', 'Debtor',\n",
       "       'Tuition fees up to date', 'Scholarship holder', 'Age at enrollment',\n",
       "       'Curricular units 1st sem (enrolled)',\n",
       "       'Curricular units 1st sem (evaluations)',\n",
       "       'Curricular units 1st sem (approved)',\n",
       "       'Curricular units 1st sem (grade)',\n",
       "       'Curricular units 2nd sem (enrolled)',\n",
       "       'Curricular units 2nd sem (evaluations)',\n",
       "       'Curricular units 2nd sem (approved)',\n",
       "       'Curricular units 2nd sem (grade)'],\n",
       "      dtype='object')"
      ]
     },
     "execution_count": 8,
     "metadata": {},
     "output_type": "execute_result"
    }
   ],
   "source": [
    "# MUTUAL INFORMATION\n",
    "\n",
    "from sklearn.feature_selection import mutual_info_classif\n",
    "from sklearn.feature_selection import SelectKBest\n",
    "\n",
    "# SelectKBest expects numpy arrays\n",
    "X = X_train.values\n",
    "y = y_train.values\n",
    "y = y.ravel()\n",
    "\n",
    "select_best = SelectKBest(mutual_info_classif, k=19) #match the number of features boruta selected\n",
    "select_best.fit(X, y)\n",
    "mi_subset = X_train.columns[select_best.get_support()]\n",
    "mi_subset"
   ]
  },
  {
   "cell_type": "code",
   "execution_count": 11,
   "metadata": {},
   "outputs": [
    {
     "name": "stderr",
     "output_type": "stream",
     "text": [
      "c:\\Users\\Melanie\\anaconda3\\lib\\site-packages\\sklearn\\preprocessing\\_encoders.py:228: UserWarning: Found unknown categories in columns [0, 2, 3, 4] during transform. These unknown categories will be encoded as all zeros\n",
      "  warnings.warn(\n"
     ]
    },
    {
     "name": "stdout",
     "output_type": "stream",
     "text": [
      "Mutual information accuracy: 0.8757530120481928\n"
     ]
    }
   ],
   "source": [
    "# MUTUAL INFO TEST\n",
    "\n",
    "from sklearn.linear_model import LogisticRegressionCV\n",
    "\n",
    "X_train_mi = X_train[mi_subset]\n",
    "X_test_mi = X_test[mi_subset]\n",
    "\n",
    "# one hot encode data\n",
    "nominal = ['Application mode', 'Course', \"Mother's qualification\", \"Father's qualification\", \"Father's occupation\", 'Debtor', 'Tuition fees up to date', 'Scholarship holder']\n",
    "X_train_mi_oh = one_hot(X_train_mi, X_train_mi, nominal)\n",
    "X_test_mi_oh = one_hot(X_test_mi, X_train_mi, nominal)\n",
    "\n",
    "# test the mi feature subset by finding the accuracy score\n",
    "clf = LogisticRegressionCV(random_state=1, class_weight={0:0.7, 1:0.3}, solver='newton-cholesky').fit(X_train_mi_oh, y)\n",
    "score = clf.score(X_test_mi_oh, y_test)\n",
    "print(f'Mutual information accuracy: {score}')"
   ]
  },
  {
   "cell_type": "code",
   "execution_count": 12,
   "metadata": {},
   "outputs": [],
   "source": [
    "# check for multicolinearity\n",
    "\n",
    "from statsmodels.stats.outliers_influence import variance_inflation_factor \n",
    "\n",
    "X_boruta = X_train[boruta_subset]\n",
    "X_mi = X_train[mi_subset]\n",
    "\n",
    "vif_boruta = pd.DataFrame() \n",
    "vif_mi = pd.DataFrame() \n",
    "\n",
    "vif_boruta['Feature'] = X_boruta.columns \n",
    "vif_mi['Feature'] = X_mi.columns \n",
    "  \n",
    "# calculating VIF for each feature \n",
    "vif_boruta['VIF'] = [variance_inflation_factor(X_boruta.values, i) \n",
    "                          for i in range(len(X_boruta.columns))] \n",
    "vif_mi['VIF'] = [variance_inflation_factor(X_mi.values, i) \n",
    "                          for i in range(len(X_mi.columns))] "
   ]
  },
  {
   "cell_type": "code",
   "execution_count": 13,
   "metadata": {},
   "outputs": [
    {
     "data": {
      "text/html": [
       "<div>\n",
       "<style scoped>\n",
       "    .dataframe tbody tr th:only-of-type {\n",
       "        vertical-align: middle;\n",
       "    }\n",
       "\n",
       "    .dataframe tbody tr th {\n",
       "        vertical-align: top;\n",
       "    }\n",
       "\n",
       "    .dataframe thead th {\n",
       "        text-align: right;\n",
       "    }\n",
       "</style>\n",
       "<table border=\"1\" class=\"dataframe\">\n",
       "  <thead>\n",
       "    <tr style=\"text-align: right;\">\n",
       "      <th></th>\n",
       "      <th>Feature</th>\n",
       "      <th>VIF</th>\n",
       "    </tr>\n",
       "  </thead>\n",
       "  <tbody>\n",
       "    <tr>\n",
       "      <th>0</th>\n",
       "      <td>Application mode</td>\n",
       "      <td>3.260958</td>\n",
       "    </tr>\n",
       "    <tr>\n",
       "      <th>1</th>\n",
       "      <td>Course</td>\n",
       "      <td>29.218255</td>\n",
       "    </tr>\n",
       "    <tr>\n",
       "      <th>2</th>\n",
       "      <td>Previous qualification (grade)</td>\n",
       "      <td>13.192101</td>\n",
       "    </tr>\n",
       "    <tr>\n",
       "      <th>3</th>\n",
       "      <td>Mother's occupation</td>\n",
       "      <td>6.386088</td>\n",
       "    </tr>\n",
       "    <tr>\n",
       "      <th>4</th>\n",
       "      <td>Father's occupation</td>\n",
       "      <td>6.447701</td>\n",
       "    </tr>\n",
       "    <tr>\n",
       "      <th>5</th>\n",
       "      <td>Admission grade</td>\n",
       "      <td>8.922881</td>\n",
       "    </tr>\n",
       "    <tr>\n",
       "      <th>6</th>\n",
       "      <td>Debtor</td>\n",
       "      <td>1.327177</td>\n",
       "    </tr>\n",
       "    <tr>\n",
       "      <th>7</th>\n",
       "      <td>Tuition fees up to date</td>\n",
       "      <td>8.751157</td>\n",
       "    </tr>\n",
       "    <tr>\n",
       "      <th>8</th>\n",
       "      <td>Gender</td>\n",
       "      <td>1.619831</td>\n",
       "    </tr>\n",
       "    <tr>\n",
       "      <th>9</th>\n",
       "      <td>Scholarship holder</td>\n",
       "      <td>1.479733</td>\n",
       "    </tr>\n",
       "    <tr>\n",
       "      <th>10</th>\n",
       "      <td>Age at enrollment</td>\n",
       "      <td>2.518682</td>\n",
       "    </tr>\n",
       "    <tr>\n",
       "      <th>11</th>\n",
       "      <td>Curricular units 1st sem (enrolled)</td>\n",
       "      <td>128.139497</td>\n",
       "    </tr>\n",
       "    <tr>\n",
       "      <th>12</th>\n",
       "      <td>Curricular units 1st sem (evaluations)</td>\n",
       "      <td>17.782707</td>\n",
       "    </tr>\n",
       "    <tr>\n",
       "      <th>13</th>\n",
       "      <td>Curricular units 1st sem (approved)</td>\n",
       "      <td>39.114827</td>\n",
       "    </tr>\n",
       "    <tr>\n",
       "      <th>14</th>\n",
       "      <td>Curricular units 1st sem (grade)</td>\n",
       "      <td>28.659638</td>\n",
       "    </tr>\n",
       "    <tr>\n",
       "      <th>15</th>\n",
       "      <td>Curricular units 2nd sem (enrolled)</td>\n",
       "      <td>124.244453</td>\n",
       "    </tr>\n",
       "    <tr>\n",
       "      <th>16</th>\n",
       "      <td>Curricular units 2nd sem (evaluations)</td>\n",
       "      <td>16.721821</td>\n",
       "    </tr>\n",
       "    <tr>\n",
       "      <th>17</th>\n",
       "      <td>Curricular units 2nd sem (approved)</td>\n",
       "      <td>32.080347</td>\n",
       "    </tr>\n",
       "    <tr>\n",
       "      <th>18</th>\n",
       "      <td>Curricular units 2nd sem (grade)</td>\n",
       "      <td>27.107252</td>\n",
       "    </tr>\n",
       "  </tbody>\n",
       "</table>\n",
       "</div>"
      ],
      "text/plain": [
       "                                   Feature         VIF\n",
       "0                         Application mode    3.260958\n",
       "1                                   Course   29.218255\n",
       "2           Previous qualification (grade)   13.192101\n",
       "3                      Mother's occupation    6.386088\n",
       "4                      Father's occupation    6.447701\n",
       "5                          Admission grade    8.922881\n",
       "6                                   Debtor    1.327177\n",
       "7                  Tuition fees up to date    8.751157\n",
       "8                                   Gender    1.619831\n",
       "9                       Scholarship holder    1.479733\n",
       "10                       Age at enrollment    2.518682\n",
       "11     Curricular units 1st sem (enrolled)  128.139497\n",
       "12  Curricular units 1st sem (evaluations)   17.782707\n",
       "13     Curricular units 1st sem (approved)   39.114827\n",
       "14        Curricular units 1st sem (grade)   28.659638\n",
       "15     Curricular units 2nd sem (enrolled)  124.244453\n",
       "16  Curricular units 2nd sem (evaluations)   16.721821\n",
       "17     Curricular units 2nd sem (approved)   32.080347\n",
       "18        Curricular units 2nd sem (grade)   27.107252"
      ]
     },
     "execution_count": 13,
     "metadata": {},
     "output_type": "execute_result"
    }
   ],
   "source": [
    "vif_boruta"
   ]
  },
  {
   "cell_type": "code",
   "execution_count": 14,
   "metadata": {},
   "outputs": [
    {
     "data": {
      "text/plain": [
       "496.9751045909627"
      ]
     },
     "execution_count": 14,
     "metadata": {},
     "output_type": "execute_result"
    }
   ],
   "source": [
    "sum(vif_boruta['VIF'])"
   ]
  },
  {
   "cell_type": "code",
   "execution_count": 15,
   "metadata": {},
   "outputs": [
    {
     "data": {
      "text/html": [
       "<div>\n",
       "<style scoped>\n",
       "    .dataframe tbody tr th:only-of-type {\n",
       "        vertical-align: middle;\n",
       "    }\n",
       "\n",
       "    .dataframe tbody tr th {\n",
       "        vertical-align: top;\n",
       "    }\n",
       "\n",
       "    .dataframe thead th {\n",
       "        text-align: right;\n",
       "    }\n",
       "</style>\n",
       "<table border=\"1\" class=\"dataframe\">\n",
       "  <thead>\n",
       "    <tr style=\"text-align: right;\">\n",
       "      <th></th>\n",
       "      <th>Feature</th>\n",
       "      <th>VIF</th>\n",
       "    </tr>\n",
       "  </thead>\n",
       "  <tbody>\n",
       "    <tr>\n",
       "      <th>0</th>\n",
       "      <td>Application mode</td>\n",
       "      <td>3.802803</td>\n",
       "    </tr>\n",
       "    <tr>\n",
       "      <th>1</th>\n",
       "      <td>Course</td>\n",
       "      <td>29.583547</td>\n",
       "    </tr>\n",
       "    <tr>\n",
       "      <th>2</th>\n",
       "      <td>Previous qualification</td>\n",
       "      <td>1.513132</td>\n",
       "    </tr>\n",
       "    <tr>\n",
       "      <th>3</th>\n",
       "      <td>Previous qualification (grade)</td>\n",
       "      <td>7.601451</td>\n",
       "    </tr>\n",
       "    <tr>\n",
       "      <th>4</th>\n",
       "      <td>Mother's qualification</td>\n",
       "      <td>3.835881</td>\n",
       "    </tr>\n",
       "    <tr>\n",
       "      <th>5</th>\n",
       "      <td>Father's qualification</td>\n",
       "      <td>4.376275</td>\n",
       "    </tr>\n",
       "    <tr>\n",
       "      <th>6</th>\n",
       "      <td>Father's occupation</td>\n",
       "      <td>1.222005</td>\n",
       "    </tr>\n",
       "    <tr>\n",
       "      <th>7</th>\n",
       "      <td>Debtor</td>\n",
       "      <td>1.317128</td>\n",
       "    </tr>\n",
       "    <tr>\n",
       "      <th>8</th>\n",
       "      <td>Tuition fees up to date</td>\n",
       "      <td>8.758926</td>\n",
       "    </tr>\n",
       "    <tr>\n",
       "      <th>9</th>\n",
       "      <td>Scholarship holder</td>\n",
       "      <td>1.503996</td>\n",
       "    </tr>\n",
       "    <tr>\n",
       "      <th>10</th>\n",
       "      <td>Age at enrollment</td>\n",
       "      <td>2.706466</td>\n",
       "    </tr>\n",
       "    <tr>\n",
       "      <th>11</th>\n",
       "      <td>Curricular units 1st sem (enrolled)</td>\n",
       "      <td>128.422035</td>\n",
       "    </tr>\n",
       "    <tr>\n",
       "      <th>12</th>\n",
       "      <td>Curricular units 1st sem (evaluations)</td>\n",
       "      <td>17.749874</td>\n",
       "    </tr>\n",
       "    <tr>\n",
       "      <th>13</th>\n",
       "      <td>Curricular units 1st sem (approved)</td>\n",
       "      <td>39.253572</td>\n",
       "    </tr>\n",
       "    <tr>\n",
       "      <th>14</th>\n",
       "      <td>Curricular units 1st sem (grade)</td>\n",
       "      <td>28.533900</td>\n",
       "    </tr>\n",
       "    <tr>\n",
       "      <th>15</th>\n",
       "      <td>Curricular units 2nd sem (enrolled)</td>\n",
       "      <td>124.683916</td>\n",
       "    </tr>\n",
       "    <tr>\n",
       "      <th>16</th>\n",
       "      <td>Curricular units 2nd sem (evaluations)</td>\n",
       "      <td>16.714232</td>\n",
       "    </tr>\n",
       "    <tr>\n",
       "      <th>17</th>\n",
       "      <td>Curricular units 2nd sem (approved)</td>\n",
       "      <td>31.912298</td>\n",
       "    </tr>\n",
       "    <tr>\n",
       "      <th>18</th>\n",
       "      <td>Curricular units 2nd sem (grade)</td>\n",
       "      <td>27.085552</td>\n",
       "    </tr>\n",
       "  </tbody>\n",
       "</table>\n",
       "</div>"
      ],
      "text/plain": [
       "                                   Feature         VIF\n",
       "0                         Application mode    3.802803\n",
       "1                                   Course   29.583547\n",
       "2                   Previous qualification    1.513132\n",
       "3           Previous qualification (grade)    7.601451\n",
       "4                   Mother's qualification    3.835881\n",
       "5                   Father's qualification    4.376275\n",
       "6                      Father's occupation    1.222005\n",
       "7                                   Debtor    1.317128\n",
       "8                  Tuition fees up to date    8.758926\n",
       "9                       Scholarship holder    1.503996\n",
       "10                       Age at enrollment    2.706466\n",
       "11     Curricular units 1st sem (enrolled)  128.422035\n",
       "12  Curricular units 1st sem (evaluations)   17.749874\n",
       "13     Curricular units 1st sem (approved)   39.253572\n",
       "14        Curricular units 1st sem (grade)   28.533900\n",
       "15     Curricular units 2nd sem (enrolled)  124.683916\n",
       "16  Curricular units 2nd sem (evaluations)   16.714232\n",
       "17     Curricular units 2nd sem (approved)   31.912298\n",
       "18        Curricular units 2nd sem (grade)   27.085552"
      ]
     },
     "execution_count": 15,
     "metadata": {},
     "output_type": "execute_result"
    }
   ],
   "source": [
    "vif_mi"
   ]
  },
  {
   "cell_type": "code",
   "execution_count": 16,
   "metadata": {},
   "outputs": [
    {
     "data": {
      "text/plain": [
       "480.57699011126357"
      ]
     },
     "execution_count": 16,
     "metadata": {},
     "output_type": "execute_result"
    }
   ],
   "source": [
    "sum(vif_mi['VIF'])"
   ]
  },
  {
   "cell_type": "markdown",
   "metadata": {},
   "source": [
    "Both feature subsets have a lot of multicolinearity. Let's prune out the features with the highest VIF scores and see if that affects accuracy. "
   ]
  },
  {
   "cell_type": "code",
   "execution_count": 27,
   "metadata": {},
   "outputs": [],
   "source": [
    "# PRUNE MULTICOLINEAR FEATURES\n",
    "\n",
    "def get_vif(df, subset):\n",
    "# recalculates vif scores after dropping a feature\n",
    "\n",
    "    X = X_train[subset]\n",
    "    \n",
    "    df['VIF'] = [variance_inflation_factor(X.values, i) \n",
    "                          for i in range(len(X.columns))] \n",
    "    \n",
    "    return df\n",
    "\n",
    "def drop_max(df):\n",
    "# iteratively drops the feature with highest vif score\n",
    "\n",
    "    while max(df['VIF'] > 50):\n",
    "\n",
    "        # drop feature with the highest vif\n",
    "        label = df.index[df['VIF'] == max(df['VIF'])]\n",
    "        df = df.drop(label, axis=0)\n",
    "\n",
    "        # recalculate VIF scores\n",
    "        subset = df['Feature'].to_list()\n",
    "        df = get_vif(df, subset)\n",
    "\n",
    "    return df\n",
    "\n",
    "# get new dataframes with the pruned feature subsets\n",
    "# use copies of the dataframes with the original subsets so they aren't altered\n",
    "new_boruta = drop_max(vif_boruta.copy())\n",
    "new_mi = drop_max(vif_mi.copy())\n",
    "\n",
    "new_boruta = new_boruta.reset_index(drop=True)\n",
    "new_mi = new_mi.reset_index(drop=True)"
   ]
  },
  {
   "cell_type": "code",
   "execution_count": 18,
   "metadata": {},
   "outputs": [
    {
     "data": {
      "text/html": [
       "<div>\n",
       "<style scoped>\n",
       "    .dataframe tbody tr th:only-of-type {\n",
       "        vertical-align: middle;\n",
       "    }\n",
       "\n",
       "    .dataframe tbody tr th {\n",
       "        vertical-align: top;\n",
       "    }\n",
       "\n",
       "    .dataframe thead th {\n",
       "        text-align: right;\n",
       "    }\n",
       "</style>\n",
       "<table border=\"1\" class=\"dataframe\">\n",
       "  <thead>\n",
       "    <tr style=\"text-align: right;\">\n",
       "      <th></th>\n",
       "      <th>Feature</th>\n",
       "      <th>VIF</th>\n",
       "    </tr>\n",
       "  </thead>\n",
       "  <tbody>\n",
       "    <tr>\n",
       "      <th>0</th>\n",
       "      <td>Application mode</td>\n",
       "      <td>3.258991</td>\n",
       "    </tr>\n",
       "    <tr>\n",
       "      <th>1</th>\n",
       "      <td>Course</td>\n",
       "      <td>29.071295</td>\n",
       "    </tr>\n",
       "    <tr>\n",
       "      <th>2</th>\n",
       "      <td>Previous qualification (grade)</td>\n",
       "      <td>13.169923</td>\n",
       "    </tr>\n",
       "    <tr>\n",
       "      <th>3</th>\n",
       "      <td>Mother's occupation</td>\n",
       "      <td>6.385860</td>\n",
       "    </tr>\n",
       "    <tr>\n",
       "      <th>4</th>\n",
       "      <td>Father's occupation</td>\n",
       "      <td>6.447386</td>\n",
       "    </tr>\n",
       "    <tr>\n",
       "      <th>5</th>\n",
       "      <td>Admission grade</td>\n",
       "      <td>8.922251</td>\n",
       "    </tr>\n",
       "    <tr>\n",
       "      <th>6</th>\n",
       "      <td>Debtor</td>\n",
       "      <td>1.327148</td>\n",
       "    </tr>\n",
       "    <tr>\n",
       "      <th>7</th>\n",
       "      <td>Tuition fees up to date</td>\n",
       "      <td>8.742941</td>\n",
       "    </tr>\n",
       "    <tr>\n",
       "      <th>8</th>\n",
       "      <td>Gender</td>\n",
       "      <td>1.618546</td>\n",
       "    </tr>\n",
       "    <tr>\n",
       "      <th>9</th>\n",
       "      <td>Scholarship holder</td>\n",
       "      <td>1.476391</td>\n",
       "    </tr>\n",
       "    <tr>\n",
       "      <th>10</th>\n",
       "      <td>Age at enrollment</td>\n",
       "      <td>2.491538</td>\n",
       "    </tr>\n",
       "    <tr>\n",
       "      <th>11</th>\n",
       "      <td>Curricular units 1st sem (evaluations)</td>\n",
       "      <td>14.163712</td>\n",
       "    </tr>\n",
       "    <tr>\n",
       "      <th>12</th>\n",
       "      <td>Curricular units 1st sem (approved)</td>\n",
       "      <td>26.994073</td>\n",
       "    </tr>\n",
       "    <tr>\n",
       "      <th>13</th>\n",
       "      <td>Curricular units 1st sem (grade)</td>\n",
       "      <td>26.367960</td>\n",
       "    </tr>\n",
       "    <tr>\n",
       "      <th>14</th>\n",
       "      <td>Curricular units 2nd sem (enrolled)</td>\n",
       "      <td>42.177762</td>\n",
       "    </tr>\n",
       "    <tr>\n",
       "      <th>15</th>\n",
       "      <td>Curricular units 2nd sem (evaluations)</td>\n",
       "      <td>16.047328</td>\n",
       "    </tr>\n",
       "    <tr>\n",
       "      <th>16</th>\n",
       "      <td>Curricular units 2nd sem (approved)</td>\n",
       "      <td>29.869024</td>\n",
       "    </tr>\n",
       "    <tr>\n",
       "      <th>17</th>\n",
       "      <td>Curricular units 2nd sem (grade)</td>\n",
       "      <td>27.070495</td>\n",
       "    </tr>\n",
       "  </tbody>\n",
       "</table>\n",
       "</div>"
      ],
      "text/plain": [
       "                                   Feature        VIF\n",
       "0                         Application mode   3.258991\n",
       "1                                   Course  29.071295\n",
       "2           Previous qualification (grade)  13.169923\n",
       "3                      Mother's occupation   6.385860\n",
       "4                      Father's occupation   6.447386\n",
       "5                          Admission grade   8.922251\n",
       "6                                   Debtor   1.327148\n",
       "7                  Tuition fees up to date   8.742941\n",
       "8                                   Gender   1.618546\n",
       "9                       Scholarship holder   1.476391\n",
       "10                       Age at enrollment   2.491538\n",
       "11  Curricular units 1st sem (evaluations)  14.163712\n",
       "12     Curricular units 1st sem (approved)  26.994073\n",
       "13        Curricular units 1st sem (grade)  26.367960\n",
       "14     Curricular units 2nd sem (enrolled)  42.177762\n",
       "15  Curricular units 2nd sem (evaluations)  16.047328\n",
       "16     Curricular units 2nd sem (approved)  29.869024\n",
       "17        Curricular units 2nd sem (grade)  27.070495"
      ]
     },
     "execution_count": 18,
     "metadata": {},
     "output_type": "execute_result"
    }
   ],
   "source": [
    "new_boruta"
   ]
  },
  {
   "cell_type": "code",
   "execution_count": 22,
   "metadata": {},
   "outputs": [
    {
     "data": {
      "text/html": [
       "<div>\n",
       "<style scoped>\n",
       "    .dataframe tbody tr th:only-of-type {\n",
       "        vertical-align: middle;\n",
       "    }\n",
       "\n",
       "    .dataframe tbody tr th {\n",
       "        vertical-align: top;\n",
       "    }\n",
       "\n",
       "    .dataframe thead th {\n",
       "        text-align: right;\n",
       "    }\n",
       "</style>\n",
       "<table border=\"1\" class=\"dataframe\">\n",
       "  <thead>\n",
       "    <tr style=\"text-align: right;\">\n",
       "      <th></th>\n",
       "      <th>Feature</th>\n",
       "      <th>VIF</th>\n",
       "    </tr>\n",
       "  </thead>\n",
       "  <tbody>\n",
       "    <tr>\n",
       "      <th>0</th>\n",
       "      <td>Application mode</td>\n",
       "      <td>3.801697</td>\n",
       "    </tr>\n",
       "    <tr>\n",
       "      <th>1</th>\n",
       "      <td>Course</td>\n",
       "      <td>29.449891</td>\n",
       "    </tr>\n",
       "    <tr>\n",
       "      <th>2</th>\n",
       "      <td>Previous qualification</td>\n",
       "      <td>1.512306</td>\n",
       "    </tr>\n",
       "    <tr>\n",
       "      <th>3</th>\n",
       "      <td>Previous qualification (grade)</td>\n",
       "      <td>7.586888</td>\n",
       "    </tr>\n",
       "    <tr>\n",
       "      <th>4</th>\n",
       "      <td>Mother's qualification</td>\n",
       "      <td>3.828542</td>\n",
       "    </tr>\n",
       "    <tr>\n",
       "      <th>5</th>\n",
       "      <td>Father's qualification</td>\n",
       "      <td>4.376272</td>\n",
       "    </tr>\n",
       "    <tr>\n",
       "      <th>6</th>\n",
       "      <td>Father's occupation</td>\n",
       "      <td>1.222002</td>\n",
       "    </tr>\n",
       "    <tr>\n",
       "      <th>7</th>\n",
       "      <td>Debtor</td>\n",
       "      <td>1.317117</td>\n",
       "    </tr>\n",
       "    <tr>\n",
       "      <th>8</th>\n",
       "      <td>Tuition fees up to date</td>\n",
       "      <td>8.749660</td>\n",
       "    </tr>\n",
       "    <tr>\n",
       "      <th>9</th>\n",
       "      <td>Scholarship holder</td>\n",
       "      <td>1.499432</td>\n",
       "    </tr>\n",
       "    <tr>\n",
       "      <th>10</th>\n",
       "      <td>Age at enrollment</td>\n",
       "      <td>2.685508</td>\n",
       "    </tr>\n",
       "    <tr>\n",
       "      <th>11</th>\n",
       "      <td>Curricular units 1st sem (evaluations)</td>\n",
       "      <td>14.131533</td>\n",
       "    </tr>\n",
       "    <tr>\n",
       "      <th>12</th>\n",
       "      <td>Curricular units 1st sem (approved)</td>\n",
       "      <td>27.040368</td>\n",
       "    </tr>\n",
       "    <tr>\n",
       "      <th>13</th>\n",
       "      <td>Curricular units 1st sem (grade)</td>\n",
       "      <td>26.223545</td>\n",
       "    </tr>\n",
       "    <tr>\n",
       "      <th>14</th>\n",
       "      <td>Curricular units 2nd sem (enrolled)</td>\n",
       "      <td>42.299580</td>\n",
       "    </tr>\n",
       "    <tr>\n",
       "      <th>15</th>\n",
       "      <td>Curricular units 2nd sem (evaluations)</td>\n",
       "      <td>16.037261</td>\n",
       "    </tr>\n",
       "    <tr>\n",
       "      <th>16</th>\n",
       "      <td>Curricular units 2nd sem (approved)</td>\n",
       "      <td>29.638290</td>\n",
       "    </tr>\n",
       "    <tr>\n",
       "      <th>17</th>\n",
       "      <td>Curricular units 2nd sem (grade)</td>\n",
       "      <td>27.047540</td>\n",
       "    </tr>\n",
       "  </tbody>\n",
       "</table>\n",
       "</div>"
      ],
      "text/plain": [
       "                                   Feature        VIF\n",
       "0                         Application mode   3.801697\n",
       "1                                   Course  29.449891\n",
       "2                   Previous qualification   1.512306\n",
       "3           Previous qualification (grade)   7.586888\n",
       "4                   Mother's qualification   3.828542\n",
       "5                   Father's qualification   4.376272\n",
       "6                      Father's occupation   1.222002\n",
       "7                                   Debtor   1.317117\n",
       "8                  Tuition fees up to date   8.749660\n",
       "9                       Scholarship holder   1.499432\n",
       "10                       Age at enrollment   2.685508\n",
       "11  Curricular units 1st sem (evaluations)  14.131533\n",
       "12     Curricular units 1st sem (approved)  27.040368\n",
       "13        Curricular units 1st sem (grade)  26.223545\n",
       "14     Curricular units 2nd sem (enrolled)  42.299580\n",
       "15  Curricular units 2nd sem (evaluations)  16.037261\n",
       "16     Curricular units 2nd sem (approved)  29.638290\n",
       "17        Curricular units 2nd sem (grade)  27.047540"
      ]
     },
     "execution_count": 22,
     "metadata": {},
     "output_type": "execute_result"
    }
   ],
   "source": [
    "new_mi"
   ]
  },
  {
   "cell_type": "code",
   "execution_count": 28,
   "metadata": {},
   "outputs": [
    {
     "name": "stderr",
     "output_type": "stream",
     "text": [
      "c:\\Users\\Melanie\\anaconda3\\lib\\site-packages\\sklearn\\preprocessing\\_encoders.py:228: UserWarning: Found unknown categories in columns [0, 2, 3] during transform. These unknown categories will be encoded as all zeros\n",
      "  warnings.warn(\n",
      "c:\\Users\\Melanie\\anaconda3\\lib\\site-packages\\sklearn\\preprocessing\\_encoders.py:228: UserWarning: Found unknown categories in columns [0, 2, 3, 4] during transform. These unknown categories will be encoded as all zeros\n",
      "  warnings.warn(\n"
     ]
    },
    {
     "name": "stdout",
     "output_type": "stream",
     "text": [
      "Boruta: 0.875\n",
      "Mutual info: 0.8772590361445783\n"
     ]
    }
   ],
   "source": [
    "# TEST NEW FEATURE SUBSETS\n",
    "\n",
    "from sklearn.linear_model import LogisticRegressionCV\n",
    "\n",
    "# boruta data\n",
    "X_train_boruta = X_train[new_boruta['Feature'].to_list()]\n",
    "X_test_boruta = X_test[new_boruta['Feature'].to_list()]\n",
    "\n",
    "# one hot encode boruta data\n",
    "nominal = ['Application mode', 'Course', \"Mother's occupation\", \"Father's occupation\", 'Debtor', 'Tuition fees up to date', 'Gender', 'Scholarship holder']\n",
    "X_train_boruta_oh = one_hot(X_train_boruta, X_train_boruta, nominal)\n",
    "X_test_boruta_oh = one_hot(X_test_boruta, X_train_boruta, nominal)\n",
    "\n",
    "# mutual info data\n",
    "X_train_mi = X_train[new_mi['Feature'].to_list()]\n",
    "X_test_mi = X_test[new_mi['Feature'].to_list()]\n",
    "\n",
    "# one hot encode mutual info data\n",
    "nominal = ['Application mode', 'Course', \"Mother's qualification\", \"Father's qualification\", \"Father's occupation\", 'Debtor', 'Tuition fees up to date', 'Scholarship holder']\n",
    "X_train_mi_oh = one_hot(X_train_mi, X_train_mi, nominal)\n",
    "X_test_mi_oh = one_hot(X_test_mi, X_train_mi, nominal)\n",
    "\n",
    "# test boruta data\n",
    "clf = LogisticRegressionCV(random_state=1, class_weight={0:0.7, 1:0.3}, solver='newton-cholesky').fit(X_train_boruta_oh, y)\n",
    "score = clf.score(X_test_boruta_oh, y_test)\n",
    "print(f'Boruta: {score}')\n",
    "\n",
    "# test mutual info data\n",
    "clf = LogisticRegressionCV(random_state=1, class_weight={0:0.7, 1:0.3}, solver='newton-cholesky').fit(X_train_mi_oh, y)\n",
    "score = clf.score(X_test_mi_oh, y_test)\n",
    "print(f'Mutual info: {score}')"
   ]
  },
  {
   "cell_type": "markdown",
   "metadata": {},
   "source": [
    "After some trial and error, setting the VIF threshold to 50 allows us to get accuracy scores that are equal to or slighly better than the original boruta and mutual info subsets. Thresholds < 50 reduce accuracy, and thresholds > 50 stop improving it. The two subsets are nearly the same and are very close in terms of model accuracy and overall VIF scores. In my opinion, the Boruta subset is a bit easier to interpret, so we'll go with that.  "
   ]
  },
  {
   "cell_type": "code",
   "execution_count": 29,
   "metadata": {},
   "outputs": [
    {
     "data": {
      "text/plain": [
       "['Application mode',\n",
       " 'Course',\n",
       " 'Previous qualification (grade)',\n",
       " \"Mother's occupation\",\n",
       " \"Father's occupation\",\n",
       " 'Admission grade',\n",
       " 'Debtor',\n",
       " 'Tuition fees up to date',\n",
       " 'Gender',\n",
       " 'Scholarship holder',\n",
       " 'Age at enrollment',\n",
       " 'Curricular units 1st sem (evaluations)',\n",
       " 'Curricular units 1st sem (approved)',\n",
       " 'Curricular units 1st sem (grade)',\n",
       " 'Curricular units 2nd sem (enrolled)',\n",
       " 'Curricular units 2nd sem (evaluations)',\n",
       " 'Curricular units 2nd sem (approved)',\n",
       " 'Curricular units 2nd sem (grade)',\n",
       " 'Target']"
      ]
     },
     "execution_count": 29,
     "metadata": {},
     "output_type": "execute_result"
    }
   ],
   "source": [
    "final_subset = new_boruta['Feature'].to_list()\n",
    "final_subset.append('Target')\n",
    "final_subset"
   ]
  },
  {
   "cell_type": "code",
   "execution_count": 34,
   "metadata": {},
   "outputs": [
    {
     "name": "stderr",
     "output_type": "stream",
     "text": [
      "c:\\Users\\Melanie\\anaconda3\\lib\\site-packages\\sklearn\\preprocessing\\_encoders.py:228: UserWarning: Found unknown categories in columns [0, 2, 3] during transform. These unknown categories will be encoded as all zeros\n",
      "  warnings.warn(\n"
     ]
    }
   ],
   "source": [
    "# create and save the final, preprocessed dataset that will be used \n",
    "\n",
    "nominal=['Application mode','Course',\"Mother's occupation\",\"Father's occupation\",'Debtor','Tuition fees up to date','Gender','Scholarship holder']\n",
    "\n",
    "all_data = pd.read_csv('LogReg/data_clean.csv')\n",
    "data_subset =  all_data[final_subset]\n",
    "\n",
    "X = data_subset.drop('Target', axis=1)\n",
    "y = data_subset['Target']\n",
    "\n",
    "X = scale(X, nominal)\n",
    "\n",
    "X_train, X_test, y_train, y_test = train_test_split(X, y, test_size=0.3, random_state=100)\n",
    "\n",
    "X_train_oh = one_hot(X_train, X_train, nominal)\n",
    "X_test_oh = one_hot(X_test, X_train, nominal)"
   ]
  },
  {
   "cell_type": "code",
   "execution_count": 36,
   "metadata": {},
   "outputs": [],
   "source": [
    "X_train_oh.to_csv('LogReg/X_train.csv', index=False)\n",
    "X_test_oh.to_csv('LogReg/X_test.csv', index=False)\n",
    "y_train.to_csv('LogReg/y_train.csv', index=False)\n",
    "y_test.to_csv('LogReg/y_test.csv', index=False)"
   ]
  },
  {
   "cell_type": "markdown",
   "metadata": {},
   "source": [
    "# Model Tuning"
   ]
  },
  {
   "cell_type": "code",
   "execution_count": 30,
   "metadata": {},
   "outputs": [],
   "source": [
    "#load data\n",
    "\n",
    "X_train = pd.read_csv('LogReg/X_train.csv')\n",
    "X_test = pd.read_csv('LogReg/X_test.csv')\n",
    "\n",
    "y_train = pd.read_csv('LogReg/y_train.csv')\n",
    "y_test = pd.read_csv('LogReg/y_test.csv')"
   ]
  },
  {
   "cell_type": "markdown",
   "metadata": {},
   "source": [
    "### Vanilla\n",
    "\n",
    "Let's inspect the perfomance of the vanilla model to compare for later."
   ]
  },
  {
   "cell_type": "code",
   "execution_count": 74,
   "metadata": {},
   "outputs": [],
   "source": [
    "from sklearn.linear_model import LogisticRegression\n",
    "from sklearn.metrics import accuracy_score, precision_score, recall_score, confusion_matrix, f1_score, make_scorer, ConfusionMatrixDisplay, RocCurveDisplay"
   ]
  },
  {
   "cell_type": "code",
   "execution_count": 51,
   "metadata": {},
   "outputs": [
    {
     "data": {
      "text/plain": [
       "<sklearn.metrics._plot.roc_curve.RocCurveDisplay at 0x1fe2a78c820>"
      ]
     },
     "execution_count": 51,
     "metadata": {},
     "output_type": "execute_result"
    },
    {
     "data": {
      "image/png": "[encoded data removed]",
      "text/plain": [
       "<Figure size 432x288 with 1 Axes>"
      ]
     },
     "metadata": {
      "needs_background": "light"
     },
     "output_type": "display_data"
    },
    {
     "data": {
      "image/png": "[encoded data removed]",
      "text/plain": [
       "<Figure size 432x288 with 1 Axes>"
      ]
     },
     "metadata": {
      "needs_background": "light"
     },
     "output_type": "display_data"
    }
   ],
   "source": [
    "# CONFUSION MATRIX\n",
    "\n",
    "clf_vanilla = LogisticRegression().fit(X_train, y_train)\n",
    "ConfusionMatrixDisplay.from_estimator(clf_vanilla, X_test, y_test, normalize='true', colorbar=False)\n",
    "RocCurveDisplay.from_estimator(clf_vanilla, X_test, y_test)"
   ]
  },
  {
   "cell_type": "markdown",
   "metadata": {},
   "source": [
    "0.48% of true negative cases are falsely predicted. 29% of true positive cases are falsely predicted. That's a huge rate of false negatives. We'd rather have some bias toward false positives. "
   ]
  },
  {
   "cell_type": "markdown",
   "metadata": {},
   "source": [
    "### Hyperparameters"
   ]
  },
  {
   "cell_type": "markdown",
   "metadata": {},
   "source": [
    "Use grid search to evaluate the different possible parameter combinations."
   ]
  },
  {
   "cell_type": "code",
   "execution_count": 32,
   "metadata": {},
   "outputs": [
    {
     "name": "stderr",
     "output_type": "stream",
     "text": [
      "c:\\Users\\Melanie\\anaconda3\\lib\\site-packages\\sklearn\\linear_model\\_sag.py:349: ConvergenceWarning: The max_iter was reached which means the coef_ did not converge\n",
      "  warnings.warn(\n",
      "c:\\Users\\Melanie\\anaconda3\\lib\\site-packages\\sklearn\\linear_model\\_sag.py:349: ConvergenceWarning: The max_iter was reached which means the coef_ did not converge\n",
      "  warnings.warn(\n",
      "c:\\Users\\Melanie\\anaconda3\\lib\\site-packages\\sklearn\\linear_model\\_sag.py:349: ConvergenceWarning: The max_iter was reached which means the coef_ did not converge\n",
      "  warnings.warn(\n",
      "c:\\Users\\Melanie\\anaconda3\\lib\\site-packages\\sklearn\\linear_model\\_sag.py:349: ConvergenceWarning: The max_iter was reached which means the coef_ did not converge\n",
      "  warnings.warn(\n",
      "c:\\Users\\Melanie\\anaconda3\\lib\\site-packages\\sklearn\\linear_model\\_sag.py:349: ConvergenceWarning: The max_iter was reached which means the coef_ did not converge\n",
      "  warnings.warn(\n",
      "c:\\Users\\Melanie\\anaconda3\\lib\\site-packages\\sklearn\\linear_model\\_sag.py:349: ConvergenceWarning: The max_iter was reached which means the coef_ did not converge\n",
      "  warnings.warn(\n",
      "c:\\Users\\Melanie\\anaconda3\\lib\\site-packages\\sklearn\\linear_model\\_sag.py:349: ConvergenceWarning: The max_iter was reached which means the coef_ did not converge\n",
      "  warnings.warn(\n",
      "c:\\Users\\Melanie\\anaconda3\\lib\\site-packages\\sklearn\\linear_model\\_sag.py:349: ConvergenceWarning: The max_iter was reached which means the coef_ did not converge\n",
      "  warnings.warn(\n",
      "c:\\Users\\Melanie\\anaconda3\\lib\\site-packages\\sklearn\\linear_model\\_sag.py:349: ConvergenceWarning: The max_iter was reached which means the coef_ did not converge\n",
      "  warnings.warn(\n",
      "c:\\Users\\Melanie\\anaconda3\\lib\\site-packages\\sklearn\\linear_model\\_sag.py:349: ConvergenceWarning: The max_iter was reached which means the coef_ did not converge\n",
      "  warnings.warn(\n",
      "c:\\Users\\Melanie\\anaconda3\\lib\\site-packages\\sklearn\\linear_model\\_sag.py:349: ConvergenceWarning: The max_iter was reached which means the coef_ did not converge\n",
      "  warnings.warn(\n",
      "c:\\Users\\Melanie\\anaconda3\\lib\\site-packages\\sklearn\\linear_model\\_sag.py:349: ConvergenceWarning: The max_iter was reached which means the coef_ did not converge\n",
      "  warnings.warn(\n",
      "c:\\Users\\Melanie\\anaconda3\\lib\\site-packages\\sklearn\\linear_model\\_sag.py:349: ConvergenceWarning: The max_iter was reached which means the coef_ did not converge\n",
      "  warnings.warn(\n",
      "c:\\Users\\Melanie\\anaconda3\\lib\\site-packages\\sklearn\\linear_model\\_sag.py:349: ConvergenceWarning: The max_iter was reached which means the coef_ did not converge\n",
      "  warnings.warn(\n",
      "c:\\Users\\Melanie\\anaconda3\\lib\\site-packages\\sklearn\\linear_model\\_sag.py:349: ConvergenceWarning: The max_iter was reached which means the coef_ did not converge\n",
      "  warnings.warn(\n",
      "c:\\Users\\Melanie\\anaconda3\\lib\\site-packages\\sklearn\\linear_model\\_sag.py:349: ConvergenceWarning: The max_iter was reached which means the coef_ did not converge\n",
      "  warnings.warn(\n",
      "c:\\Users\\Melanie\\anaconda3\\lib\\site-packages\\sklearn\\linear_model\\_sag.py:349: ConvergenceWarning: The max_iter was reached which means the coef_ did not converge\n",
      "  warnings.warn(\n",
      "c:\\Users\\Melanie\\anaconda3\\lib\\site-packages\\sklearn\\linear_model\\_sag.py:349: ConvergenceWarning: The max_iter was reached which means the coef_ did not converge\n",
      "  warnings.warn(\n",
      "c:\\Users\\Melanie\\anaconda3\\lib\\site-packages\\sklearn\\linear_model\\_sag.py:349: ConvergenceWarning: The max_iter was reached which means the coef_ did not converge\n",
      "  warnings.warn(\n",
      "c:\\Users\\Melanie\\anaconda3\\lib\\site-packages\\sklearn\\linear_model\\_sag.py:349: ConvergenceWarning: The max_iter was reached which means the coef_ did not converge\n",
      "  warnings.warn(\n",
      "c:\\Users\\Melanie\\anaconda3\\lib\\site-packages\\sklearn\\linear_model\\_sag.py:349: ConvergenceWarning: The max_iter was reached which means the coef_ did not converge\n",
      "  warnings.warn(\n",
      "c:\\Users\\Melanie\\anaconda3\\lib\\site-packages\\sklearn\\linear_model\\_sag.py:349: ConvergenceWarning: The max_iter was reached which means the coef_ did not converge\n",
      "  warnings.warn(\n",
      "c:\\Users\\Melanie\\anaconda3\\lib\\site-packages\\sklearn\\linear_model\\_sag.py:349: ConvergenceWarning: The max_iter was reached which means the coef_ did not converge\n",
      "  warnings.warn(\n",
      "c:\\Users\\Melanie\\anaconda3\\lib\\site-packages\\sklearn\\linear_model\\_sag.py:349: ConvergenceWarning: The max_iter was reached which means the coef_ did not converge\n",
      "  warnings.warn(\n",
      "c:\\Users\\Melanie\\anaconda3\\lib\\site-packages\\sklearn\\linear_model\\_sag.py:349: ConvergenceWarning: The max_iter was reached which means the coef_ did not converge\n",
      "  warnings.warn(\n",
      "c:\\Users\\Melanie\\anaconda3\\lib\\site-packages\\sklearn\\linear_model\\_sag.py:349: ConvergenceWarning: The max_iter was reached which means the coef_ did not converge\n",
      "  warnings.warn(\n",
      "c:\\Users\\Melanie\\anaconda3\\lib\\site-packages\\sklearn\\linear_model\\_sag.py:349: ConvergenceWarning: The max_iter was reached which means the coef_ did not converge\n",
      "  warnings.warn(\n",
      "c:\\Users\\Melanie\\anaconda3\\lib\\site-packages\\sklearn\\linear_model\\_sag.py:349: ConvergenceWarning: The max_iter was reached which means the coef_ did not converge\n",
      "  warnings.warn(\n",
      "c:\\Users\\Melanie\\anaconda3\\lib\\site-packages\\sklearn\\linear_model\\_sag.py:349: ConvergenceWarning: The max_iter was reached which means the coef_ did not converge\n",
      "  warnings.warn(\n",
      "c:\\Users\\Melanie\\anaconda3\\lib\\site-packages\\sklearn\\linear_model\\_sag.py:349: ConvergenceWarning: The max_iter was reached which means the coef_ did not converge\n",
      "  warnings.warn(\n",
      "c:\\Users\\Melanie\\anaconda3\\lib\\site-packages\\sklearn\\linear_model\\_sag.py:349: ConvergenceWarning: The max_iter was reached which means the coef_ did not converge\n",
      "  warnings.warn(\n",
      "c:\\Users\\Melanie\\anaconda3\\lib\\site-packages\\sklearn\\linear_model\\_sag.py:349: ConvergenceWarning: The max_iter was reached which means the coef_ did not converge\n",
      "  warnings.warn(\n",
      "c:\\Users\\Melanie\\anaconda3\\lib\\site-packages\\sklearn\\linear_model\\_sag.py:349: ConvergenceWarning: The max_iter was reached which means the coef_ did not converge\n",
      "  warnings.warn(\n",
      "c:\\Users\\Melanie\\anaconda3\\lib\\site-packages\\sklearn\\linear_model\\_sag.py:349: ConvergenceWarning: The max_iter was reached which means the coef_ did not converge\n",
      "  warnings.warn(\n",
      "c:\\Users\\Melanie\\anaconda3\\lib\\site-packages\\sklearn\\linear_model\\_sag.py:349: ConvergenceWarning: The max_iter was reached which means the coef_ did not converge\n",
      "  warnings.warn(\n",
      "c:\\Users\\Melanie\\anaconda3\\lib\\site-packages\\sklearn\\linear_model\\_sag.py:349: ConvergenceWarning: The max_iter was reached which means the coef_ did not converge\n",
      "  warnings.warn(\n",
      "c:\\Users\\Melanie\\anaconda3\\lib\\site-packages\\sklearn\\linear_model\\_sag.py:349: ConvergenceWarning: The max_iter was reached which means the coef_ did not converge\n",
      "  warnings.warn(\n",
      "c:\\Users\\Melanie\\anaconda3\\lib\\site-packages\\sklearn\\linear_model\\_sag.py:349: ConvergenceWarning: The max_iter was reached which means the coef_ did not converge\n",
      "  warnings.warn(\n",
      "c:\\Users\\Melanie\\anaconda3\\lib\\site-packages\\sklearn\\linear_model\\_sag.py:349: ConvergenceWarning: The max_iter was reached which means the coef_ did not converge\n",
      "  warnings.warn(\n",
      "c:\\Users\\Melanie\\anaconda3\\lib\\site-packages\\sklearn\\linear_model\\_sag.py:349: ConvergenceWarning: The max_iter was reached which means the coef_ did not converge\n",
      "  warnings.warn(\n",
      "c:\\Users\\Melanie\\anaconda3\\lib\\site-packages\\sklearn\\linear_model\\_sag.py:349: ConvergenceWarning: The max_iter was reached which means the coef_ did not converge\n",
      "  warnings.warn(\n",
      "c:\\Users\\Melanie\\anaconda3\\lib\\site-packages\\sklearn\\linear_model\\_sag.py:349: ConvergenceWarning: The max_iter was reached which means the coef_ did not converge\n",
      "  warnings.warn(\n",
      "c:\\Users\\Melanie\\anaconda3\\lib\\site-packages\\sklearn\\linear_model\\_sag.py:349: ConvergenceWarning: The max_iter was reached which means the coef_ did not converge\n",
      "  warnings.warn(\n",
      "c:\\Users\\Melanie\\anaconda3\\lib\\site-packages\\sklearn\\linear_model\\_sag.py:349: ConvergenceWarning: The max_iter was reached which means the coef_ did not converge\n",
      "  warnings.warn(\n",
      "c:\\Users\\Melanie\\anaconda3\\lib\\site-packages\\sklearn\\linear_model\\_sag.py:349: ConvergenceWarning: The max_iter was reached which means the coef_ did not converge\n",
      "  warnings.warn(\n",
      "c:\\Users\\Melanie\\anaconda3\\lib\\site-packages\\sklearn\\model_selection\\_validation.py:540: FitFailedWarning: \n",
      "140 fits failed out of a total of 420.\n",
      "The score on these train-test partitions for these parameters will be set to nan.\n",
      "If these failures are not expected, you can try to debug them by setting error_score='raise'.\n",
      "\n",
      "Below are more details about the failures:\n",
      "--------------------------------------------------------------------------------\n",
      "35 fits failed with the following error:\n",
      "Traceback (most recent call last):\n",
      "  File \"c:\\Users\\Melanie\\anaconda3\\lib\\site-packages\\sklearn\\model_selection\\_validation.py\", line 888, in _fit_and_score\n",
      "    estimator.fit(X_train, y_train, **fit_params)\n",
      "  File \"c:\\Users\\Melanie\\anaconda3\\lib\\site-packages\\sklearn\\base.py\", line 1473, in wrapper\n",
      "    return fit_method(estimator, *args, **kwargs)\n",
      "  File \"c:\\Users\\Melanie\\anaconda3\\lib\\site-packages\\sklearn\\linear_model\\_logistic.py\", line 1194, in fit\n",
      "    solver = _check_solver(self.solver, self.penalty, self.dual)\n",
      "  File \"c:\\Users\\Melanie\\anaconda3\\lib\\site-packages\\sklearn\\linear_model\\_logistic.py\", line 67, in _check_solver\n",
      "    raise ValueError(\n",
      "ValueError: Solver lbfgs supports only 'l2' or None penalties, got l1 penalty.\n",
      "\n",
      "--------------------------------------------------------------------------------\n",
      "35 fits failed with the following error:\n",
      "Traceback (most recent call last):\n",
      "  File \"c:\\Users\\Melanie\\anaconda3\\lib\\site-packages\\sklearn\\model_selection\\_validation.py\", line 888, in _fit_and_score\n",
      "    estimator.fit(X_train, y_train, **fit_params)\n",
      "  File \"c:\\Users\\Melanie\\anaconda3\\lib\\site-packages\\sklearn\\base.py\", line 1473, in wrapper\n",
      "    return fit_method(estimator, *args, **kwargs)\n",
      "  File \"c:\\Users\\Melanie\\anaconda3\\lib\\site-packages\\sklearn\\linear_model\\_logistic.py\", line 1194, in fit\n",
      "    solver = _check_solver(self.solver, self.penalty, self.dual)\n",
      "  File \"c:\\Users\\Melanie\\anaconda3\\lib\\site-packages\\sklearn\\linear_model\\_logistic.py\", line 67, in _check_solver\n",
      "    raise ValueError(\n",
      "ValueError: Solver newton-cg supports only 'l2' or None penalties, got l1 penalty.\n",
      "\n",
      "--------------------------------------------------------------------------------\n",
      "35 fits failed with the following error:\n",
      "Traceback (most recent call last):\n",
      "  File \"c:\\Users\\Melanie\\anaconda3\\lib\\site-packages\\sklearn\\model_selection\\_validation.py\", line 888, in _fit_and_score\n",
      "    estimator.fit(X_train, y_train, **fit_params)\n",
      "  File \"c:\\Users\\Melanie\\anaconda3\\lib\\site-packages\\sklearn\\base.py\", line 1473, in wrapper\n",
      "    return fit_method(estimator, *args, **kwargs)\n",
      "  File \"c:\\Users\\Melanie\\anaconda3\\lib\\site-packages\\sklearn\\linear_model\\_logistic.py\", line 1194, in fit\n",
      "    solver = _check_solver(self.solver, self.penalty, self.dual)\n",
      "  File \"c:\\Users\\Melanie\\anaconda3\\lib\\site-packages\\sklearn\\linear_model\\_logistic.py\", line 67, in _check_solver\n",
      "    raise ValueError(\n",
      "ValueError: Solver newton-cholesky supports only 'l2' or None penalties, got l1 penalty.\n",
      "\n",
      "--------------------------------------------------------------------------------\n",
      "35 fits failed with the following error:\n",
      "Traceback (most recent call last):\n",
      "  File \"c:\\Users\\Melanie\\anaconda3\\lib\\site-packages\\sklearn\\model_selection\\_validation.py\", line 888, in _fit_and_score\n",
      "    estimator.fit(X_train, y_train, **fit_params)\n",
      "  File \"c:\\Users\\Melanie\\anaconda3\\lib\\site-packages\\sklearn\\base.py\", line 1473, in wrapper\n",
      "    return fit_method(estimator, *args, **kwargs)\n",
      "  File \"c:\\Users\\Melanie\\anaconda3\\lib\\site-packages\\sklearn\\linear_model\\_logistic.py\", line 1194, in fit\n",
      "    solver = _check_solver(self.solver, self.penalty, self.dual)\n",
      "  File \"c:\\Users\\Melanie\\anaconda3\\lib\\site-packages\\sklearn\\linear_model\\_logistic.py\", line 67, in _check_solver\n",
      "    raise ValueError(\n",
      "ValueError: Solver sag supports only 'l2' or None penalties, got l1 penalty.\n",
      "\n",
      "  warnings.warn(some_fits_failed_message, FitFailedWarning)\n",
      "c:\\Users\\Melanie\\anaconda3\\lib\\site-packages\\sklearn\\model_selection\\_search.py:1102: UserWarning: One or more of the test scores are non-finite: [       nan 0.6711887         nan        nan        nan 0.6711887\n",
      " 0.6711887  0.68152431 0.6711887  0.6711887  0.6711887  0.6711887\n",
      "        nan 0.70899161        nan        nan        nan 0.8091073\n",
      " 0.82040909 0.79586273 0.82040909 0.82040909 0.82040909 0.82040909\n",
      "        nan 0.85368284        nan        nan        nan 0.8527151\n",
      " 0.85497733 0.85594142 0.85529991 0.85529991 0.85529991 0.85529991\n",
      "        nan 0.8727422         nan        nan        nan 0.87274272\n",
      " 0.86951066 0.86854187 0.86918756 0.86918756 0.86918756 0.86918756\n",
      "        nan 0.86886654        nan        nan        nan 0.86854396\n",
      " 0.87015738 0.8701579  0.8701579  0.8701579  0.8701579  0.8701579\n",
      "        nan 0.86725103        nan        nan        nan 0.86886706\n",
      " 0.86886706 0.86886654 0.86854396 0.86854396 0.86822138 0.86886758\n",
      "        nan 0.86628225        nan        nan        nan 0.86886706\n",
      " 0.86757569 0.86757413 0.86789671 0.86757413 0.86854396 0.86886706]\n",
      "  warnings.warn(\n",
      "c:\\Users\\Melanie\\anaconda3\\lib\\site-packages\\sklearn\\model_selection\\_search.py:1102: UserWarning: One or more of the train scores are non-finite: [       nan 0.67118863        nan        nan        nan 0.67118863\n",
      " 0.67118863 0.68071701 0.67118863 0.67118863 0.67118863 0.67118863\n",
      "        nan 0.71422457        nan        nan        nan 0.80910845\n",
      " 0.8207364  0.80095264 0.82081714 0.8207364  0.8207364  0.8207364\n",
      "        nan 0.85788143        nan        nan        nan 0.85440919\n",
      " 0.86506793 0.86450273 0.86506793 0.86522942 0.86522942 0.86522942\n",
      "        nan 0.88307515        nan        nan        nan 0.88259069\n",
      " 0.88137925 0.8817829  0.88137925 0.88146    0.88146    0.88146\n",
      "        nan 0.88727407        nan        nan        nan 0.88703184\n",
      " 0.88678948 0.88751633 0.88703177 0.88695103 0.88695103 0.88703177\n",
      "        nan 0.88743552        nan        nan        nan 0.88711252\n",
      " 0.88711252 0.88719326 0.88711252 0.88719326 0.88719326 0.88695103\n",
      "        nan 0.88735478        nan        nan        nan 0.887274\n",
      " 0.88719329 0.88751626 0.88751626 0.88751626 0.88743552 0.88719326]\n",
      "  warnings.warn(\n",
      "c:\\Users\\Melanie\\anaconda3\\lib\\site-packages\\sklearn\\model_selection\\_search.py:1102: UserWarning: One or more of the test scores are non-finite: [       nan 0.                nan        nan        nan 0.\n",
      " 0.         0.03239158 0.         0.         0.         0.\n",
      "        nan 0.13576741        nan        nan        nan 0.51767121\n",
      " 0.50979426 0.43022795 0.50979426 0.50979426 0.50979426 0.50979426\n",
      "        nan 0.64145658        nan        nan        nan 0.64146141\n",
      " 0.65226987 0.63750604 0.65325027 0.65325027 0.65325027 0.65325027\n",
      "        nan 0.7200425         nan        nan        nan 0.72102289\n",
      " 0.70531247 0.69942529 0.70433208 0.70531247 0.70531247 0.70531247\n",
      "        nan 0.72691973        nan        nan        nan 0.72495895\n",
      " 0.71906211 0.71905728 0.72003767 0.72003767 0.72003767 0.72003767\n",
      "        nan 0.72691007        nan        nan        nan 0.7269149\n",
      " 0.7269149  0.7278953  0.7269149  0.7269149  0.72593451 0.72495412\n",
      "        nan 0.72592968        nan        nan        nan 0.7269149\n",
      " 0.7269149  0.72691007 0.72789047 0.72691007 0.7269149  0.7269149 ]\n",
      "  warnings.warn(\n",
      "c:\\Users\\Melanie\\anaconda3\\lib\\site-packages\\sklearn\\model_selection\\_search.py:1102: UserWarning: One or more of the train scores are non-finite: [       nan 0.                nan        nan        nan 0.\n",
      " 0.         0.02922265 0.         0.         0.         0.\n",
      "        nan 0.15367269        nan        nan        nan 0.51768107\n",
      " 0.51203539 0.44179648 0.51228079 0.51203539 0.51203539 0.51203539\n",
      "        nan 0.64882471        nan        nan        nan 0.64685971\n",
      " 0.67092416 0.65618969 0.67141526 0.67141526 0.67141526 0.67141526\n",
      "        nan 0.73919658        nan        nan        nan 0.73919627\n",
      " 0.7222508  0.72298669 0.72225019 0.72249619 0.72249619 0.72249619\n",
      "        nan 0.75466725        nan        nan        nan 0.75368505\n",
      " 0.75073755 0.75196575 0.75122895 0.75098325 0.75098325 0.75098325\n",
      "        nan 0.75884265        nan        nan        nan 0.75663225\n",
      " 0.75663225 0.75761445 0.75736905 0.75761445 0.75687795 0.75540435\n",
      "        nan 0.75884265        nan        nan        nan 0.75736844\n",
      " 0.75908774 0.75884265 0.75884265 0.75884265 0.75884265 0.75687765]\n",
      "  warnings.warn(\n",
      "c:\\Users\\Melanie\\anaconda3\\lib\\site-packages\\sklearn\\model_selection\\_search.py:1102: UserWarning: One or more of the test scores are non-finite: [       nan 0.                nan        nan        nan 0.\n",
      " 0.         0.06243461 0.         0.         0.         0.\n",
      "        nan 0.22112412        nan        nan        nan 0.64037757\n",
      " 0.65042173 0.58046591 0.65042173 0.65042173 0.65042173 0.65042173\n",
      "        nan 0.74229171        nan        nan        nan 0.74121894\n",
      " 0.7473992  0.74420342 0.74810096 0.74810096 0.74810096 0.74810096\n",
      "        nan 0.78819607        nan        nan        nan 0.78843258\n",
      " 0.78034071 0.77765023 0.77963728 0.77987524 0.77987524 0.77987524\n",
      "        nan 0.78479128        nan        nan        nan 0.78387433\n",
      " 0.78457759 0.78460404 0.78481442 0.78481442 0.78481442 0.78481442\n",
      "        nan 0.78268249        nan        nan        nan 0.78481191\n",
      " 0.78481191 0.78501788 0.78438773 0.78438773 0.78375433 0.7843721\n",
      "        nan 0.78122709        nan        nan        nan 0.78481191\n",
      " 0.7831483  0.78311898 0.78374591 0.78311898 0.78438773 0.78481191]\n",
      "  warnings.warn(\n",
      "c:\\Users\\Melanie\\anaconda3\\lib\\site-packages\\sklearn\\model_selection\\_search.py:1102: UserWarning: One or more of the train scores are non-finite: [       nan 0.                nan        nan        nan 0.\n",
      " 0.         0.05674837 0.         0.         0.         0.\n",
      "        nan 0.24390965        nan        nan        nan 0.64070762\n",
      " 0.65252476 0.59341061 0.65273252 0.65252476 0.65252476 0.65252476\n",
      "        nan 0.75013392        nan        nan        nan 0.74501072\n",
      " 0.76580639 0.7610372  0.76593711 0.76615271 0.76615271 0.76615271\n",
      "        nan 0.80609829        nan        nan        nan 0.80544951\n",
      " 0.80015806 0.8008617  0.80015769 0.80031932 0.80031932 0.80031932\n",
      "        nan 0.81490629        nan        nan        nan 0.81438576\n",
      " 0.81346566 0.8146875  0.81388993 0.81373188 0.81373188 0.81384078\n",
      "        nan 0.81595122        nan        nan        nan 0.81508001\n",
      " 0.81507812 0.81537913 0.8152231  0.81537913 0.81523241 0.81461905\n",
      "        nan 0.81584106        nan        nan        nan 0.81544196\n",
      " 0.81568047 0.81605609 0.81605609 0.81605609 0.81595122 0.81523597]\n",
      "  warnings.warn(\n"
     ]
    }
   ],
   "source": [
    "from sklearn.model_selection import GridSearchCV\n",
    "\n",
    "# define possible parameters\n",
    "parameters = {'penalty':['l1', 'l2'], # exclude penalties 'none' and 'elasticnet' because they will produce NaN\n",
    "              'solver':['lbfgs', 'liblinear', 'newton-cg', 'newton-cholesky', 'sag', 'saga'],\n",
    "              'C':[0.001, 0.01, 0.1, 1, 10, 100, 1000]} # use logarithmic scale to test wide range of C values\n",
    "\n",
    "# fit \n",
    "lrg = LogisticRegression()\n",
    "f1 = make_scorer(f1_score)\n",
    "clf = GridSearchCV(lrg, parameters, scoring=['accuracy', 'recall', 'f1'], return_train_score=True, refit=False)\n",
    "\n",
    "y_train = y_train.to_numpy()\n",
    "y_train = y_train.ravel()\n",
    "\n",
    "clf.fit(X_train, y_train)\n",
    "\n",
    "# see results\n",
    "gs_results = pd.DataFrame(clf.cv_results_)"
   ]
  },
  {
   "cell_type": "markdown",
   "metadata": {},
   "source": [
    "Filter the results dataframe and reformat into a digestible form."
   ]
  },
  {
   "cell_type": "code",
   "execution_count": 33,
   "metadata": {},
   "outputs": [],
   "source": [
    "# remove rows with NaN\n",
    "# these rows represent incompatible parameter combinations\n",
    "gs_results = gs_results.dropna(axis=0)\n",
    "\n",
    "# columns of interest\n",
    "columns = ['param_C', 'param_penalty', 'param_solver', \n",
    "           'mean_test_accuracy', \n",
    "           'mean_test_recall', \n",
    "           'mean_test_f1']\n",
    "\n",
    "# sort by mean_test_score\n",
    "gs_recall = gs_results[columns].sort_values(by='mean_test_recall', axis=0, ascending=False, ignore_index=True)\n",
    "gs_accuracy = gs_results[columns].sort_values(by='mean_test_accuracy', axis=0, ascending=False, ignore_index=True)"
   ]
  },
  {
   "cell_type": "code",
   "execution_count": 34,
   "metadata": {},
   "outputs": [
    {
     "data": {
      "text/html": [
       "<div>\n",
       "<style scoped>\n",
       "    .dataframe tbody tr th:only-of-type {\n",
       "        vertical-align: middle;\n",
       "    }\n",
       "\n",
       "    .dataframe tbody tr th {\n",
       "        vertical-align: top;\n",
       "    }\n",
       "\n",
       "    .dataframe thead th {\n",
       "        text-align: right;\n",
       "    }\n",
       "</style>\n",
       "<table border=\"1\" class=\"dataframe\">\n",
       "  <thead>\n",
       "    <tr style=\"text-align: right;\">\n",
       "      <th></th>\n",
       "      <th>param_C</th>\n",
       "      <th>param_penalty</th>\n",
       "      <th>param_solver</th>\n",
       "      <th>mean_test_accuracy</th>\n",
       "      <th>mean_test_recall</th>\n",
       "      <th>mean_test_f1</th>\n",
       "    </tr>\n",
       "  </thead>\n",
       "  <tbody>\n",
       "    <tr>\n",
       "      <th>0</th>\n",
       "      <td>100.0</td>\n",
       "      <td>l2</td>\n",
       "      <td>liblinear</td>\n",
       "      <td>0.868867</td>\n",
       "      <td>0.727895</td>\n",
       "      <td>0.785018</td>\n",
       "    </tr>\n",
       "    <tr>\n",
       "      <th>1</th>\n",
       "      <td>1000.0</td>\n",
       "      <td>l2</td>\n",
       "      <td>newton-cg</td>\n",
       "      <td>0.867897</td>\n",
       "      <td>0.727890</td>\n",
       "      <td>0.783746</td>\n",
       "    </tr>\n",
       "    <tr>\n",
       "      <th>2</th>\n",
       "      <td>10.0</td>\n",
       "      <td>l1</td>\n",
       "      <td>liblinear</td>\n",
       "      <td>0.868867</td>\n",
       "      <td>0.726920</td>\n",
       "      <td>0.784791</td>\n",
       "    </tr>\n",
       "    <tr>\n",
       "      <th>3</th>\n",
       "      <td>1000.0</td>\n",
       "      <td>l2</td>\n",
       "      <td>saga</td>\n",
       "      <td>0.868867</td>\n",
       "      <td>0.726915</td>\n",
       "      <td>0.784812</td>\n",
       "    </tr>\n",
       "    <tr>\n",
       "      <th>4</th>\n",
       "      <td>100.0</td>\n",
       "      <td>l2</td>\n",
       "      <td>newton-cholesky</td>\n",
       "      <td>0.868544</td>\n",
       "      <td>0.726915</td>\n",
       "      <td>0.784388</td>\n",
       "    </tr>\n",
       "  </tbody>\n",
       "</table>\n",
       "</div>"
      ],
      "text/plain": [
       "   param_C param_penalty     param_solver  mean_test_accuracy  \\\n",
       "0    100.0            l2        liblinear            0.868867   \n",
       "1   1000.0            l2        newton-cg            0.867897   \n",
       "2     10.0            l1        liblinear            0.868867   \n",
       "3   1000.0            l2             saga            0.868867   \n",
       "4    100.0            l2  newton-cholesky            0.868544   \n",
       "\n",
       "   mean_test_recall  mean_test_f1  \n",
       "0          0.727895      0.785018  \n",
       "1          0.727890      0.783746  \n",
       "2          0.726920      0.784791  \n",
       "3          0.726915      0.784812  \n",
       "4          0.726915      0.784388  "
      ]
     },
     "execution_count": 34,
     "metadata": {},
     "output_type": "execute_result"
    }
   ],
   "source": [
    "# VIEW HIGHEST RECALL\n",
    "gs_recall.head()"
   ]
  },
  {
   "cell_type": "code",
   "execution_count": 35,
   "metadata": {},
   "outputs": [
    {
     "data": {
      "text/html": [
       "<div>\n",
       "<style scoped>\n",
       "    .dataframe tbody tr th:only-of-type {\n",
       "        vertical-align: middle;\n",
       "    }\n",
       "\n",
       "    .dataframe tbody tr th {\n",
       "        vertical-align: top;\n",
       "    }\n",
       "\n",
       "    .dataframe thead th {\n",
       "        text-align: right;\n",
       "    }\n",
       "</style>\n",
       "<table border=\"1\" class=\"dataframe\">\n",
       "  <thead>\n",
       "    <tr style=\"text-align: right;\">\n",
       "      <th></th>\n",
       "      <th>param_C</th>\n",
       "      <th>param_penalty</th>\n",
       "      <th>param_solver</th>\n",
       "      <th>mean_test_accuracy</th>\n",
       "      <th>mean_test_recall</th>\n",
       "      <th>mean_test_f1</th>\n",
       "    </tr>\n",
       "  </thead>\n",
       "  <tbody>\n",
       "    <tr>\n",
       "      <th>0</th>\n",
       "      <td>1.0</td>\n",
       "      <td>l1</td>\n",
       "      <td>saga</td>\n",
       "      <td>0.872743</td>\n",
       "      <td>0.721023</td>\n",
       "      <td>0.788433</td>\n",
       "    </tr>\n",
       "    <tr>\n",
       "      <th>1</th>\n",
       "      <td>1.0</td>\n",
       "      <td>l1</td>\n",
       "      <td>liblinear</td>\n",
       "      <td>0.872742</td>\n",
       "      <td>0.720042</td>\n",
       "      <td>0.788196</td>\n",
       "    </tr>\n",
       "    <tr>\n",
       "      <th>2</th>\n",
       "      <td>10.0</td>\n",
       "      <td>l2</td>\n",
       "      <td>saga</td>\n",
       "      <td>0.870158</td>\n",
       "      <td>0.720038</td>\n",
       "      <td>0.784814</td>\n",
       "    </tr>\n",
       "    <tr>\n",
       "      <th>3</th>\n",
       "      <td>10.0</td>\n",
       "      <td>l2</td>\n",
       "      <td>liblinear</td>\n",
       "      <td>0.870158</td>\n",
       "      <td>0.719057</td>\n",
       "      <td>0.784604</td>\n",
       "    </tr>\n",
       "    <tr>\n",
       "      <th>4</th>\n",
       "      <td>10.0</td>\n",
       "      <td>l2</td>\n",
       "      <td>newton-cg</td>\n",
       "      <td>0.870158</td>\n",
       "      <td>0.720038</td>\n",
       "      <td>0.784814</td>\n",
       "    </tr>\n",
       "  </tbody>\n",
       "</table>\n",
       "</div>"
      ],
      "text/plain": [
       "   param_C param_penalty param_solver  mean_test_accuracy  mean_test_recall  \\\n",
       "0      1.0            l1         saga            0.872743          0.721023   \n",
       "1      1.0            l1    liblinear            0.872742          0.720042   \n",
       "2     10.0            l2         saga            0.870158          0.720038   \n",
       "3     10.0            l2    liblinear            0.870158          0.719057   \n",
       "4     10.0            l2    newton-cg            0.870158          0.720038   \n",
       "\n",
       "   mean_test_f1  \n",
       "0      0.788433  \n",
       "1      0.788196  \n",
       "2      0.784814  \n",
       "3      0.784604  \n",
       "4      0.784814  "
      ]
     },
     "execution_count": 35,
     "metadata": {},
     "output_type": "execute_result"
    }
   ],
   "source": [
    "# VIEW HIGHEST ACCURACY\n",
    "gs_accuracy.head()"
   ]
  },
  {
   "cell_type": "markdown",
   "metadata": {},
   "source": [
    "Let Model R be the model with the highest recall. Let Model A be the model with the highest accuracy. Model A has a significant improvement in accuracy at the cost of only a slight decrease in recall. We'll proceed with Model A and tune the decision threshold to achieve a higher ratio of false positives. <br>\n",
    "Overall, it seems that the model is not very sensitive to penalty or solver, and only slightly sensitive to C."
   ]
  },
  {
   "cell_type": "code",
   "execution_count": 52,
   "metadata": {},
   "outputs": [
    {
     "data": {
      "text/plain": [
       "<sklearn.metrics._plot.roc_curve.RocCurveDisplay at 0x1fe2a794a00>"
      ]
     },
     "execution_count": 52,
     "metadata": {},
     "output_type": "execute_result"
    },
    {
     "data": {
      "image/png": "[encoded data removed]",
      "text/plain": [
       "<Figure size 432x288 with 1 Axes>"
      ]
     },
     "metadata": {
      "needs_background": "light"
     },
     "output_type": "display_data"
    },
    {
     "data": {
      "image/png": "[encoded data removed]",
      "text/plain": [
       "<Figure size 432x288 with 1 Axes>"
      ]
     },
     "metadata": {
      "needs_background": "light"
     },
     "output_type": "display_data"
    }
   ],
   "source": [
    "# CONFUSION MATRIX\n",
    "\n",
    "clf_param_tuned = LogisticRegression(penalty='l1', solver='saga', max_iter=10000).fit(X_train, y_train)\n",
    "\n",
    "ConfusionMatrixDisplay.from_estimator(clf_param_tuned, X_test, y_test, normalize='true', colorbar=False)\n",
    "RocCurveDisplay.from_estimator(clf_param_tuned, X_test, y_test)"
   ]
  },
  {
   "cell_type": "markdown",
   "metadata": {},
   "source": [
    "The confusion matrix for the hyperparameter tuned model is a slight improvement over the vanilla model, but still needs a huge reduction of false negatives. The AUC is only 0.01 higher than the vanilla model. "
   ]
  },
  {
   "cell_type": "markdown",
   "metadata": {},
   "source": [
    "### Decision threshold"
   ]
  },
  {
   "cell_type": "markdown",
   "metadata": {},
   "source": [
    "Now we need to find the optimal threshold. Let's start with finding the max F1 score and adjust from there."
   ]
  },
  {
   "cell_type": "code",
   "execution_count": 53,
   "metadata": {},
   "outputs": [
    {
     "data": {
      "text/plain": [
       "<sklearn.metrics._plot.roc_curve.RocCurveDisplay at 0x1fe2a5f7610>"
      ]
     },
     "execution_count": 53,
     "metadata": {},
     "output_type": "execute_result"
    },
    {
     "data": {
      "image/png": "[encoded data removed]",
      "text/plain": [
       "<Figure size 432x288 with 1 Axes>"
      ]
     },
     "metadata": {
      "needs_background": "light"
     },
     "output_type": "display_data"
    },
    {
     "data": {
      "image/png": "[encoded data removed]",
      "text/plain": [
       "<Figure size 432x288 with 1 Axes>"
      ]
     },
     "metadata": {
      "needs_background": "light"
     },
     "output_type": "display_data"
    }
   ],
   "source": [
    "from sklearn.model_selection import TunedThresholdClassifierCV\n",
    "\n",
    "clf_desc_tuned = TunedThresholdClassifierCV(estimator=clf_param_tuned, scoring=f1, store_cv_results=True).fit(X_train, y_train)\n",
    "\n",
    "ConfusionMatrixDisplay.from_estimator(clf_desc_tuned, X_test, y_test, normalize='true', colorbar=False)"
   ]
  },
  {
   "cell_type": "markdown",
   "metadata": {},
   "source": [
    "This confusion matrix is far more balanced than the previous ones, but we'd rather the false positive rate be a bit higher. Let's do this by maximizing a custom scoring method which is the F1 score but with more weight given to recall. "
   ]
  },
  {
   "cell_type": "code",
   "execution_count": 65,
   "metadata": {},
   "outputs": [
    {
     "data": {
      "text/plain": [
       "<sklearn.metrics._plot.confusion_matrix.ConfusionMatrixDisplay at 0x1fe2a794e20>"
      ]
     },
     "execution_count": 65,
     "metadata": {},
     "output_type": "execute_result"
    },
    {
     "data": {
      "image/png": "[encoded data removed]",
      "text/plain": [
       "<Figure size 432x288 with 1 Axes>"
      ]
     },
     "metadata": {
      "needs_background": "light"
     },
     "output_type": "display_data"
    }
   ],
   "source": [
    "def custom_f1(y_true, y_pred, beta):\n",
    "    precision = precision_score(y_true, y_pred)\n",
    "    recall = recall_score(y_true, y_pred)\n",
    "    custom_f1 = (1 + beta**2) * (precision * recall) / (beta**2 * precision + recall)\n",
    "    return custom_f1\n",
    "\n",
    "custom_scorer = make_scorer(custom_f1, beta=1.7)\n",
    "\n",
    "clf_custom_tuned = TunedThresholdClassifierCV(estimator=clf_param_tuned, scoring=custom_scorer, store_cv_results=True).fit(X_train, y_train)\n",
    "\n",
    "ConfusionMatrixDisplay.from_estimator(clf_custom_tuned, X_test, y_test, normalize='true', colorbar=False)"
   ]
  },
  {
   "cell_type": "code",
   "execution_count": 77,
   "metadata": {},
   "outputs": [],
   "source": [
    "# PLOT SCORES DEPENDENT ON BETA VALUE IN CUSTOM SCORER\n",
    "\n",
    "y_true = y_test\n",
    "\n",
    "accuracy = []\n",
    "recall = []\n",
    "precision = []\n",
    "\n",
    "for beta in np.arange(1, 2, 0.1):\n",
    "\n",
    "    custom_scorer = make_scorer(custom_f1, beta=beta)\n",
    "    clf_custom_tuned = TunedThresholdClassifierCV(estimator=clf_param_tuned, scoring=custom_scorer, store_cv_results=True).fit(X_train, y_train)\n",
    "    y_pred = clf_custom_tuned.predict(X_test)\n",
    "\n",
    "    accuracy.append(accuracy_score(y_true, y_pred))\n",
    "    recall.append(recall_score(y_true, y_pred))\n",
    "    precision.append(precision_score(y_true, y_pred))\n"
   ]
  },
  {
   "cell_type": "code",
   "execution_count": 81,
   "metadata": {},
   "outputs": [
    {
     "data": {
      "text/html": [
       "<div>\n",
       "<style scoped>\n",
       "    .dataframe tbody tr th:only-of-type {\n",
       "        vertical-align: middle;\n",
       "    }\n",
       "\n",
       "    .dataframe tbody tr th {\n",
       "        vertical-align: top;\n",
       "    }\n",
       "\n",
       "    .dataframe thead th {\n",
       "        text-align: right;\n",
       "    }\n",
       "</style>\n",
       "<table border=\"1\" class=\"dataframe\">\n",
       "  <thead>\n",
       "    <tr style=\"text-align: right;\">\n",
       "      <th></th>\n",
       "      <th>beta</th>\n",
       "      <th>accuracy</th>\n",
       "      <th>precision</th>\n",
       "      <th>recall</th>\n",
       "    </tr>\n",
       "  </thead>\n",
       "  <tbody>\n",
       "    <tr>\n",
       "      <th>0</th>\n",
       "      <td>1.0</td>\n",
       "      <td>0.860693</td>\n",
       "      <td>0.748858</td>\n",
       "      <td>0.813896</td>\n",
       "    </tr>\n",
       "    <tr>\n",
       "      <th>1</th>\n",
       "      <td>1.1</td>\n",
       "      <td>0.860693</td>\n",
       "      <td>0.748858</td>\n",
       "      <td>0.813896</td>\n",
       "    </tr>\n",
       "    <tr>\n",
       "      <th>2</th>\n",
       "      <td>1.2</td>\n",
       "      <td>0.860693</td>\n",
       "      <td>0.748858</td>\n",
       "      <td>0.813896</td>\n",
       "    </tr>\n",
       "    <tr>\n",
       "      <th>3</th>\n",
       "      <td>1.3</td>\n",
       "      <td>0.860693</td>\n",
       "      <td>0.748858</td>\n",
       "      <td>0.813896</td>\n",
       "    </tr>\n",
       "    <tr>\n",
       "      <th>4</th>\n",
       "      <td>1.4</td>\n",
       "      <td>0.856928</td>\n",
       "      <td>0.738255</td>\n",
       "      <td>0.818859</td>\n",
       "    </tr>\n",
       "    <tr>\n",
       "      <th>5</th>\n",
       "      <td>1.5</td>\n",
       "      <td>0.856928</td>\n",
       "      <td>0.738255</td>\n",
       "      <td>0.818859</td>\n",
       "    </tr>\n",
       "    <tr>\n",
       "      <th>6</th>\n",
       "      <td>1.6</td>\n",
       "      <td>0.847892</td>\n",
       "      <td>0.713376</td>\n",
       "      <td>0.833747</td>\n",
       "    </tr>\n",
       "    <tr>\n",
       "      <th>7</th>\n",
       "      <td>1.7</td>\n",
       "      <td>0.824548</td>\n",
       "      <td>0.659774</td>\n",
       "      <td>0.870968</td>\n",
       "    </tr>\n",
       "    <tr>\n",
       "      <th>8</th>\n",
       "      <td>1.8</td>\n",
       "      <td>0.822289</td>\n",
       "      <td>0.654917</td>\n",
       "      <td>0.875931</td>\n",
       "    </tr>\n",
       "    <tr>\n",
       "      <th>9</th>\n",
       "      <td>1.9</td>\n",
       "      <td>0.822289</td>\n",
       "      <td>0.654917</td>\n",
       "      <td>0.875931</td>\n",
       "    </tr>\n",
       "  </tbody>\n",
       "</table>\n",
       "</div>"
      ],
      "text/plain": [
       "   beta  accuracy  precision    recall\n",
       "0   1.0  0.860693   0.748858  0.813896\n",
       "1   1.1  0.860693   0.748858  0.813896\n",
       "2   1.2  0.860693   0.748858  0.813896\n",
       "3   1.3  0.860693   0.748858  0.813896\n",
       "4   1.4  0.856928   0.738255  0.818859\n",
       "5   1.5  0.856928   0.738255  0.818859\n",
       "6   1.6  0.847892   0.713376  0.833747\n",
       "7   1.7  0.824548   0.659774  0.870968\n",
       "8   1.8  0.822289   0.654917  0.875931\n",
       "9   1.9  0.822289   0.654917  0.875931"
      ]
     },
     "execution_count": 81,
     "metadata": {},
     "output_type": "execute_result"
    }
   ],
   "source": [
    "scores = pd.DataFrame({'beta':np.arange(1, 2, 0.1),\n",
    "                       'accuracy':accuracy,\n",
    "                       'precision':precision,\n",
    "                       'recall':recall})\n",
    "\n",
    "scores"
   ]
  }
 ],
 "metadata": {
  "kernelspec": {
   "display_name": "base",
   "language": "python",
   "name": "python3"
  },
  "language_info": {
   "codemirror_mode": {
    "name": "ipython",
    "version": 3
   },
   "file_extension": ".py",
   "mimetype": "text/x-python",
   "name": "python",
   "nbconvert_exporter": "python",
   "pygments_lexer": "ipython3",
   "version": "3.9.12"
  }
 },
 "nbformat": 4,
 "nbformat_minor": 2
}
